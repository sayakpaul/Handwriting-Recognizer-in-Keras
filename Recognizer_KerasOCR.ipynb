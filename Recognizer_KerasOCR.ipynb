{
  "nbformat": 4,
  "nbformat_minor": 0,
  "metadata": {
    "colab": {
      "name": "Recognizer_KerasOCR.ipynb",
      "provenance": [],
      "collapsed_sections": [],
      "include_colab_link": true
    },
    "kernelspec": {
      "name": "python3",
      "display_name": "Python 3"
    },
    "accelerator": "GPU"
  },
  "cells": [
    {
      "cell_type": "markdown",
      "metadata": {
        "id": "view-in-github",
        "colab_type": "text"
      },
      "source": [
        "<a href=\"https://colab.research.google.com/github/sayakpaul/Handwriting-Recognizer-in-Keras/blob/main/Recognizer_KerasOCR.ipynb\" target=\"_parent\"><img src=\"https://colab.research.google.com/assets/colab-badge.svg\" alt=\"Open In Colab\"/></a>"
      ]
    },
    {
      "cell_type": "markdown",
      "metadata": {
        "id": "1V4_9chGp_oE"
      },
      "source": [
        "## References:\n",
        "* https://keras-ocr.readthedocs.io/en/latest/examples/fine_tuning_recognizer.html"
      ]
    },
    {
      "cell_type": "markdown",
      "metadata": {
        "id": "LkhO0e3oPCSE"
      },
      "source": [
        "## Initial setup"
      ]
    },
    {
      "cell_type": "code",
      "metadata": {
        "id": "6H6yrSa8k4Wo"
      },
      "source": [
        "!pip install -U git+https://github.com/faustomorales/keras-ocr.git#egg=keras-ocr\n",
        "!pip install -U opencv-python # We need the most recent version of OpenCV."
      ],
      "execution_count": null,
      "outputs": []
    },
    {
      "cell_type": "code",
      "metadata": {
        "colab": {
          "base_uri": "https://localhost:8080/"
        },
        "id": "Fsa1uhREgcOW",
        "outputId": "5e284cc6-09c3-404d-cd21-4b239588b42a"
      },
      "source": [
        "import matplotlib.pyplot as plt\n",
        "import numpy as np\n",
        "import keras_ocr\n",
        "import imgaug\n",
        "import os\n",
        "\n",
        "import tensorflow as tf\n",
        "print(tf.__version__)\n",
        "tf.random.set_seed(42)\n",
        "np.random.seed(42)"
      ],
      "execution_count": null,
      "outputs": [
        {
          "output_type": "stream",
          "text": [
            "2.4.0\n"
          ],
          "name": "stdout"
        }
      ]
    },
    {
      "cell_type": "code",
      "metadata": {
        "colab": {
          "base_uri": "https://localhost:8080/"
        },
        "id": "6esKhA_iaurG",
        "outputId": "31b102eb-0dcf-49d0-9c38-8a4e7d611cf6"
      },
      "source": [
        "!nvidia-smi"
      ],
      "execution_count": null,
      "outputs": [
        {
          "output_type": "stream",
          "text": [
            "Fri Jan 22 08:20:55 2021       \n",
            "+-----------------------------------------------------------------------------+\n",
            "| NVIDIA-SMI 460.32.03    Driver Version: 418.67       CUDA Version: 10.1     |\n",
            "|-------------------------------+----------------------+----------------------+\n",
            "| GPU  Name        Persistence-M| Bus-Id        Disp.A | Volatile Uncorr. ECC |\n",
            "| Fan  Temp  Perf  Pwr:Usage/Cap|         Memory-Usage | GPU-Util  Compute M. |\n",
            "|                               |                      |               MIG M. |\n",
            "|===============================+======================+======================|\n",
            "|   0  Tesla P100-PCIE...  Off  | 00000000:00:04.0 Off |                    0 |\n",
            "| N/A   33C    P0    25W / 250W |      0MiB / 16280MiB |      0%      Default |\n",
            "|                               |                      |                 ERR! |\n",
            "+-------------------------------+----------------------+----------------------+\n",
            "                                                                               \n",
            "+-----------------------------------------------------------------------------+\n",
            "| Processes:                                                                  |\n",
            "|  GPU   GI   CI        PID   Type   Process name                  GPU Memory |\n",
            "|        ID   ID                                                   Usage      |\n",
            "|=============================================================================|\n",
            "|  No running processes found                                                 |\n",
            "+-----------------------------------------------------------------------------+\n"
          ],
          "name": "stdout"
        }
      ]
    },
    {
      "cell_type": "markdown",
      "metadata": {
        "id": "5M0KAlL3PFP4"
      },
      "source": [
        "## Dataset gathering"
      ]
    },
    {
      "cell_type": "code",
      "metadata": {
        "id": "NvHIcL_4gHzE"
      },
      "source": [
        "!wget -q https://pis-datasets.s3.us-east-2.amazonaws.com/IAM_Words.zip\n",
        "!unzip -qq IAM_Words.zip"
      ],
      "execution_count": null,
      "outputs": []
    },
    {
      "cell_type": "code",
      "metadata": {
        "id": "n0oX7nx-bih-"
      },
      "source": [
        "!mkdir data\n",
        "!mkdir data/words\n",
        "!tar -C /content/data/words -xf IAM_Words/words.tgz\n",
        "!mv IAM_Words/words.txt /content/data"
      ],
      "execution_count": null,
      "outputs": []
    },
    {
      "cell_type": "code",
      "metadata": {
        "colab": {
          "base_uri": "https://localhost:8080/"
        },
        "id": "L_-4laoHjfW8",
        "outputId": "7902767f-e2ad-408e-881a-d3261963a194"
      },
      "source": [
        "!head -20 data/words.txt"
      ],
      "execution_count": null,
      "outputs": [
        {
          "output_type": "stream",
          "text": [
            "#--- words.txt ---------------------------------------------------------------#\n",
            "#\n",
            "# iam database word information\n",
            "#\n",
            "# format: a01-000u-00-00 ok 154 1 408 768 27 51 AT A\n",
            "#\n",
            "#     a01-000u-00-00  -> word id for line 00 in form a01-000u\n",
            "#     ok              -> result of word segmentation\n",
            "#                            ok: word was correctly\n",
            "#                            er: segmentation of word can be bad\n",
            "#\n",
            "#     154             -> graylevel to binarize the line containing this word\n",
            "#     1               -> number of components for this word\n",
            "#     408 768 27 51   -> bounding box around this word in x,y,w,h format\n",
            "#     AT              -> the grammatical tag for this word, see the\n",
            "#                        file tagset.txt for an explanation\n",
            "#     A               -> the transcription for this word\n",
            "#\n",
            "a01-000u-00-00 ok 154 408 768 27 51 AT A\n",
            "a01-000u-00-01 ok 154 507 766 213 48 NN MOVE\n"
          ],
          "name": "stdout"
        }
      ]
    },
    {
      "cell_type": "markdown",
      "metadata": {
        "id": "kQJ2tHzePI7d"
      },
      "source": [
        "## Create training and validation splits"
      ]
    },
    {
      "cell_type": "code",
      "metadata": {
        "colab": {
          "base_uri": "https://localhost:8080/"
        },
        "id": "2qFEmslChS3m",
        "outputId": "daf038e6-2931-4d6a-8862-0f703f4c009e"
      },
      "source": [
        "words_list = []\n",
        "\n",
        "words = open('/content/data/words.txt', 'r').readlines()\n",
        "for line in words:\n",
        "    if line[0]=='#':\n",
        "        continue\n",
        "    if line.split(\" \")[1]!=\"err\": # We won't need to deal with errored entries\n",
        "        words_list.append(line)\n",
        "\n",
        "len(words_list)"
      ],
      "execution_count": null,
      "outputs": [
        {
          "output_type": "execute_result",
          "data": {
            "text/plain": [
              "96456"
            ]
          },
          "metadata": {
            "tags": []
          },
          "execution_count": 7
        }
      ]
    },
    {
      "cell_type": "code",
      "metadata": {
        "colab": {
          "base_uri": "https://localhost:8080/"
        },
        "id": "Gt5ajRZBhvfU",
        "outputId": "39b2c2ff-45c8-48d1-8f32-922101e90e96"
      },
      "source": [
        "np.random.shuffle(words_list)\n",
        "splitIdx = int(0.9 * len(words_list))\n",
        "trainSamples = words_list[:splitIdx]\n",
        "validationSamples = words_list[splitIdx:]\n",
        "\n",
        "len(trainSamples), len(validationSamples)"
      ],
      "execution_count": null,
      "outputs": [
        {
          "output_type": "execute_result",
          "data": {
            "text/plain": [
              "(86810, 9646)"
            ]
          },
          "metadata": {
            "tags": []
          },
          "execution_count": 11
        }
      ]
    },
    {
      "cell_type": "code",
      "metadata": {
        "id": "Fp0w9LRBhzeF"
      },
      "source": [
        "def parse_path(file_line):\n",
        "    lineSplit = file_line.strip()\n",
        "    lineSplit = lineSplit.split(\" \")\n",
        "    # part1/part1-part2/part1-part2-part3.png\n",
        "    imageName = lineSplit[0] \n",
        "    partI = imageName.split(\"-\")[0]\n",
        "    partII = imageName.split(\"-\")[1]\n",
        "    img_path =  os.path.join(\"/content/data/words/\", partI, \n",
        "                (partI + '-' + partII),\n",
        "                (imageName + \".png\")\n",
        "    )\n",
        "    label = file_line.split(' ')[8:][0].strip() \n",
        "    if (os.path.getsize(img_path)!=0) & (label!=None):\n",
        "        return (img_path, None, label.lower())"
      ],
      "execution_count": null,
      "outputs": []
    },
    {
      "cell_type": "code",
      "metadata": {
        "colab": {
          "base_uri": "https://localhost:8080/"
        },
        "id": "YsGOsNYRi4Wv",
        "outputId": "4366d320-2e5e-44d9-f3d6-f6e055a20260"
      },
      "source": [
        "train_labels = [parse_path(file_line) for file_line in trainSamples \n",
        "                if parse_path(file_line)!=None]\n",
        "val_labels = [parse_path(file_line) for file_line in validationSamples \n",
        "              if parse_path(file_line)!=None]\n",
        "len(train_labels), len(val_labels)"
      ],
      "execution_count": null,
      "outputs": [
        {
          "output_type": "execute_result",
          "data": {
            "text/plain": [
              "(86809, 9645)"
            ]
          },
          "metadata": {
            "tags": []
          },
          "execution_count": 20
        }
      ]
    },
    {
      "cell_type": "code",
      "metadata": {
        "colab": {
          "base_uri": "https://localhost:8080/"
        },
        "id": "313NgDI7mmuj",
        "outputId": "767379c8-72fb-470a-e211-f523f9b8671b"
      },
      "source": [
        "train_labels[:5]"
      ],
      "execution_count": null,
      "outputs": [
        {
          "output_type": "execute_result",
          "data": {
            "text/plain": [
              "[('/content/data/words/f02/f02-033/f02-033-00-02.png', None, 'do'),\n",
              " ('/content/data/words/n02/n02-049/n02-049-05-01.png', None, 'his'),\n",
              " ('/content/data/words/g05/g05-087/g05-087-02-04.png', None, 'evidently'),\n",
              " ('/content/data/words/h07/h07-025/h07-025-01-03.png', None, 'prime'),\n",
              " ('/content/data/words/n01/n01-031/n01-031-03-09.png', None, ';')]"
            ]
          },
          "metadata": {
            "tags": []
          },
          "execution_count": 21
        }
      ]
    },
    {
      "cell_type": "markdown",
      "metadata": {
        "id": "KlLmci2PPOJ2"
      },
      "source": [
        "## Create data generators"
      ]
    },
    {
      "cell_type": "code",
      "metadata": {
        "colab": {
          "base_uri": "https://localhost:8080/"
        },
        "id": "bRjFe0fEmCnV",
        "outputId": "9614c69d-558b-482e-8c81-82778f5dc89f"
      },
      "source": [
        "recognizer = keras_ocr.recognition.Recognizer()\n",
        "recognizer.compile()"
      ],
      "execution_count": null,
      "outputs": [
        {
          "output_type": "stream",
          "text": [
            "Looking for /root/.keras-ocr/crnn_kurapan.h5\n",
            "Downloading /root/.keras-ocr/crnn_kurapan.h5\n"
          ],
          "name": "stdout"
        }
      ]
    },
    {
      "cell_type": "code",
      "metadata": {
        "id": "nnrILOAekgXz"
      },
      "source": [
        "batch_size = 8\n",
        "augmenter = imgaug.augmenters.Sequential([\n",
        "    imgaug.augmenters.GammaContrast(gamma=(0.25, 3.0)),\n",
        "])\n",
        "\n",
        "(training_image_gen, training_steps), (validation_image_gen, validation_steps) = [\n",
        "    (\n",
        "        keras_ocr.datasets.get_recognizer_image_generator(\n",
        "            labels=labels,\n",
        "            height=recognizer.model.input_shape[1],\n",
        "            width=recognizer.model.input_shape[2],\n",
        "            alphabet=recognizer.alphabet,\n",
        "            augmenter=augmenter\n",
        "        ),\n",
        "        len(labels) // batch_size\n",
        "    ) for labels, augmenter in [(train_labels, augmenter), (val_labels, None)]     \n",
        "]\n",
        "training_gen, validation_gen = [\n",
        "    recognizer.get_batch_generator(\n",
        "        image_generator=image_generator,\n",
        "        batch_size=batch_size\n",
        "    )\n",
        "    for image_generator in [training_image_gen, validation_image_gen]\n",
        "]"
      ],
      "execution_count": null,
      "outputs": []
    },
    {
      "cell_type": "code",
      "metadata": {
        "colab": {
          "base_uri": "https://localhost:8080/",
          "height": 133
        },
        "id": "spWIuIL4l64J",
        "outputId": "5ce0e5a5-68e3-45f6-e2bc-33b02c19cd9a"
      },
      "source": [
        "image, text = next(training_image_gen)\n",
        "plt.imshow(image)\n",
        "plt.title(text)\n",
        "plt.show()"
      ],
      "execution_count": null,
      "outputs": [
        {
          "output_type": "stream",
          "text": [
            "12322 / 86809 instances have illegal characters.\n"
          ],
          "name": "stdout"
        },
        {
          "output_type": "display_data",
          "data": {
            "image/png": "[encoded data removed]",
            "text/plain": [
              "<Figure size 432x288 with 1 Axes>"
            ]
          },
          "metadata": {
            "tags": [],
            "needs_background": "light"
          }
        }
      ]
    },
    {
      "cell_type": "markdown",
      "metadata": {
        "id": "bNU09rthNiyg"
      },
      "source": [
        "[Here's](https://keras-ocr.readthedocs.io/en/latest/examples/end_to_end_training.html#generating-synthetic-data) where you can know on what basis a character is termed as illegal in the framework. "
      ]
    },
    {
      "cell_type": "markdown",
      "metadata": {
        "id": "My5CauLVPRKI"
      },
      "source": [
        "## Model training and sample inference"
      ]
    },
    {
      "cell_type": "code",
      "metadata": {
        "colab": {
          "base_uri": "https://localhost:8080/"
        },
        "id": "jnIa6taxNhhB",
        "outputId": "a0a53e2f-0981-428f-90cb-be658a30bf50"
      },
      "source": [
        "callbacks = [\n",
        "    tf.keras.callbacks.EarlyStopping(monitor='val_loss', min_delta=0, patience=10, restore_best_weights=True),\n",
        "]\n",
        "history = recognizer.training_model.fit_generator(\n",
        "    generator=training_gen,\n",
        "    steps_per_epoch=training_steps,\n",
        "    validation_steps=validation_steps,\n",
        "    validation_data=validation_gen,\n",
        "    callbacks=callbacks,\n",
        "    epochs=1000\n",
        ")"
      ],
      "execution_count": null,
      "outputs": [
        {
          "output_type": "stream",
          "text": [
            "/usr/local/lib/python3.6/dist-packages/tensorflow/python/keras/engine/training.py:1844: UserWarning: `Model.fit_generator` is deprecated and will be removed in a future version. Please use `Model.fit`, which supports generators.\n",
            "  warnings.warn('`Model.fit_generator` is deprecated and '\n"
          ],
          "name": "stderr"
        },
        {
          "output_type": "stream",
          "text": [
            "Epoch 1/1000\n",
            "10851/10851 [==============================] - ETA: 0s - loss: 4.83491396 / 9645 instances have illegal characters.\n",
            "10851/10851 [==============================] - 765s 69ms/step - loss: 4.8348 - val_loss: 2.7913\n",
            "Epoch 2/1000\n",
            "10851/10851 [==============================] - 728s 67ms/step - loss: 2.7352 - val_loss: 2.3814\n",
            "Epoch 3/1000\n",
            "10851/10851 [==============================] - 703s 65ms/step - loss: 2.5155 - val_loss: 2.6978\n",
            "Epoch 4/1000\n",
            "10851/10851 [==============================] - 725s 67ms/step - loss: 5.8838 - val_loss: 2.4806\n",
            "Epoch 5/1000\n",
            "10851/10851 [==============================] - 718s 66ms/step - loss: 2.1935 - val_loss: 2.2792\n",
            "Epoch 6/1000\n",
            "10851/10851 [==============================] - 710s 65ms/step - loss: 2.1851 - val_loss: 2.2507\n",
            "Epoch 7/1000\n",
            "10851/10851 [==============================] - 700s 65ms/step - loss: 2.1589 - val_loss: 2.5480\n",
            "Epoch 8/1000\n",
            "10851/10851 [==============================] - 692s 64ms/step - loss: 2.2597 - val_loss: 2.5064\n",
            "Epoch 9/1000\n",
            "10851/10851 [==============================] - 706s 65ms/step - loss: 2.3399 - val_loss: 3.0601\n",
            "Epoch 10/1000\n",
            "10851/10851 [==============================] - 712s 66ms/step - loss: 2.5872 - val_loss: 2.8665\n",
            "Epoch 11/1000\n",
            "10851/10851 [==============================] - 720s 66ms/step - loss: 2.6751 - val_loss: 2.8264\n",
            "Epoch 12/1000\n",
            "10851/10851 [==============================] - 717s 66ms/step - loss: 2.6408 - val_loss: 3.2452\n",
            "Epoch 13/1000\n",
            "10851/10851 [==============================] - 721s 66ms/step - loss: 2.8635 - val_loss: 3.0980\n",
            "Epoch 14/1000\n",
            "10851/10851 [==============================] - 722s 67ms/step - loss: 2.9155 - val_loss: 3.0788\n",
            "Epoch 15/1000\n",
            "10851/10851 [==============================] - 723s 67ms/step - loss: 2.9245 - val_loss: 3.0868\n",
            "Epoch 16/1000\n",
            "10851/10851 [==============================] - 723s 67ms/step - loss: 3.1534 - val_loss: 3.2880\n"
          ],
          "name": "stdout"
        }
      ]
    },
    {
      "cell_type": "code",
      "metadata": {
        "colab": {
          "base_uri": "https://localhost:8080/",
          "height": 295
        },
        "id": "mDdtiiziSE_f",
        "outputId": "2ddbdaeb-7f28-422b-c67f-8451671edfac"
      },
      "source": [
        "plt.figure()\n",
        "plt.plot(history.history[\"loss\"], label=\"train_loss\")\n",
        "plt.plot(history.history[\"val_loss\"], label=\"val_loss\")\n",
        "plt.title(\"Training and Validation Loss on Dataset\")\n",
        "plt.xlabel(\"Epoch #\")\n",
        "plt.ylabel(\"Loss\")\n",
        "plt.legend(loc=\"lower left\")\n",
        "plt.show()"
      ],
      "execution_count": null,
      "outputs": [
        {
          "output_type": "display_data",
          "data": {
            "image/png": "[encoded data removed]",
            "text/plain": [
              "<Figure size 432x288 with 1 Axes>"
            ]
          },
          "metadata": {
            "tags": [],
            "needs_background": "light"
          }
        }
      ]
    },
    {
      "cell_type": "markdown",
      "metadata": {
        "id": "QoEiOzwuOr5p"
      },
      "source": [
        "The training seems to be a bit unstable. This can likely be mitigated by using a lower learning rate. "
      ]
    },
    {
      "cell_type": "code",
      "metadata": {
        "colab": {
          "base_uri": "https://localhost:8080/",
          "height": 201
        },
        "id": "GowCOjhCOe6x",
        "outputId": "e0c4f00a-a7e4-45e3-e143-5a594d537ae2"
      },
      "source": [
        "image_filepath, _, actual = val_labels[1]\n",
        "predicted = recognizer.recognize(image_filepath)\n",
        "print(f'Predicted: {predicted}, Actual: {actual}')\n",
        "_ = plt.imshow(keras_ocr.tools.read(image_filepath))"
      ],
      "execution_count": null,
      "outputs": [
        {
          "output_type": "stream",
          "text": [
            "Predicted: and, Actual: and\n"
          ],
          "name": "stdout"
        },
        {
          "output_type": "display_data",
          "data": {
            "image/png": "[encoded data removed]",
            "text/plain": [
              "<Figure size 432x288 with 1 Axes>"
            ]
          },
          "metadata": {
            "tags": [],
            "needs_background": "light"
          }
        }
      ]
    }
  ]
}