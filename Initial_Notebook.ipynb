{
  "nbformat": 4,
  "nbformat_minor": 0,
  "metadata": {
    "colab": {
      "name": "Handwritten_OCR.ipynb",
      "provenance": [],
      "collapsed_sections": [],
      "machine_shape": "hm",
      "include_colab_link": true
    },
    "kernelspec": {
      "display_name": "Python 3",
      "name": "python3"
    },
    "accelerator": "GPU",
    "widgets": {
      "application/vnd.jupyter.widget-state+json": {
        "863bfd50e00a43909f7e36186bcb0e45": {
          "model_module": "@jupyter-widgets/controls",
          "model_name": "HBoxModel",
          "model_module_version": "1.5.0",
          "state": {
            "_view_name": "HBoxView",
            "_dom_classes": [],
            "_model_name": "HBoxModel",
            "_view_module": "@jupyter-widgets/controls",
            "_model_module_version": "1.5.0",
            "_view_count": null,
            "_view_module_version": "1.5.0",
            "box_style": "",
            "layout": "IPY_MODEL_3d1abccd6bf04921a2f2d5a06e485efe",
            "_model_module": "@jupyter-widgets/controls",
            "children": [
              "IPY_MODEL_3cc7c624c1ca4d958b926e040bc91761",
              "IPY_MODEL_c2a3f91652e443c59e180ae7028a5490"
            ]
          }
        },
        "3d1abccd6bf04921a2f2d5a06e485efe": {
          "model_module": "@jupyter-widgets/base",
          "model_name": "LayoutModel",
          "model_module_version": "1.2.0",
          "state": {
            "_view_name": "LayoutView",
            "grid_template_rows": null,
            "right": null,
            "justify_content": null,
            "_view_module": "@jupyter-widgets/base",
            "overflow": null,
            "_model_module_version": "1.2.0",
            "_view_count": null,
            "flex_flow": null,
            "width": null,
            "min_width": null,
            "border": null,
            "align_items": null,
            "bottom": null,
            "_model_module": "@jupyter-widgets/base",
            "top": null,
            "grid_column": null,
            "overflow_y": null,
            "overflow_x": null,
            "grid_auto_flow": null,
            "grid_area": null,
            "grid_template_columns": null,
            "flex": null,
            "_model_name": "LayoutModel",
            "justify_items": null,
            "grid_row": null,
            "max_height": null,
            "align_content": null,
            "visibility": null,
            "align_self": null,
            "height": null,
            "min_height": null,
            "padding": null,
            "grid_auto_rows": null,
            "grid_gap": null,
            "max_width": null,
            "order": null,
            "_view_module_version": "1.2.0",
            "grid_template_areas": null,
            "object_position": null,
            "object_fit": null,
            "grid_auto_columns": null,
            "margin": null,
            "display": null,
            "left": null
          }
        },
        "3cc7c624c1ca4d958b926e040bc91761": {
          "model_module": "@jupyter-widgets/controls",
          "model_name": "FloatProgressModel",
          "model_module_version": "1.5.0",
          "state": {
            "_view_name": "ProgressView",
            "style": "IPY_MODEL_0053f7f84f754596963b7544b8080d06",
            "_dom_classes": [],
            "description": "100%",
            "_model_name": "FloatProgressModel",
            "bar_style": "success",
            "max": 115338,
            "_view_module": "@jupyter-widgets/controls",
            "_model_module_version": "1.5.0",
            "value": 115338,
            "_view_count": null,
            "_view_module_version": "1.5.0",
            "orientation": "horizontal",
            "min": 0,
            "description_tooltip": null,
            "_model_module": "@jupyter-widgets/controls",
            "layout": "IPY_MODEL_b2d91c5aeb7a4220a7778b228cb6b833"
          }
        },
        "c2a3f91652e443c59e180ae7028a5490": {
          "model_module": "@jupyter-widgets/controls",
          "model_name": "HTMLModel",
          "model_module_version": "1.5.0",
          "state": {
            "_view_name": "HTMLView",
            "style": "IPY_MODEL_062bdcf2881b4f54a8750c8c30190554",
            "_dom_classes": [],
            "description": "",
            "_model_name": "HTMLModel",
            "placeholder": "​",
            "_view_module": "@jupyter-widgets/controls",
            "_model_module_version": "1.5.0",
            "value": " 115338/115338 [00:00&lt;00:00, 795007.13it/s]",
            "_view_count": null,
            "_view_module_version": "1.5.0",
            "description_tooltip": null,
            "_model_module": "@jupyter-widgets/controls",
            "layout": "IPY_MODEL_6433d6803ba84d37bfd4abe39c9c1a9a"
          }
        },
        "0053f7f84f754596963b7544b8080d06": {
          "model_module": "@jupyter-widgets/controls",
          "model_name": "ProgressStyleModel",
          "model_module_version": "1.5.0",
          "state": {
            "_view_name": "StyleView",
            "_model_name": "ProgressStyleModel",
            "description_width": "initial",
            "_view_module": "@jupyter-widgets/base",
            "_model_module_version": "1.5.0",
            "_view_count": null,
            "_view_module_version": "1.2.0",
            "bar_color": null,
            "_model_module": "@jupyter-widgets/controls"
          }
        },
        "b2d91c5aeb7a4220a7778b228cb6b833": {
          "model_module": "@jupyter-widgets/base",
          "model_name": "LayoutModel",
          "model_module_version": "1.2.0",
          "state": {
            "_view_name": "LayoutView",
            "grid_template_rows": null,
            "right": null,
            "justify_content": null,
            "_view_module": "@jupyter-widgets/base",
            "overflow": null,
            "_model_module_version": "1.2.0",
            "_view_count": null,
            "flex_flow": null,
            "width": null,
            "min_width": null,
            "border": null,
            "align_items": null,
            "bottom": null,
            "_model_module": "@jupyter-widgets/base",
            "top": null,
            "grid_column": null,
            "overflow_y": null,
            "overflow_x": null,
            "grid_auto_flow": null,
            "grid_area": null,
            "grid_template_columns": null,
            "flex": null,
            "_model_name": "LayoutModel",
            "justify_items": null,
            "grid_row": null,
            "max_height": null,
            "align_content": null,
            "visibility": null,
            "align_self": null,
            "height": null,
            "min_height": null,
            "padding": null,
            "grid_auto_rows": null,
            "grid_gap": null,
            "max_width": null,
            "order": null,
            "_view_module_version": "1.2.0",
            "grid_template_areas": null,
            "object_position": null,
            "object_fit": null,
            "grid_auto_columns": null,
            "margin": null,
            "display": null,
            "left": null
          }
        },
        "062bdcf2881b4f54a8750c8c30190554": {
          "model_module": "@jupyter-widgets/controls",
          "model_name": "DescriptionStyleModel",
          "model_module_version": "1.5.0",
          "state": {
            "_view_name": "StyleView",
            "_model_name": "DescriptionStyleModel",
            "description_width": "",
            "_view_module": "@jupyter-widgets/base",
            "_model_module_version": "1.5.0",
            "_view_count": null,
            "_view_module_version": "1.2.0",
            "_model_module": "@jupyter-widgets/controls"
          }
        },
        "6433d6803ba84d37bfd4abe39c9c1a9a": {
          "model_module": "@jupyter-widgets/base",
          "model_name": "LayoutModel",
          "model_module_version": "1.2.0",
          "state": {
            "_view_name": "LayoutView",
            "grid_template_rows": null,
            "right": null,
            "justify_content": null,
            "_view_module": "@jupyter-widgets/base",
            "overflow": null,
            "_model_module_version": "1.2.0",
            "_view_count": null,
            "flex_flow": null,
            "width": null,
            "min_width": null,
            "border": null,
            "align_items": null,
            "bottom": null,
            "_model_module": "@jupyter-widgets/base",
            "top": null,
            "grid_column": null,
            "overflow_y": null,
            "overflow_x": null,
            "grid_auto_flow": null,
            "grid_area": null,
            "grid_template_columns": null,
            "flex": null,
            "_model_name": "LayoutModel",
            "justify_items": null,
            "grid_row": null,
            "max_height": null,
            "align_content": null,
            "visibility": null,
            "align_self": null,
            "height": null,
            "min_height": null,
            "padding": null,
            "grid_auto_rows": null,
            "grid_gap": null,
            "max_width": null,
            "order": null,
            "_view_module_version": "1.2.0",
            "grid_template_areas": null,
            "object_position": null,
            "object_fit": null,
            "grid_auto_columns": null,
            "margin": null,
            "display": null,
            "left": null
          }
        },
        "dbf74a73d9824a288c69d6d1e0f3ab96": {
          "model_module": "@jupyter-widgets/controls",
          "model_name": "HBoxModel",
          "model_module_version": "1.5.0",
          "state": {
            "_view_name": "HBoxView",
            "_dom_classes": [],
            "_model_name": "HBoxModel",
            "_view_module": "@jupyter-widgets/controls",
            "_model_module_version": "1.5.0",
            "_view_count": null,
            "_view_module_version": "1.5.0",
            "box_style": "",
            "layout": "IPY_MODEL_e5ca3abd1b634507aa115c823e8cc660",
            "_model_module": "@jupyter-widgets/controls",
            "children": [
              "IPY_MODEL_d7b83d9b73dd42c9ac876217de6181ba",
              "IPY_MODEL_1783481b39a14cda842025ea2aba6be7"
            ]
          }
        },
        "e5ca3abd1b634507aa115c823e8cc660": {
          "model_module": "@jupyter-widgets/base",
          "model_name": "LayoutModel",
          "model_module_version": "1.2.0",
          "state": {
            "_view_name": "LayoutView",
            "grid_template_rows": null,
            "right": null,
            "justify_content": null,
            "_view_module": "@jupyter-widgets/base",
            "overflow": null,
            "_model_module_version": "1.2.0",
            "_view_count": null,
            "flex_flow": null,
            "width": null,
            "min_width": null,
            "border": null,
            "align_items": null,
            "bottom": null,
            "_model_module": "@jupyter-widgets/base",
            "top": null,
            "grid_column": null,
            "overflow_y": null,
            "overflow_x": null,
            "grid_auto_flow": null,
            "grid_area": null,
            "grid_template_columns": null,
            "flex": null,
            "_model_name": "LayoutModel",
            "justify_items": null,
            "grid_row": null,
            "max_height": null,
            "align_content": null,
            "visibility": null,
            "align_self": null,
            "height": null,
            "min_height": null,
            "padding": null,
            "grid_auto_rows": null,
            "grid_gap": null,
            "max_width": null,
            "order": null,
            "_view_module_version": "1.2.0",
            "grid_template_areas": null,
            "object_position": null,
            "object_fit": null,
            "grid_auto_columns": null,
            "margin": null,
            "display": null,
            "left": null
          }
        },
        "d7b83d9b73dd42c9ac876217de6181ba": {
          "model_module": "@jupyter-widgets/controls",
          "model_name": "FloatProgressModel",
          "model_module_version": "1.5.0",
          "state": {
            "_view_name": "ProgressView",
            "style": "IPY_MODEL_361567a72c9e4750adc15c850186b313",
            "_dom_classes": [],
            "description": "100%",
            "_model_name": "FloatProgressModel",
            "bar_style": "success",
            "max": 86810,
            "_view_module": "@jupyter-widgets/controls",
            "_model_module_version": "1.5.0",
            "value": 86810,
            "_view_count": null,
            "_view_module_version": "1.5.0",
            "orientation": "horizontal",
            "min": 0,
            "description_tooltip": null,
            "_model_module": "@jupyter-widgets/controls",
            "layout": "IPY_MODEL_e1ece62e03cc4c5a901e51a42bc60d2b"
          }
        },
        "1783481b39a14cda842025ea2aba6be7": {
          "model_module": "@jupyter-widgets/controls",
          "model_name": "HTMLModel",
          "model_module_version": "1.5.0",
          "state": {
            "_view_name": "HTMLView",
            "style": "IPY_MODEL_87a354d4275b47cda0f09a224bce94e2",
            "_dom_classes": [],
            "description": "",
            "_model_name": "HTMLModel",
            "placeholder": "​",
            "_view_module": "@jupyter-widgets/controls",
            "_model_module_version": "1.5.0",
            "value": " 86810/86810 [01:36&lt;00:00, 895.40it/s]",
            "_view_count": null,
            "_view_module_version": "1.5.0",
            "description_tooltip": null,
            "_model_module": "@jupyter-widgets/controls",
            "layout": "IPY_MODEL_c7692d2fe18d431f8038a8ab49349b0d"
          }
        },
        "361567a72c9e4750adc15c850186b313": {
          "model_module": "@jupyter-widgets/controls",
          "model_name": "ProgressStyleModel",
          "model_module_version": "1.5.0",
          "state": {
            "_view_name": "StyleView",
            "_model_name": "ProgressStyleModel",
            "description_width": "initial",
            "_view_module": "@jupyter-widgets/base",
            "_model_module_version": "1.5.0",
            "_view_count": null,
            "_view_module_version": "1.2.0",
            "bar_color": null,
            "_model_module": "@jupyter-widgets/controls"
          }
        },
        "e1ece62e03cc4c5a901e51a42bc60d2b": {
          "model_module": "@jupyter-widgets/base",
          "model_name": "LayoutModel",
          "model_module_version": "1.2.0",
          "state": {
            "_view_name": "LayoutView",
            "grid_template_rows": null,
            "right": null,
            "justify_content": null,
            "_view_module": "@jupyter-widgets/base",
            "overflow": null,
            "_model_module_version": "1.2.0",
            "_view_count": null,
            "flex_flow": null,
            "width": null,
            "min_width": null,
            "border": null,
            "align_items": null,
            "bottom": null,
            "_model_module": "@jupyter-widgets/base",
            "top": null,
            "grid_column": null,
            "overflow_y": null,
            "overflow_x": null,
            "grid_auto_flow": null,
            "grid_area": null,
            "grid_template_columns": null,
            "flex": null,
            "_model_name": "LayoutModel",
            "justify_items": null,
            "grid_row": null,
            "max_height": null,
            "align_content": null,
            "visibility": null,
            "align_self": null,
            "height": null,
            "min_height": null,
            "padding": null,
            "grid_auto_rows": null,
            "grid_gap": null,
            "max_width": null,
            "order": null,
            "_view_module_version": "1.2.0",
            "grid_template_areas": null,
            "object_position": null,
            "object_fit": null,
            "grid_auto_columns": null,
            "margin": null,
            "display": null,
            "left": null
          }
        },
        "87a354d4275b47cda0f09a224bce94e2": {
          "model_module": "@jupyter-widgets/controls",
          "model_name": "DescriptionStyleModel",
          "model_module_version": "1.5.0",
          "state": {
            "_view_name": "StyleView",
            "_model_name": "DescriptionStyleModel",
            "description_width": "",
            "_view_module": "@jupyter-widgets/base",
            "_model_module_version": "1.5.0",
            "_view_count": null,
            "_view_module_version": "1.2.0",
            "_model_module": "@jupyter-widgets/controls"
          }
        },
        "c7692d2fe18d431f8038a8ab49349b0d": {
          "model_module": "@jupyter-widgets/base",
          "model_name": "LayoutModel",
          "model_module_version": "1.2.0",
          "state": {
            "_view_name": "LayoutView",
            "grid_template_rows": null,
            "right": null,
            "justify_content": null,
            "_view_module": "@jupyter-widgets/base",
            "overflow": null,
            "_model_module_version": "1.2.0",
            "_view_count": null,
            "flex_flow": null,
            "width": null,
            "min_width": null,
            "border": null,
            "align_items": null,
            "bottom": null,
            "_model_module": "@jupyter-widgets/base",
            "top": null,
            "grid_column": null,
            "overflow_y": null,
            "overflow_x": null,
            "grid_auto_flow": null,
            "grid_area": null,
            "grid_template_columns": null,
            "flex": null,
            "_model_name": "LayoutModel",
            "justify_items": null,
            "grid_row": null,
            "max_height": null,
            "align_content": null,
            "visibility": null,
            "align_self": null,
            "height": null,
            "min_height": null,
            "padding": null,
            "grid_auto_rows": null,
            "grid_gap": null,
            "max_width": null,
            "order": null,
            "_view_module_version": "1.2.0",
            "grid_template_areas": null,
            "object_position": null,
            "object_fit": null,
            "grid_auto_columns": null,
            "margin": null,
            "display": null,
            "left": null
          }
        },
        "d359280a815b445aa70af200057fb4a0": {
          "model_module": "@jupyter-widgets/controls",
          "model_name": "HBoxModel",
          "model_module_version": "1.5.0",
          "state": {
            "_view_name": "HBoxView",
            "_dom_classes": [],
            "_model_name": "HBoxModel",
            "_view_module": "@jupyter-widgets/controls",
            "_model_module_version": "1.5.0",
            "_view_count": null,
            "_view_module_version": "1.5.0",
            "box_style": "",
            "layout": "IPY_MODEL_d5a78f3ea43a42a9814f1270ae7bdac5",
            "_model_module": "@jupyter-widgets/controls",
            "children": [
              "IPY_MODEL_00bf20c6598b42abaa6ec7a632f8bf0e",
              "IPY_MODEL_0a0c4c34c04540d4bc9d43a39e31ae54"
            ]
          }
        },
        "d5a78f3ea43a42a9814f1270ae7bdac5": {
          "model_module": "@jupyter-widgets/base",
          "model_name": "LayoutModel",
          "model_module_version": "1.2.0",
          "state": {
            "_view_name": "LayoutView",
            "grid_template_rows": null,
            "right": null,
            "justify_content": null,
            "_view_module": "@jupyter-widgets/base",
            "overflow": null,
            "_model_module_version": "1.2.0",
            "_view_count": null,
            "flex_flow": null,
            "width": null,
            "min_width": null,
            "border": null,
            "align_items": null,
            "bottom": null,
            "_model_module": "@jupyter-widgets/base",
            "top": null,
            "grid_column": null,
            "overflow_y": null,
            "overflow_x": null,
            "grid_auto_flow": null,
            "grid_area": null,
            "grid_template_columns": null,
            "flex": null,
            "_model_name": "LayoutModel",
            "justify_items": null,
            "grid_row": null,
            "max_height": null,
            "align_content": null,
            "visibility": null,
            "align_self": null,
            "height": null,
            "min_height": null,
            "padding": null,
            "grid_auto_rows": null,
            "grid_gap": null,
            "max_width": null,
            "order": null,
            "_view_module_version": "1.2.0",
            "grid_template_areas": null,
            "object_position": null,
            "object_fit": null,
            "grid_auto_columns": null,
            "margin": null,
            "display": null,
            "left": null
          }
        },
        "00bf20c6598b42abaa6ec7a632f8bf0e": {
          "model_module": "@jupyter-widgets/controls",
          "model_name": "FloatProgressModel",
          "model_module_version": "1.5.0",
          "state": {
            "_view_name": "ProgressView",
            "style": "IPY_MODEL_501285dbd7654b54b8da9633ee3c185f",
            "_dom_classes": [],
            "description": "100%",
            "_model_name": "FloatProgressModel",
            "bar_style": "success",
            "max": 4823,
            "_view_module": "@jupyter-widgets/controls",
            "_model_module_version": "1.5.0",
            "value": 4823,
            "_view_count": null,
            "_view_module_version": "1.5.0",
            "orientation": "horizontal",
            "min": 0,
            "description_tooltip": null,
            "_model_module": "@jupyter-widgets/controls",
            "layout": "IPY_MODEL_e4083ace92034ceb8967aa20c78fd545"
          }
        },
        "0a0c4c34c04540d4bc9d43a39e31ae54": {
          "model_module": "@jupyter-widgets/controls",
          "model_name": "HTMLModel",
          "model_module_version": "1.5.0",
          "state": {
            "_view_name": "HTMLView",
            "style": "IPY_MODEL_1638930591bf4a1bb280dd4039aa755b",
            "_dom_classes": [],
            "description": "",
            "_model_name": "HTMLModel",
            "placeholder": "​",
            "_view_module": "@jupyter-widgets/controls",
            "_model_module_version": "1.5.0",
            "value": " 4823/4823 [00:34&lt;00:00, 141.57it/s]",
            "_view_count": null,
            "_view_module_version": "1.5.0",
            "description_tooltip": null,
            "_model_module": "@jupyter-widgets/controls",
            "layout": "IPY_MODEL_0c7932e4feb04f3c95f5329ea146edcb"
          }
        },
        "501285dbd7654b54b8da9633ee3c185f": {
          "model_module": "@jupyter-widgets/controls",
          "model_name": "ProgressStyleModel",
          "model_module_version": "1.5.0",
          "state": {
            "_view_name": "StyleView",
            "_model_name": "ProgressStyleModel",
            "description_width": "initial",
            "_view_module": "@jupyter-widgets/base",
            "_model_module_version": "1.5.0",
            "_view_count": null,
            "_view_module_version": "1.2.0",
            "bar_color": null,
            "_model_module": "@jupyter-widgets/controls"
          }
        },
        "e4083ace92034ceb8967aa20c78fd545": {
          "model_module": "@jupyter-widgets/base",
          "model_name": "LayoutModel",
          "model_module_version": "1.2.0",
          "state": {
            "_view_name": "LayoutView",
            "grid_template_rows": null,
            "right": null,
            "justify_content": null,
            "_view_module": "@jupyter-widgets/base",
            "overflow": null,
            "_model_module_version": "1.2.0",
            "_view_count": null,
            "flex_flow": null,
            "width": null,
            "min_width": null,
            "border": null,
            "align_items": null,
            "bottom": null,
            "_model_module": "@jupyter-widgets/base",
            "top": null,
            "grid_column": null,
            "overflow_y": null,
            "overflow_x": null,
            "grid_auto_flow": null,
            "grid_area": null,
            "grid_template_columns": null,
            "flex": null,
            "_model_name": "LayoutModel",
            "justify_items": null,
            "grid_row": null,
            "max_height": null,
            "align_content": null,
            "visibility": null,
            "align_self": null,
            "height": null,
            "min_height": null,
            "padding": null,
            "grid_auto_rows": null,
            "grid_gap": null,
            "max_width": null,
            "order": null,
            "_view_module_version": "1.2.0",
            "grid_template_areas": null,
            "object_position": null,
            "object_fit": null,
            "grid_auto_columns": null,
            "margin": null,
            "display": null,
            "left": null
          }
        },
        "1638930591bf4a1bb280dd4039aa755b": {
          "model_module": "@jupyter-widgets/controls",
          "model_name": "DescriptionStyleModel",
          "model_module_version": "1.5.0",
          "state": {
            "_view_name": "StyleView",
            "_model_name": "DescriptionStyleModel",
            "description_width": "",
            "_view_module": "@jupyter-widgets/base",
            "_model_module_version": "1.5.0",
            "_view_count": null,
            "_view_module_version": "1.2.0",
            "_model_module": "@jupyter-widgets/controls"
          }
        },
        "0c7932e4feb04f3c95f5329ea146edcb": {
          "model_module": "@jupyter-widgets/base",
          "model_name": "LayoutModel",
          "model_module_version": "1.2.0",
          "state": {
            "_view_name": "LayoutView",
            "grid_template_rows": null,
            "right": null,
            "justify_content": null,
            "_view_module": "@jupyter-widgets/base",
            "overflow": null,
            "_model_module_version": "1.2.0",
            "_view_count": null,
            "flex_flow": null,
            "width": null,
            "min_width": null,
            "border": null,
            "align_items": null,
            "bottom": null,
            "_model_module": "@jupyter-widgets/base",
            "top": null,
            "grid_column": null,
            "overflow_y": null,
            "overflow_x": null,
            "grid_auto_flow": null,
            "grid_area": null,
            "grid_template_columns": null,
            "flex": null,
            "_model_name": "LayoutModel",
            "justify_items": null,
            "grid_row": null,
            "max_height": null,
            "align_content": null,
            "visibility": null,
            "align_self": null,
            "height": null,
            "min_height": null,
            "padding": null,
            "grid_auto_rows": null,
            "grid_gap": null,
            "max_width": null,
            "order": null,
            "_view_module_version": "1.2.0",
            "grid_template_areas": null,
            "object_position": null,
            "object_fit": null,
            "grid_auto_columns": null,
            "margin": null,
            "display": null,
            "left": null
          }
        },
        "38d81bcf6f484015bb8144b87ba244c8": {
          "model_module": "@jupyter-widgets/controls",
          "model_name": "HBoxModel",
          "model_module_version": "1.5.0",
          "state": {
            "_view_name": "HBoxView",
            "_dom_classes": [],
            "_model_name": "HBoxModel",
            "_view_module": "@jupyter-widgets/controls",
            "_model_module_version": "1.5.0",
            "_view_count": null,
            "_view_module_version": "1.5.0",
            "box_style": "",
            "layout": "IPY_MODEL_dbbf026f7d4a4cfa8534df717ccaac16",
            "_model_module": "@jupyter-widgets/controls",
            "children": [
              "IPY_MODEL_66a1177ecac84aee8621799f315cb0ae",
              "IPY_MODEL_5fef5c3fa26c4e748a2f67e57d2b2d76"
            ]
          }
        },
        "dbbf026f7d4a4cfa8534df717ccaac16": {
          "model_module": "@jupyter-widgets/base",
          "model_name": "LayoutModel",
          "model_module_version": "1.2.0",
          "state": {
            "_view_name": "LayoutView",
            "grid_template_rows": null,
            "right": null,
            "justify_content": null,
            "_view_module": "@jupyter-widgets/base",
            "overflow": null,
            "_model_module_version": "1.2.0",
            "_view_count": null,
            "flex_flow": null,
            "width": null,
            "min_width": null,
            "border": null,
            "align_items": null,
            "bottom": null,
            "_model_module": "@jupyter-widgets/base",
            "top": null,
            "grid_column": null,
            "overflow_y": null,
            "overflow_x": null,
            "grid_auto_flow": null,
            "grid_area": null,
            "grid_template_columns": null,
            "flex": null,
            "_model_name": "LayoutModel",
            "justify_items": null,
            "grid_row": null,
            "max_height": null,
            "align_content": null,
            "visibility": null,
            "align_self": null,
            "height": null,
            "min_height": null,
            "padding": null,
            "grid_auto_rows": null,
            "grid_gap": null,
            "max_width": null,
            "order": null,
            "_view_module_version": "1.2.0",
            "grid_template_areas": null,
            "object_position": null,
            "object_fit": null,
            "grid_auto_columns": null,
            "margin": null,
            "display": null,
            "left": null
          }
        },
        "66a1177ecac84aee8621799f315cb0ae": {
          "model_module": "@jupyter-widgets/controls",
          "model_name": "FloatProgressModel",
          "model_module_version": "1.5.0",
          "state": {
            "_view_name": "ProgressView",
            "style": "IPY_MODEL_a96ebacfc6aa49f88a2a6af3c07e5610",
            "_dom_classes": [],
            "description": "100%",
            "_model_name": "FloatProgressModel",
            "bar_style": "success",
            "max": 4823,
            "_view_module": "@jupyter-widgets/controls",
            "_model_module_version": "1.5.0",
            "value": 4823,
            "_view_count": null,
            "_view_module_version": "1.5.0",
            "orientation": "horizontal",
            "min": 0,
            "description_tooltip": null,
            "_model_module": "@jupyter-widgets/controls",
            "layout": "IPY_MODEL_d8c9ff19908a488098f52232afefbf83"
          }
        },
        "5fef5c3fa26c4e748a2f67e57d2b2d76": {
          "model_module": "@jupyter-widgets/controls",
          "model_name": "HTMLModel",
          "model_module_version": "1.5.0",
          "state": {
            "_view_name": "HTMLView",
            "style": "IPY_MODEL_e7a3d9a582534898a53130abd42ca2ac",
            "_dom_classes": [],
            "description": "",
            "_model_name": "HTMLModel",
            "placeholder": "​",
            "_view_module": "@jupyter-widgets/controls",
            "_model_module_version": "1.5.0",
            "value": " 4823/4823 [00:31&lt;00:00, 152.10it/s]",
            "_view_count": null,
            "_view_module_version": "1.5.0",
            "description_tooltip": null,
            "_model_module": "@jupyter-widgets/controls",
            "layout": "IPY_MODEL_a8e7018577444f0fa90f0de6a17f616f"
          }
        },
        "a96ebacfc6aa49f88a2a6af3c07e5610": {
          "model_module": "@jupyter-widgets/controls",
          "model_name": "ProgressStyleModel",
          "model_module_version": "1.5.0",
          "state": {
            "_view_name": "StyleView",
            "_model_name": "ProgressStyleModel",
            "description_width": "initial",
            "_view_module": "@jupyter-widgets/base",
            "_model_module_version": "1.5.0",
            "_view_count": null,
            "_view_module_version": "1.2.0",
            "bar_color": null,
            "_model_module": "@jupyter-widgets/controls"
          }
        },
        "d8c9ff19908a488098f52232afefbf83": {
          "model_module": "@jupyter-widgets/base",
          "model_name": "LayoutModel",
          "model_module_version": "1.2.0",
          "state": {
            "_view_name": "LayoutView",
            "grid_template_rows": null,
            "right": null,
            "justify_content": null,
            "_view_module": "@jupyter-widgets/base",
            "overflow": null,
            "_model_module_version": "1.2.0",
            "_view_count": null,
            "flex_flow": null,
            "width": null,
            "min_width": null,
            "border": null,
            "align_items": null,
            "bottom": null,
            "_model_module": "@jupyter-widgets/base",
            "top": null,
            "grid_column": null,
            "overflow_y": null,
            "overflow_x": null,
            "grid_auto_flow": null,
            "grid_area": null,
            "grid_template_columns": null,
            "flex": null,
            "_model_name": "LayoutModel",
            "justify_items": null,
            "grid_row": null,
            "max_height": null,
            "align_content": null,
            "visibility": null,
            "align_self": null,
            "height": null,
            "min_height": null,
            "padding": null,
            "grid_auto_rows": null,
            "grid_gap": null,
            "max_width": null,
            "order": null,
            "_view_module_version": "1.2.0",
            "grid_template_areas": null,
            "object_position": null,
            "object_fit": null,
            "grid_auto_columns": null,
            "margin": null,
            "display": null,
            "left": null
          }
        },
        "e7a3d9a582534898a53130abd42ca2ac": {
          "model_module": "@jupyter-widgets/controls",
          "model_name": "DescriptionStyleModel",
          "model_module_version": "1.5.0",
          "state": {
            "_view_name": "StyleView",
            "_model_name": "DescriptionStyleModel",
            "description_width": "",
            "_view_module": "@jupyter-widgets/base",
            "_model_module_version": "1.5.0",
            "_view_count": null,
            "_view_module_version": "1.2.0",
            "_model_module": "@jupyter-widgets/controls"
          }
        },
        "a8e7018577444f0fa90f0de6a17f616f": {
          "model_module": "@jupyter-widgets/base",
          "model_name": "LayoutModel",
          "model_module_version": "1.2.0",
          "state": {
            "_view_name": "LayoutView",
            "grid_template_rows": null,
            "right": null,
            "justify_content": null,
            "_view_module": "@jupyter-widgets/base",
            "overflow": null,
            "_model_module_version": "1.2.0",
            "_view_count": null,
            "flex_flow": null,
            "width": null,
            "min_width": null,
            "border": null,
            "align_items": null,
            "bottom": null,
            "_model_module": "@jupyter-widgets/base",
            "top": null,
            "grid_column": null,
            "overflow_y": null,
            "overflow_x": null,
            "grid_auto_flow": null,
            "grid_area": null,
            "grid_template_columns": null,
            "flex": null,
            "_model_name": "LayoutModel",
            "justify_items": null,
            "grid_row": null,
            "max_height": null,
            "align_content": null,
            "visibility": null,
            "align_self": null,
            "height": null,
            "min_height": null,
            "padding": null,
            "grid_auto_rows": null,
            "grid_gap": null,
            "max_width": null,
            "order": null,
            "_view_module_version": "1.2.0",
            "grid_template_areas": null,
            "object_position": null,
            "object_fit": null,
            "grid_auto_columns": null,
            "margin": null,
            "display": null,
            "left": null
          }
        }
      }
    }
  },
  "cells": [
    {
      "cell_type": "markdown",
      "metadata": {
        "id": "view-in-github",
        "colab_type": "text"
      },
      "source": [
        "<a href=\"https://colab.research.google.com/github/sayakpaul/Handwriting-Recognizer-in-Keras/blob/main/Initial_Notebook.ipynb\" target=\"_parent\"><img src=\"https://colab.research.google.com/assets/colab-badge.svg\" alt=\"Open In Colab\"/></a>"
      ]
    },
    {
      "cell_type": "markdown",
      "metadata": {
        "id": "D6B83kI1VDpQ"
      },
      "source": [
        "## Reference\n",
        "- Keras example on [Captcha OCR](https://keras.io/examples/vision/captcha_ocr/)"
      ]
    },
    {
      "cell_type": "markdown",
      "metadata": {
        "id": "BOJ3n-LZbxls"
      },
      "source": [
        "## Dataset collection"
      ]
    },
    {
      "cell_type": "code",
      "metadata": {
        "id": "w1MdZdnrJq5l"
      },
      "source": [
        "!wget -q https://github.com/sayakpaul/Handwriting-Recognizer-in-Keras/releases/download/v1.0.0/IAM_Words.zip\n",
        "!unzip -qq IAM_Words.zip"
      ],
      "execution_count": 1,
      "outputs": []
    },
    {
      "cell_type": "code",
      "metadata": {
        "id": "jo2n2mBxL3N6"
      },
      "source": [
        "!mkdir data\n",
        "!mkdir data/words\n",
        "!tar -xf IAM_Words/words.tgz -C data/words\n",
        "!mv IAM_Words/words.txt data"
      ],
      "execution_count": 2,
      "outputs": []
    },
    {
      "cell_type": "code",
      "metadata": {
        "id": "OwwnL7cwL8q0",
        "colab": {
          "base_uri": "https://localhost:8080/"
        },
        "outputId": "42be5c86-2b9e-4026-80c6-86a37a638ded"
      },
      "source": [
        "!head -20 data/words.txt"
      ],
      "execution_count": 3,
      "outputs": [
        {
          "output_type": "stream",
          "text": [
            "#--- words.txt ---------------------------------------------------------------#\n",
            "#\n",
            "# iam database word information\n",
            "#\n",
            "# format: a01-000u-00-00 ok 154 1 408 768 27 51 AT A\n",
            "#\n",
            "#     a01-000u-00-00  -> word id for line 00 in form a01-000u\n",
            "#     ok              -> result of word segmentation\n",
            "#                            ok: word was correctly\n",
            "#                            er: segmentation of word can be bad\n",
            "#\n",
            "#     154             -> graylevel to binarize the line containing this word\n",
            "#     1               -> number of components for this word\n",
            "#     408 768 27 51   -> bounding box around this word in x,y,w,h format\n",
            "#     AT              -> the grammatical tag for this word, see the\n",
            "#                        file tagset.txt for an explanation\n",
            "#     A               -> the transcription for this word\n",
            "#\n",
            "a01-000u-00-00 ok 154 408 768 27 51 AT A\n",
            "a01-000u-00-01 ok 154 507 766 213 48 NN MOVE\n"
          ],
          "name": "stdout"
        }
      ]
    },
    {
      "cell_type": "markdown",
      "metadata": {
        "id": "T5Br7NfLbz_E"
      },
      "source": [
        "## Imports"
      ]
    },
    {
      "cell_type": "code",
      "metadata": {
        "id": "JdA5uc6ATAWx",
        "outputId": "c8be0648-3d44-43af-835c-589dcc1a335e",
        "colab": {
          "base_uri": "https://localhost:8080/"
        }
      },
      "source": [
        "!pip install -q -U imgaug"
      ],
      "execution_count": 4,
      "outputs": [
        {
          "output_type": "stream",
          "text": [
            "\u001b[?25l\r\u001b[K     |▍                               | 10 kB 30.6 MB/s eta 0:00:01\r\u001b[K     |▊                               | 20 kB 37.9 MB/s eta 0:00:01\r\u001b[K     |█                               | 30 kB 23.9 MB/s eta 0:00:01\r\u001b[K     |█▍                              | 40 kB 18.9 MB/s eta 0:00:01\r\u001b[K     |█▊                              | 51 kB 8.1 MB/s eta 0:00:01\r\u001b[K     |██                              | 61 kB 8.7 MB/s eta 0:00:01\r\u001b[K     |██▍                             | 71 kB 7.4 MB/s eta 0:00:01\r\u001b[K     |██▊                             | 81 kB 8.3 MB/s eta 0:00:01\r\u001b[K     |███                             | 92 kB 6.8 MB/s eta 0:00:01\r\u001b[K     |███▌                            | 102 kB 7.4 MB/s eta 0:00:01\r\u001b[K     |███▉                            | 112 kB 7.4 MB/s eta 0:00:01\r\u001b[K     |████▏                           | 122 kB 7.4 MB/s eta 0:00:01\r\u001b[K     |████▌                           | 133 kB 7.4 MB/s eta 0:00:01\r\u001b[K     |████▉                           | 143 kB 7.4 MB/s eta 0:00:01\r\u001b[K     |█████▏                          | 153 kB 7.4 MB/s eta 0:00:01\r\u001b[K     |█████▌                          | 163 kB 7.4 MB/s eta 0:00:01\r\u001b[K     |█████▉                          | 174 kB 7.4 MB/s eta 0:00:01\r\u001b[K     |██████▏                         | 184 kB 7.4 MB/s eta 0:00:01\r\u001b[K     |██████▋                         | 194 kB 7.4 MB/s eta 0:00:01\r\u001b[K     |███████                         | 204 kB 7.4 MB/s eta 0:00:01\r\u001b[K     |███████▎                        | 215 kB 7.4 MB/s eta 0:00:01\r\u001b[K     |███████▋                        | 225 kB 7.4 MB/s eta 0:00:01\r\u001b[K     |████████                        | 235 kB 7.4 MB/s eta 0:00:01\r\u001b[K     |████████▎                       | 245 kB 7.4 MB/s eta 0:00:01\r\u001b[K     |████████▋                       | 256 kB 7.4 MB/s eta 0:00:01\r\u001b[K     |█████████                       | 266 kB 7.4 MB/s eta 0:00:01\r\u001b[K     |█████████▎                      | 276 kB 7.4 MB/s eta 0:00:01\r\u001b[K     |█████████▊                      | 286 kB 7.4 MB/s eta 0:00:01\r\u001b[K     |██████████                      | 296 kB 7.4 MB/s eta 0:00:01\r\u001b[K     |██████████▍                     | 307 kB 7.4 MB/s eta 0:00:01\r\u001b[K     |██████████▊                     | 317 kB 7.4 MB/s eta 0:00:01\r\u001b[K     |███████████                     | 327 kB 7.4 MB/s eta 0:00:01\r\u001b[K     |███████████▍                    | 337 kB 7.4 MB/s eta 0:00:01\r\u001b[K     |███████████▊                    | 348 kB 7.4 MB/s eta 0:00:01\r\u001b[K     |████████████                    | 358 kB 7.4 MB/s eta 0:00:01\r\u001b[K     |████████████▍                   | 368 kB 7.4 MB/s eta 0:00:01\r\u001b[K     |████████████▉                   | 378 kB 7.4 MB/s eta 0:00:01\r\u001b[K     |█████████████▏                  | 389 kB 7.4 MB/s eta 0:00:01\r\u001b[K     |█████████████▌                  | 399 kB 7.4 MB/s eta 0:00:01\r\u001b[K     |█████████████▉                  | 409 kB 7.4 MB/s eta 0:00:01\r\u001b[K     |██████████████▏                 | 419 kB 7.4 MB/s eta 0:00:01\r\u001b[K     |██████████████▌                 | 430 kB 7.4 MB/s eta 0:00:01\r\u001b[K     |██████████████▉                 | 440 kB 7.4 MB/s eta 0:00:01\r\u001b[K     |███████████████▏                | 450 kB 7.4 MB/s eta 0:00:01\r\u001b[K     |███████████████▌                | 460 kB 7.4 MB/s eta 0:00:01\r\u001b[K     |████████████████                | 471 kB 7.4 MB/s eta 0:00:01\r\u001b[K     |████████████████▎               | 481 kB 7.4 MB/s eta 0:00:01\r\u001b[K     |████████████████▋               | 491 kB 7.4 MB/s eta 0:00:01\r\u001b[K     |█████████████████               | 501 kB 7.4 MB/s eta 0:00:01\r\u001b[K     |█████████████████▎              | 512 kB 7.4 MB/s eta 0:00:01\r\u001b[K     |█████████████████▋              | 522 kB 7.4 MB/s eta 0:00:01\r\u001b[K     |██████████████████              | 532 kB 7.4 MB/s eta 0:00:01\r\u001b[K     |██████████████████▎             | 542 kB 7.4 MB/s eta 0:00:01\r\u001b[K     |██████████████████▋             | 552 kB 7.4 MB/s eta 0:00:01\r\u001b[K     |███████████████████             | 563 kB 7.4 MB/s eta 0:00:01\r\u001b[K     |███████████████████▍            | 573 kB 7.4 MB/s eta 0:00:01\r\u001b[K     |███████████████████▊            | 583 kB 7.4 MB/s eta 0:00:01\r\u001b[K     |████████████████████            | 593 kB 7.4 MB/s eta 0:00:01\r\u001b[K     |████████████████████▍           | 604 kB 7.4 MB/s eta 0:00:01\r\u001b[K     |████████████████████▊           | 614 kB 7.4 MB/s eta 0:00:01\r\u001b[K     |█████████████████████           | 624 kB 7.4 MB/s eta 0:00:01\r\u001b[K     |█████████████████████▍          | 634 kB 7.4 MB/s eta 0:00:01\r\u001b[K     |█████████████████████▊          | 645 kB 7.4 MB/s eta 0:00:01\r\u001b[K     |██████████████████████▏         | 655 kB 7.4 MB/s eta 0:00:01\r\u001b[K     |██████████████████████▌         | 665 kB 7.4 MB/s eta 0:00:01\r\u001b[K     |██████████████████████▉         | 675 kB 7.4 MB/s eta 0:00:01\r\u001b[K     |███████████████████████▏        | 686 kB 7.4 MB/s eta 0:00:01\r\u001b[K     |███████████████████████▌        | 696 kB 7.4 MB/s eta 0:00:01\r\u001b[K     |███████████████████████▉        | 706 kB 7.4 MB/s eta 0:00:01\r\u001b[K     |████████████████████████▏       | 716 kB 7.4 MB/s eta 0:00:01\r\u001b[K     |████████████████████████▌       | 727 kB 7.4 MB/s eta 0:00:01\r\u001b[K     |████████████████████████▉       | 737 kB 7.4 MB/s eta 0:00:01\r\u001b[K     |█████████████████████████▎      | 747 kB 7.4 MB/s eta 0:00:01\r\u001b[K     |█████████████████████████▋      | 757 kB 7.4 MB/s eta 0:00:01\r\u001b[K     |██████████████████████████      | 768 kB 7.4 MB/s eta 0:00:01\r\u001b[K     |██████████████████████████▎     | 778 kB 7.4 MB/s eta 0:00:01\r\u001b[K     |██████████████████████████▋     | 788 kB 7.4 MB/s eta 0:00:01\r\u001b[K     |███████████████████████████     | 798 kB 7.4 MB/s eta 0:00:01\r\u001b[K     |███████████████████████████▎    | 808 kB 7.4 MB/s eta 0:00:01\r\u001b[K     |███████████████████████████▋    | 819 kB 7.4 MB/s eta 0:00:01\r\u001b[K     |████████████████████████████    | 829 kB 7.4 MB/s eta 0:00:01\r\u001b[K     |████████████████████████████▍   | 839 kB 7.4 MB/s eta 0:00:01\r\u001b[K     |████████████████████████████▊   | 849 kB 7.4 MB/s eta 0:00:01\r\u001b[K     |█████████████████████████████   | 860 kB 7.4 MB/s eta 0:00:01\r\u001b[K     |█████████████████████████████▍  | 870 kB 7.4 MB/s eta 0:00:01\r\u001b[K     |█████████████████████████████▊  | 880 kB 7.4 MB/s eta 0:00:01\r\u001b[K     |██████████████████████████████  | 890 kB 7.4 MB/s eta 0:00:01\r\u001b[K     |██████████████████████████████▍ | 901 kB 7.4 MB/s eta 0:00:01\r\u001b[K     |██████████████████████████████▊ | 911 kB 7.4 MB/s eta 0:00:01\r\u001b[K     |███████████████████████████████ | 921 kB 7.4 MB/s eta 0:00:01\r\u001b[K     |███████████████████████████████▌| 931 kB 7.4 MB/s eta 0:00:01\r\u001b[K     |███████████████████████████████▉| 942 kB 7.4 MB/s eta 0:00:01\r\u001b[K     |████████████████████████████████| 948 kB 7.4 MB/s \n",
            "\u001b[31mERROR: pip's dependency resolver does not currently take into account all the packages that are installed. This behaviour is the source of the following dependency conflicts.\n",
            "albumentations 0.1.12 requires imgaug<0.2.7,>=0.2.5, but you have imgaug 0.4.0 which is incompatible.\u001b[0m\n",
            "\u001b[?25h"
          ],
          "name": "stdout"
        }
      ]
    },
    {
      "cell_type": "code",
      "metadata": {
        "id": "AzAn4MGOMGyP"
      },
      "source": [
        "from imutils import paths\n",
        "from tqdm.notebook import tqdm\n",
        "from itertools import groupby\n",
        "\n",
        "import tensorflow as tf\n",
        "import matplotlib.pyplot as plt\n",
        "import numpy as np\n",
        "import imgaug\n",
        "import cv2\n",
        "import os\n",
        "\n",
        "np.random.seed(42)\n",
        "tf.random.set_seed(42)"
      ],
      "execution_count": 1,
      "outputs": []
    },
    {
      "cell_type": "markdown",
      "metadata": {
        "id": "eFUUdA4Ib1q4"
      },
      "source": [
        "## Dataset preparation"
      ]
    },
    {
      "cell_type": "code",
      "metadata": {
        "id": "5nw0wiDWssNI"
      },
      "source": [
        "BASE_IMAGE_PATH = os.path.join(\"data\", \"words\")"
      ],
      "execution_count": 2,
      "outputs": []
    },
    {
      "cell_type": "code",
      "metadata": {
        "id": "M0OnjVA6MQTu",
        "colab": {
          "base_uri": "https://localhost:8080/"
        },
        "outputId": "fa95e066-14e3-4abb-d1c9-f70f43d1ec6a"
      },
      "source": [
        "# Image path: part1-part2-part3 --> part1/part1-part2/part1-part2-part3.png\n",
        "# The above format DOES NOT include the base path which is \"data/words\" in\n",
        "# this case.\n",
        "all_images = list(paths.list_images(BASE_IMAGE_PATH))\n",
        "all_images[:5]"
      ],
      "execution_count": 3,
      "outputs": [
        {
          "output_type": "execute_result",
          "data": {
            "text/plain": [
              "['data/words/j01/j01-045/j01-045-07-04.png',\n",
              " 'data/words/j01/j01-045/j01-045-01-01.png',\n",
              " 'data/words/j01/j01-045/j01-045-00-06.png',\n",
              " 'data/words/j01/j01-045/j01-045-03-00.png',\n",
              " 'data/words/j01/j01-045/j01-045-07-00.png']"
            ]
          },
          "metadata": {
            "tags": []
          },
          "execution_count": 3
        }
      ]
    },
    {
      "cell_type": "code",
      "metadata": {
        "id": "bWcMSzy9NCdp",
        "colab": {
          "base_uri": "https://localhost:8080/",
          "height": 83,
          "referenced_widgets": [
            "863bfd50e00a43909f7e36186bcb0e45",
            "3d1abccd6bf04921a2f2d5a06e485efe",
            "3cc7c624c1ca4d958b926e040bc91761",
            "c2a3f91652e443c59e180ae7028a5490",
            "0053f7f84f754596963b7544b8080d06",
            "b2d91c5aeb7a4220a7778b228cb6b833",
            "062bdcf2881b4f54a8750c8c30190554",
            "6433d6803ba84d37bfd4abe39c9c1a9a"
          ]
        },
        "outputId": "0ba72633-3d43-4e12-930b-d95c8c208209"
      },
      "source": [
        "words_list = []\n",
        "\n",
        "words = open('data/words.txt', 'r').readlines()\n",
        "for line in tqdm(words):\n",
        "    if line[0]=='#':\n",
        "        continue\n",
        "    if line.split(\" \")[1]!=\"err\": # We don't need to deal with errored entries.\n",
        "        words_list.append(line)\n",
        "\n",
        "len(words_list)"
      ],
      "execution_count": 4,
      "outputs": [
        {
          "output_type": "display_data",
          "data": {
            "application/vnd.jupyter.widget-view+json": {
              "model_id": "863bfd50e00a43909f7e36186bcb0e45",
              "version_minor": 0,
              "version_major": 2
            },
            "text/plain": [
              "HBox(children=(FloatProgress(value=0.0, max=115338.0), HTML(value='')))"
            ]
          },
          "metadata": {
            "tags": []
          }
        },
        {
          "output_type": "stream",
          "text": [
            "\n"
          ],
          "name": "stdout"
        },
        {
          "output_type": "execute_result",
          "data": {
            "text/plain": [
              "96456"
            ]
          },
          "metadata": {
            "tags": []
          },
          "execution_count": 4
        }
      ]
    },
    {
      "cell_type": "code",
      "metadata": {
        "id": "2MkkUDt6SCr5"
      },
      "source": [
        "np.random.shuffle(words_list)"
      ],
      "execution_count": 5,
      "outputs": []
    },
    {
      "cell_type": "markdown",
      "metadata": {
        "id": "Q_1JJr-joiMb"
      },
      "source": [
        "### Prepare the splits (90:5:5)"
      ]
    },
    {
      "cell_type": "code",
      "metadata": {
        "id": "OlWJ8FP2Rpht",
        "colab": {
          "base_uri": "https://localhost:8080/"
        },
        "outputId": "4611f0eb-c891-45d9-c691-fbe5715edf4a"
      },
      "source": [
        "split_idx = int(0.9 * len(words_list))\n",
        "train_samples = words_list[:split_idx]\n",
        "test_samples = words_list[split_idx:]\n",
        "\n",
        "val_split_idx = int(0.5 * len(test_samples))\n",
        "validation_samples = test_samples[:val_split_idx]\n",
        "test_samples = test_samples[val_split_idx:]\n",
        "\n",
        "assert len(words_list) == len(train_samples) + len(validation_samples) + len(test_samples)\n",
        "\n",
        "print(f\"Total training samples: {len(train_samples)}\")\n",
        "print(f\"Total validation samples: {len(validation_samples)}\")\n",
        "print(f\"Total test samples: {len(test_samples)}\")"
      ],
      "execution_count": 6,
      "outputs": [
        {
          "output_type": "stream",
          "text": [
            "Total training samples: 86810\n",
            "Total validation samples: 4823\n",
            "Total test samples: 4823\n"
          ],
          "name": "stdout"
        }
      ]
    },
    {
      "cell_type": "code",
      "metadata": {
        "id": "c9oBlfUkNGVz",
        "colab": {
          "base_uri": "https://localhost:8080/"
        },
        "outputId": "990d7f0b-98ec-49ee-dcd2-f782f1c7c941"
      },
      "source": [
        "# Since the labels start appearing after eighth index we use that\n",
        "# to retrieve the grounth-truth labels. Remember indexing starts from\n",
        "# zero in Python.\n",
        "start_idx = 8\n",
        "train_words = [line.split(' ')[start_idx:][0].strip() for line in train_samples]\n",
        "max_label_len = max([len(str(text)) for text in train_words])\n",
        "print(f\"Maximum label length: {max_label_len}\")\n",
        "\n",
        "padding_method = \"post\"\n",
        "padding_token = 99\n",
        "tokenizer = tf.keras.preprocessing.text.Tokenizer(filters=\"\\n\", char_level=True)\n",
        "tokenizer.fit_on_texts(train_words)\n",
        "tokenized_words = tokenizer.texts_to_sequences(train_words)\n",
        "padded_train_words = tf.keras.preprocessing.sequence.pad_sequences(tokenized_words,\n",
        "                                                        maxlen=max_label_len,\n",
        "                                                        padding=padding_method,\n",
        "                                                        value=padding_token)\n",
        "\n",
        "# Maximum sequence length is 4, hence a word is padded to that length.\n",
        "print(f\"Integer representation of a word: {padded_train_words[0]}\")"
      ],
      "execution_count": 9,
      "outputs": [
        {
          "output_type": "stream",
          "text": [
            "Maximum label length: 21\n",
            "Integer representation of a word: [ 7 13  8  1 99 99 99 99 99 99 99 99 99 99 99 99 99 99 99 99 99]\n"
          ],
          "name": "stdout"
        }
      ]
    },
    {
      "cell_type": "code",
      "metadata": {
        "id": "6aBAK36wos4G",
        "colab": {
          "base_uri": "https://localhost:8080/"
        },
        "outputId": "655dfad9-e7d4-4695-87f8-94bdc83d737c"
      },
      "source": [
        "# Unique characters.\n",
        "len(tokenizer.word_index)"
      ],
      "execution_count": 10,
      "outputs": [
        {
          "output_type": "execute_result",
          "data": {
            "text/plain": [
              "52"
            ]
          },
          "metadata": {
            "tags": []
          },
          "execution_count": 10
        }
      ]
    },
    {
      "cell_type": "code",
      "metadata": {
        "id": "nU9pG8p8nRd_"
      },
      "source": [
        "# View some word index mappings.\n",
        "def process_word(word):\n",
        "    processed_word = []\n",
        "    for i in word:\n",
        "        if i != 99:\n",
        "            processed_word.append(tokenizer.index_word[i])\n",
        "    return \"\".join(processed_word)\n",
        "\n",
        "def view_sample_mappings(sample_padded_words):\n",
        "    for t in sample_padded_words:\n",
        "        word = process_word(t)\n",
        "        print (f\"{t.tolist()}----> {word}\")"
      ],
      "execution_count": 11,
      "outputs": []
    },
    {
      "cell_type": "code",
      "metadata": {
        "id": "V5Z3bGvk7n9e",
        "colab": {
          "base_uri": "https://localhost:8080/"
        },
        "outputId": "aa9f6af3-f929-466a-e548-ca7ea28d86e2"
      },
      "source": [
        "view_sample_mappings(padded_train_words[:15])"
      ],
      "execution_count": 12,
      "outputs": [
        {
          "output_type": "stream",
          "text": [
            "[7, 13, 8, 1, 99, 99, 99, 99, 99, 99, 99, 99, 99, 99, 99, 99, 99, 99, 99, 99, 99]----> sure\n",
            "[9, 1, 99, 99, 99, 99, 99, 99, 99, 99, 99, 99, 99, 99, 99, 99, 99, 99, 99, 99, 99]----> he\n",
            "[11, 13, 8, 5, 6, 17, 99, 99, 99, 99, 99, 99, 99, 99, 99, 99, 99, 99, 99, 99, 99]----> during\n",
            "[4, 15, 99, 99, 99, 99, 99, 99, 99, 99, 99, 99, 99, 99, 99, 99, 99, 99, 99, 99, 99]----> of\n",
            "[20, 4, 4, 2, 19, 99, 99, 99, 99, 99, 99, 99, 99, 99, 99, 99, 99, 99, 99, 99, 99]----> booty\n",
            "[17, 3, 7, 2, 8, 4, 6, 4, 14, 19, 99, 99, 99, 99, 99, 99, 99, 99, 99, 99, 99]----> gastronomy\n",
            "[20, 4, 19, 99, 99, 99, 99, 99, 99, 99, 99, 99, 99, 99, 99, 99, 99, 99, 99, 99, 99]----> boy\n",
            "[2, 9, 1, 99, 99, 99, 99, 99, 99, 99, 99, 99, 99, 99, 99, 99, 99, 99, 99, 99, 99]----> the\n",
            "[3, 6, 11, 99, 99, 99, 99, 99, 99, 99, 99, 99, 99, 99, 99, 99, 99, 99, 99, 99, 99]----> and\n",
            "[5, 6, 99, 99, 99, 99, 99, 99, 99, 99, 99, 99, 99, 99, 99, 99, 99, 99, 99, 99, 99]----> in\n",
            "[9, 5, 7, 99, 99, 99, 99, 99, 99, 99, 99, 99, 99, 99, 99, 99, 99, 99, 99, 99, 99]----> his\n",
            "[15, 10, 19, 5, 6, 17, 99, 99, 99, 99, 99, 99, 99, 99, 99, 99, 99, 99, 99, 99, 99]----> flying\n",
            "[18, 8, 1, 7, 1, 6, 2, 1, 11, 99, 99, 99, 99, 99, 99, 99, 99, 99, 99, 99, 99]----> presented\n",
            "[6, 4, 99, 99, 99, 99, 99, 99, 99, 99, 99, 99, 99, 99, 99, 99, 99, 99, 99, 99, 99]----> no\n",
            "[3, 7, 99, 99, 99, 99, 99, 99, 99, 99, 99, 99, 99, 99, 99, 99, 99, 99, 99, 99, 99]----> as\n"
          ],
          "name": "stdout"
        }
      ]
    },
    {
      "cell_type": "code",
      "metadata": {
        "id": "FhOEwqXcpMPH"
      },
      "source": [
        "valid_words = [line.split(' ')[start_idx:][0].strip() for line in validation_samples]\n",
        "tokenized_valid_words = tokenizer.texts_to_sequences(valid_words)\n",
        "padded_valid_words = tf.keras.preprocessing.sequence.pad_sequences(tokenized_valid_words,\n",
        "                                                        maxlen=max_label_len,        \n",
        "                                                        padding=padding_method,\n",
        "                                                        value=padding_token)"
      ],
      "execution_count": 14,
      "outputs": []
    },
    {
      "cell_type": "code",
      "metadata": {
        "id": "f1d8444YpgQa"
      },
      "source": [
        "test_words = [line.split(' ')[start_idx:][0].strip() for line in test_samples]\n",
        "tokenized_test_words = tokenizer.texts_to_sequences(test_words)\n",
        "padded_test_words = tf.keras.preprocessing.sequence.pad_sequences(tokenized_test_words,\n",
        "                                                        maxlen=max_label_len,        \n",
        "                                                        padding=padding_method,\n",
        "                                                        value=padding_token)"
      ],
      "execution_count": 15,
      "outputs": []
    },
    {
      "cell_type": "code",
      "metadata": {
        "id": "RROe32g7GD6k"
      },
      "source": [
        "# Credit: https://github.com/githubharald/SimpleHTR/blob/master/src/SamplePreprocessor.py\n",
        "def distortion_free_resize(image, img_size):\n",
        "    # Target size and current image size. \n",
        "    (wt, ht) = img_size\n",
        "    (h, w) = image.shape\n",
        "    \n",
        "    # Compute the individual resolution scales and take\n",
        "    # the maximum between them.\n",
        "    fx = w / wt\n",
        "    fy = h / ht\n",
        "    f = max(fx, fy)\n",
        "    \n",
        "    # Compute the new image size such that the aspect ratio is respected.\n",
        "    new_size = (max(min(wt, int(w / f)), 1), max(min(ht, int(h / f)), 1))\n",
        "\n",
        "    # First, resize the image to this newly computed size. Then\n",
        "    # copy its pixels over appropriately to another blank image\n",
        "    # having the target size. \n",
        "    image = cv2.resize(image, new_size)\n",
        "    target = np.ones([ht, wt]) * 255\n",
        "    target[0:new_size[1], 0:new_size[0]] = image\n",
        "    \n",
        "    # Tranpose to (w, h) format.\n",
        "    image = cv2.transpose(target)\n",
        "    return image"
      ],
      "execution_count": 16,
      "outputs": []
    },
    {
      "cell_type": "code",
      "metadata": {
        "id": "f5XfPrBuQdGd"
      },
      "source": [
        "IMG_WIDTH = 128\n",
        "IMG_HEIGHT = 32\n",
        "\n",
        "def process_image(img_path, img_size=(IMG_WIDTH, IMG_HEIGHT)):    \n",
        "    # Read image in grayscale mode.\n",
        "    image = cv2.imread(img_path, 0)\n",
        "    # Scale pixel values to [0, 1].\n",
        "    image = image.astype(\"float32\")/255\n",
        "    # Resize image.\n",
        "    image = distortion_free_resize(image, img_size)\n",
        "    # Add channel otherwise Conv2D won't be compatible.\n",
        "    image = np.expand_dims(image, axis=-1) \n",
        "    return image"
      ],
      "execution_count": 17,
      "outputs": []
    },
    {
      "cell_type": "code",
      "metadata": {
        "id": "HBVTcwqBZMnX"
      },
      "source": [
        "def prepare_images(samples):\n",
        "    images = np.zeros(shape=(len(samples), IMG_WIDTH, IMG_HEIGHT, 1))\n",
        "    for (i, file_line) in enumerate(tqdm(samples)):\n",
        "        line_split = file_line.strip()\n",
        "        line_split = line_split.split(\" \")\n",
        "        \n",
        "        # Each line split will have this format for the corresponding image:\n",
        "        # part1/part1-part2/part1-part2-part3.png\n",
        "        image_name = line_split[0] \n",
        "        partI = image_name.split(\"-\")[0]\n",
        "        partII = image_name.split(\"-\")[1]\n",
        "        img_path =  os.path.join(\"/content/data/words/\", partI, \n",
        "            partI + \"-\" + partII,\n",
        "            image_name + \".png\"\n",
        "        )\n",
        "        if os.path.getsize(img_path):\n",
        "            preprocessed_image = process_image(img_path)\n",
        "            images[i] = preprocessed_image\n",
        "    return images"
      ],
      "execution_count": 18,
      "outputs": []
    },
    {
      "cell_type": "code",
      "metadata": {
        "id": "E806c2cVa2mI",
        "outputId": "6fea8a9c-feee-4b3f-b47d-bf88f1dfc2d0",
        "colab": {
          "base_uri": "https://localhost:8080/",
          "height": 164,
          "referenced_widgets": [
            "dbf74a73d9824a288c69d6d1e0f3ab96",
            "e5ca3abd1b634507aa115c823e8cc660",
            "d7b83d9b73dd42c9ac876217de6181ba",
            "1783481b39a14cda842025ea2aba6be7",
            "361567a72c9e4750adc15c850186b313",
            "e1ece62e03cc4c5a901e51a42bc60d2b",
            "87a354d4275b47cda0f09a224bce94e2",
            "c7692d2fe18d431f8038a8ab49349b0d",
            "d359280a815b445aa70af200057fb4a0",
            "d5a78f3ea43a42a9814f1270ae7bdac5",
            "00bf20c6598b42abaa6ec7a632f8bf0e",
            "0a0c4c34c04540d4bc9d43a39e31ae54",
            "501285dbd7654b54b8da9633ee3c185f",
            "e4083ace92034ceb8967aa20c78fd545",
            "1638930591bf4a1bb280dd4039aa755b",
            "0c7932e4feb04f3c95f5329ea146edcb",
            "38d81bcf6f484015bb8144b87ba244c8",
            "dbbf026f7d4a4cfa8534df717ccaac16",
            "66a1177ecac84aee8621799f315cb0ae",
            "5fef5c3fa26c4e748a2f67e57d2b2d76",
            "a96ebacfc6aa49f88a2a6af3c07e5610",
            "d8c9ff19908a488098f52232afefbf83",
            "e7a3d9a582534898a53130abd42ca2ac",
            "a8e7018577444f0fa90f0de6a17f616f"
          ]
        }
      },
      "source": [
        "train_images = prepare_images(train_samples)\n",
        "validation_images = prepare_images(validation_samples)\n",
        "test_images = prepare_images(test_samples)"
      ],
      "execution_count": 19,
      "outputs": [
        {
          "output_type": "display_data",
          "data": {
            "application/vnd.jupyter.widget-view+json": {
              "model_id": "dbf74a73d9824a288c69d6d1e0f3ab96",
              "version_minor": 0,
              "version_major": 2
            },
            "text/plain": [
              "HBox(children=(FloatProgress(value=0.0, max=86810.0), HTML(value='')))"
            ]
          },
          "metadata": {
            "tags": []
          }
        },
        {
          "output_type": "stream",
          "text": [
            "\n"
          ],
          "name": "stdout"
        },
        {
          "output_type": "display_data",
          "data": {
            "application/vnd.jupyter.widget-view+json": {
              "model_id": "d359280a815b445aa70af200057fb4a0",
              "version_minor": 0,
              "version_major": 2
            },
            "text/plain": [
              "HBox(children=(FloatProgress(value=0.0, max=4823.0), HTML(value='')))"
            ]
          },
          "metadata": {
            "tags": []
          }
        },
        {
          "output_type": "stream",
          "text": [
            "\n"
          ],
          "name": "stdout"
        },
        {
          "output_type": "display_data",
          "data": {
            "application/vnd.jupyter.widget-view+json": {
              "model_id": "38d81bcf6f484015bb8144b87ba244c8",
              "version_minor": 0,
              "version_major": 2
            },
            "text/plain": [
              "HBox(children=(FloatProgress(value=0.0, max=4823.0), HTML(value='')))"
            ]
          },
          "metadata": {
            "tags": []
          }
        },
        {
          "output_type": "stream",
          "text": [
            "\n"
          ],
          "name": "stdout"
        }
      ]
    },
    {
      "cell_type": "code",
      "metadata": {
        "id": "9cv3QeQ-SGJS"
      },
      "source": [
        "# Construct TensorFlow datasets.\n",
        "\n",
        "BATCH_SIZE = 64\n",
        "AUTOTUNE = tf.data.AUTOTUNE\n",
        "\n",
        "augmenter = imgaug.augmenters.Sequential([\n",
        "    imgaug.augmenters.GammaContrast(gamma=(0.25, 3.0)),\n",
        "    imgaug.augmenters.Sometimes(\n",
        "        0.3,\n",
        "        imgaug.augmenters.GaussianBlur(sigma=(0, 0.5))\n",
        "    )\n",
        "])\n",
        "\n",
        "\n",
        "def augment(images):\n",
        "    return augmenter(images=images.numpy())\n",
        "\n",
        "\n",
        "def make_dicts(images, labels):\n",
        "    return {\"images\": images, \"labels\": labels}\n",
        "\n",
        "\n",
        "def make_datasets(images, labels, training=True):\n",
        "    dataset = tf.data.Dataset.from_tensor_slices((images, labels))\n",
        "    if training:\n",
        "        dataset = dataset.shuffle(BATCH_SIZE * 25)\n",
        "    dataset = dataset.batch(BATCH_SIZE)\n",
        "\n",
        "    if training:\n",
        "        dataset = dataset.map(\n",
        "            lambda x, y: (tf.py_function(augment, [x], [tf.float32])[0], y),\n",
        "            num_parallel_calls=AUTOTUNE\n",
        "        )\n",
        "    dataset = dataset.map(make_dicts).prefetch(AUTOTUNE)\n",
        "    return dataset\n",
        "\n",
        "train_dataset = make_datasets(train_images, padded_train_words)\n",
        "validation_dataset = make_datasets(validation_images, padded_valid_words, False)\n",
        "test_dataset = make_datasets(test_images, padded_test_words, False)"
      ],
      "execution_count": 23,
      "outputs": []
    },
    {
      "cell_type": "code",
      "metadata": {
        "id": "doV5CtiBVgMQ"
      },
      "source": [
        "def plot_samples(images, labels):\n",
        "    _, ax = plt.subplots(4, 4, figsize=(12, 12))\n",
        "    for i in range(16):\n",
        "        img = (images[i] * 255).numpy().astype(\"uint8\")\n",
        "        label = process_word(labels[i].numpy())\n",
        "        ax[i // 4, i % 4].imshow(img.squeeze(-1).T, cmap=\"gray\")\n",
        "        ax[i // 4, i % 4].set_title(label)\n",
        "        ax[i // 4, i % 4].axis(\"off\")\n",
        "    plt.show()"
      ],
      "execution_count": 24,
      "outputs": []
    },
    {
      "cell_type": "code",
      "metadata": {
        "id": "SvslZTljVtQ6",
        "colab": {
          "base_uri": "https://localhost:8080/",
          "height": 594
        },
        "outputId": "c28c0e90-e091-4396-d4b1-48e697d9f978"
      },
      "source": [
        "batch = next(iter(train_dataset))\n",
        "plot_samples(batch[\"images\"], batch[\"labels\"])"
      ],
      "execution_count": 25,
      "outputs": [
        {
          "output_type": "display_data",
          "data": {
            "image/png": "[encoded data removed]",
            "text/plain": [
              "<Figure size 864x864 with 16 Axes>"
            ]
          },
          "metadata": {
            "tags": [],
            "needs_background": "light"
          }
        }
      ]
    },
    {
      "cell_type": "markdown",
      "metadata": {
        "id": "7KQ8ueDJb46h"
      },
      "source": [
        "## Model building"
      ]
    },
    {
      "cell_type": "code",
      "metadata": {
        "id": "QZRjUkjyWUXl",
        "colab": {
          "base_uri": "https://localhost:8080/"
        },
        "outputId": "38ae65d6-9ddf-4493-fe28-dc163090ea02"
      },
      "source": [
        "class CTCLayer( tf.keras.layers.Layer):\n",
        "    def __init__(self, name=None):\n",
        "        super().__init__(name=name)\n",
        "        self.loss_fn = tf.keras.backend.ctc_batch_cost\n",
        "\n",
        "    def call(self, y_true, y_pred):\n",
        "        batch_len = tf.cast(tf.shape(y_true)[0], dtype=\"int64\")\n",
        "        input_length = tf.cast(tf.shape(y_pred)[1], dtype=\"int64\")\n",
        "        label_length = tf.cast(tf.shape(y_true)[1], dtype=\"int64\")\n",
        "\n",
        "        input_length = input_length * tf.ones(shape=(batch_len, 1), dtype=\"int64\")\n",
        "        label_length = label_length * tf.ones(shape=(batch_len, 1), dtype=\"int64\")\n",
        "        loss = self.loss_fn(y_true, y_pred, input_length, label_length)\n",
        "        self.add_loss(loss)\n",
        "\n",
        "        # At test time, just return the computed predictions\n",
        "        return y_pred\n",
        "\n",
        "\n",
        "def build_model():\n",
        "    # Inputs to the model\n",
        "    input_img =  tf.keras.layers.Input(\n",
        "        shape=(IMG_WIDTH, IMG_HEIGHT, 1), name=\"images\")\n",
        "    labels =  tf.keras.layers.Input(name=\"labels\", shape=(None,))\n",
        "\n",
        "    # First conv block\n",
        "    x = tf.keras.layers.Conv2D(\n",
        "        32,\n",
        "        (3, 3),\n",
        "        activation=\"relu\",\n",
        "        kernel_initializer=\"he_normal\",\n",
        "        padding=\"same\",\n",
        "        name=\"Conv1\",\n",
        "    )(input_img)\n",
        "    x =  tf.keras.layers.MaxPooling2D((2, 2), name=\"pool1\")(x)\n",
        "\n",
        "    # Second conv block\n",
        "    x =  tf.keras.layers.Conv2D(\n",
        "        64,\n",
        "        (3, 3),\n",
        "        activation=\"relu\",\n",
        "        kernel_initializer=\"he_normal\",\n",
        "        padding=\"same\",\n",
        "        name=\"Conv2\",\n",
        "    )(x)\n",
        "    x =  tf.keras.layers.MaxPooling2D((2, 2), name=\"pool2\")(x)\n",
        "\n",
        "    # We have used two max pool with pool size and strides 2.\n",
        "    # Hence, downsampled feature maps are 4x smaller. The number of\n",
        "    # filters in the last layer is 64. Reshape accordingly before\n",
        "    # passing the output to the RNN part of the model\n",
        "    new_shape = ((IMG_WIDTH // 4), (IMG_HEIGHT // 4) * 64)\n",
        "    x =  tf.keras.layers.Reshape(target_shape=new_shape, name=\"reshape\")(x)\n",
        "    x =  tf.keras.layers.Dense(64, activation=\"relu\", name=\"dense1\")(x)\n",
        "    x =  tf.keras.layers.Dropout(0.2)(x)\n",
        "\n",
        "    # RNNs\n",
        "    x =  tf.keras.layers.Bidirectional( tf.keras.layers.LSTM(128, return_sequences=True, dropout=0.25))(x)\n",
        "    x =  tf.keras.layers.Bidirectional( tf.keras.layers.LSTM(64, return_sequences=True, dropout=0.25))(x)\n",
        "\n",
        "    # Output layer (the tokenizer is char-level)\n",
        "    # +2 recommendation came from here - https://github.com/MaybeShewill-CV/CRNN_Tensorflow/issues/69#issuecomment-383992527\n",
        "    x =  tf.keras.layers.Dense(len(tokenizer.word_index) + 2, activation=\"softmax\", name=\"dense2\")(x)\n",
        "    \n",
        "    # Add CTC layer for calculating CTC loss at each step\n",
        "    output = CTCLayer(name=\"ctc_loss\")(labels, x)\n",
        "\n",
        "    # Define the model\n",
        "    model =  tf.keras.models.Model(\n",
        "        inputs=[input_img, labels], outputs=output, name=\"handwriting_recognizer\"\n",
        "    )\n",
        "    # Optimizer\n",
        "    opt = tf.keras.optimizers.Adam()\n",
        "    # Compile the model and return\n",
        "    model.compile(optimizer=opt)\n",
        "    return model\n",
        "\n",
        "\n",
        "# Get the model\n",
        "model = build_model()\n",
        "model.summary()"
      ],
      "execution_count": 26,
      "outputs": [
        {
          "output_type": "stream",
          "text": [
            "Model: \"handwriting_recognizer\"\n",
            "__________________________________________________________________________________________________\n",
            "Layer (type)                    Output Shape         Param #     Connected to                     \n",
            "==================================================================================================\n",
            "images (InputLayer)             [(None, 128, 32, 1)] 0                                            \n",
            "__________________________________________________________________________________________________\n",
            "Conv1 (Conv2D)                  (None, 128, 32, 32)  320         images[0][0]                     \n",
            "__________________________________________________________________________________________________\n",
            "pool1 (MaxPooling2D)            (None, 64, 16, 32)   0           Conv1[0][0]                      \n",
            "__________________________________________________________________________________________________\n",
            "Conv2 (Conv2D)                  (None, 64, 16, 64)   18496       pool1[0][0]                      \n",
            "__________________________________________________________________________________________________\n",
            "pool2 (MaxPooling2D)            (None, 32, 8, 64)    0           Conv2[0][0]                      \n",
            "__________________________________________________________________________________________________\n",
            "reshape (Reshape)               (None, 32, 512)      0           pool2[0][0]                      \n",
            "__________________________________________________________________________________________________\n",
            "dense1 (Dense)                  (None, 32, 64)       32832       reshape[0][0]                    \n",
            "__________________________________________________________________________________________________\n",
            "dropout (Dropout)               (None, 32, 64)       0           dense1[0][0]                     \n",
            "__________________________________________________________________________________________________\n",
            "bidirectional (Bidirectional)   (None, 32, 256)      197632      dropout[0][0]                    \n",
            "__________________________________________________________________________________________________\n",
            "bidirectional_1 (Bidirectional) (None, 32, 128)      164352      bidirectional[0][0]              \n",
            "__________________________________________________________________________________________________\n",
            "labels (InputLayer)             [(None, None)]       0                                            \n",
            "__________________________________________________________________________________________________\n",
            "dense2 (Dense)                  (None, 32, 54)       6966        bidirectional_1[0][0]            \n",
            "__________________________________________________________________________________________________\n",
            "ctc_loss (CTCLayer)             (None, 32, 54)       0           labels[0][0]                     \n",
            "                                                                 dense2[0][0]                     \n",
            "==================================================================================================\n",
            "Total params: 420,598\n",
            "Trainable params: 420,598\n",
            "Non-trainable params: 0\n",
            "__________________________________________________________________________________________________\n"
          ],
          "name": "stdout"
        }
      ]
    },
    {
      "cell_type": "markdown",
      "metadata": {
        "id": "GUCgn5jJb7hP"
      },
      "source": [
        "## Model training"
      ]
    },
    {
      "cell_type": "code",
      "metadata": {
        "id": "zUwk56nCWxxQ",
        "colab": {
          "base_uri": "https://localhost:8080/"
        },
        "outputId": "e4ac1ead-2c12-4dda-b908-3a4591a6af15"
      },
      "source": [
        "epochs = 100\n",
        "early_stopping_patience = 10\n",
        "early_stopping = tf.keras.callbacks.EarlyStopping(\n",
        "    monitor=\"val_loss\", patience=early_stopping_patience, restore_best_weights=True\n",
        ")\n",
        "\n",
        "# Train the model\n",
        "model = build_model()\n",
        "history = model.fit(\n",
        "    train_dataset,\n",
        "    validation_data=validation_dataset,\n",
        "    epochs=epochs,\n",
        "    callbacks=[early_stopping],\n",
        ")"
      ],
      "execution_count": 27,
      "outputs": [
        {
          "output_type": "stream",
          "text": [
            "Epoch 1/100\n",
            "1357/1357 [==============================] - 66s 42ms/step - loss: 13.7039 - val_loss: 12.8109\n",
            "Epoch 2/100\n",
            "1357/1357 [==============================] - 57s 42ms/step - loss: 12.3833 - val_loss: 12.3740\n",
            "Epoch 3/100\n",
            "1357/1357 [==============================] - 57s 42ms/step - loss: 12.0636 - val_loss: 12.0246\n",
            "Epoch 4/100\n",
            "1357/1357 [==============================] - 57s 42ms/step - loss: 11.3540 - val_loss: 10.9796\n",
            "Epoch 5/100\n",
            "1357/1357 [==============================] - 57s 42ms/step - loss: 10.4784 - val_loss: 9.9197\n",
            "Epoch 6/100\n",
            "1357/1357 [==============================] - 57s 42ms/step - loss: 9.8998 - val_loss: 9.4077\n",
            "Epoch 7/100\n",
            "1357/1357 [==============================] - 57s 42ms/step - loss: 9.4814 - val_loss: 8.9178\n",
            "Epoch 8/100\n",
            "1357/1357 [==============================] - 57s 42ms/step - loss: 9.0652 - val_loss: 8.5845\n",
            "Epoch 9/100\n",
            "1357/1357 [==============================] - 57s 42ms/step - loss: 8.6633 - val_loss: 8.0102\n",
            "Epoch 10/100\n",
            "1357/1357 [==============================] - 57s 42ms/step - loss: 8.4094 - val_loss: 7.8673\n",
            "Epoch 11/100\n",
            "1357/1357 [==============================] - 56s 42ms/step - loss: 8.1767 - val_loss: 7.5236\n",
            "Epoch 12/100\n",
            "1357/1357 [==============================] - 58s 42ms/step - loss: 7.8461 - val_loss: 7.1450\n",
            "Epoch 13/100\n",
            "1357/1357 [==============================] - 57s 42ms/step - loss: 7.5472 - val_loss: 6.7844\n",
            "Epoch 14/100\n",
            "1357/1357 [==============================] - 57s 42ms/step - loss: 7.3233 - val_loss: 6.5515\n",
            "Epoch 15/100\n",
            "1357/1357 [==============================] - 56s 41ms/step - loss: 7.0660 - val_loss: 6.3180\n",
            "Epoch 16/100\n",
            "1357/1357 [==============================] - 57s 42ms/step - loss: 6.8688 - val_loss: 6.2760\n",
            "Epoch 17/100\n",
            "1357/1357 [==============================] - 57s 42ms/step - loss: 6.7193 - val_loss: 5.9512\n",
            "Epoch 18/100\n",
            "1357/1357 [==============================] - 57s 42ms/step - loss: 6.5804 - val_loss: 5.8578\n",
            "Epoch 19/100\n",
            "1357/1357 [==============================] - 56s 41ms/step - loss: 6.4279 - val_loss: 5.7647\n",
            "Epoch 20/100\n",
            "1357/1357 [==============================] - 56s 41ms/step - loss: 6.3582 - val_loss: 5.6309\n",
            "Epoch 21/100\n",
            "1357/1357 [==============================] - 56s 41ms/step - loss: 6.2170 - val_loss: 5.5342\n",
            "Epoch 22/100\n",
            "1357/1357 [==============================] - 56s 41ms/step - loss: 6.0912 - val_loss: 5.4642\n",
            "Epoch 23/100\n",
            "1357/1357 [==============================] - 57s 42ms/step - loss: 6.0353 - val_loss: 5.3556\n",
            "Epoch 24/100\n",
            "1357/1357 [==============================] - 56s 41ms/step - loss: 5.9217 - val_loss: 5.3582\n",
            "Epoch 25/100\n",
            "1357/1357 [==============================] - 56s 41ms/step - loss: 5.8324 - val_loss: 5.2444\n",
            "Epoch 26/100\n",
            "1357/1357 [==============================] - 56s 41ms/step - loss: 5.8023 - val_loss: 5.2309\n",
            "Epoch 27/100\n",
            "1357/1357 [==============================] - 56s 41ms/step - loss: 5.7345 - val_loss: 5.1590\n",
            "Epoch 28/100\n",
            "1357/1357 [==============================] - 56s 41ms/step - loss: 5.6841 - val_loss: 5.0648\n",
            "Epoch 29/100\n",
            "1357/1357 [==============================] - 56s 41ms/step - loss: 5.6088 - val_loss: 5.1474\n",
            "Epoch 30/100\n",
            "1357/1357 [==============================] - 55s 41ms/step - loss: 5.6234 - val_loss: 5.0841\n",
            "Epoch 31/100\n",
            "1357/1357 [==============================] - 56s 41ms/step - loss: 5.5251 - val_loss: 5.0094\n",
            "Epoch 32/100\n",
            "1357/1357 [==============================] - 56s 41ms/step - loss: 5.5101 - val_loss: 4.9668\n",
            "Epoch 33/100\n",
            "1357/1357 [==============================] - 56s 41ms/step - loss: 5.4147 - val_loss: 4.9486\n",
            "Epoch 34/100\n",
            "1357/1357 [==============================] - 56s 41ms/step - loss: 5.3793 - val_loss: 4.8842\n",
            "Epoch 35/100\n",
            "1357/1357 [==============================] - 55s 41ms/step - loss: 5.3687 - val_loss: 4.8651\n",
            "Epoch 36/100\n",
            "1357/1357 [==============================] - 56s 41ms/step - loss: 5.2890 - val_loss: 5.0575\n",
            "Epoch 37/100\n",
            "1357/1357 [==============================] - 56s 41ms/step - loss: 5.2567 - val_loss: 4.7835\n",
            "Epoch 38/100\n",
            "1357/1357 [==============================] - 57s 42ms/step - loss: 5.2343 - val_loss: 4.8270\n",
            "Epoch 39/100\n",
            "1357/1357 [==============================] - 56s 41ms/step - loss: 5.2059 - val_loss: 4.7774\n",
            "Epoch 40/100\n",
            "1357/1357 [==============================] - 56s 41ms/step - loss: 5.1838 - val_loss: 4.7607\n",
            "Epoch 41/100\n",
            "1357/1357 [==============================] - 56s 41ms/step - loss: 5.1533 - val_loss: 4.7303\n",
            "Epoch 42/100\n",
            "1357/1357 [==============================] - 57s 42ms/step - loss: 5.1413 - val_loss: 4.8708\n",
            "Epoch 43/100\n",
            "1357/1357 [==============================] - 57s 42ms/step - loss: 5.0948 - val_loss: 4.7127\n",
            "Epoch 44/100\n",
            "1357/1357 [==============================] - 56s 41ms/step - loss: 5.1394 - val_loss: 4.6977\n",
            "Epoch 45/100\n",
            "1357/1357 [==============================] - 57s 42ms/step - loss: 5.0313 - val_loss: 4.6310\n",
            "Epoch 46/100\n",
            "1357/1357 [==============================] - 57s 42ms/step - loss: 4.9796 - val_loss: 4.6168\n",
            "Epoch 47/100\n",
            "1357/1357 [==============================] - 57s 42ms/step - loss: 4.9697 - val_loss: 4.5964\n",
            "Epoch 48/100\n",
            "1357/1357 [==============================] - 57s 42ms/step - loss: 4.9318 - val_loss: 4.6240\n",
            "Epoch 49/100\n",
            "1357/1357 [==============================] - 56s 41ms/step - loss: 4.9080 - val_loss: 4.5938\n",
            "Epoch 50/100\n",
            "1357/1357 [==============================] - 57s 42ms/step - loss: 4.8800 - val_loss: 4.5267\n",
            "Epoch 51/100\n",
            "1357/1357 [==============================] - 57s 42ms/step - loss: 4.8973 - val_loss: 4.5433\n",
            "Epoch 52/100\n",
            "1357/1357 [==============================] - 57s 42ms/step - loss: 4.8488 - val_loss: 4.5200\n",
            "Epoch 53/100\n",
            "1357/1357 [==============================] - 57s 42ms/step - loss: 4.8546 - val_loss: 4.6398\n",
            "Epoch 54/100\n",
            "1357/1357 [==============================] - 57s 42ms/step - loss: 4.8663 - val_loss: 4.5372\n",
            "Epoch 55/100\n",
            "1357/1357 [==============================] - 57s 42ms/step - loss: 4.7947 - val_loss: 4.5131\n",
            "Epoch 56/100\n",
            "1357/1357 [==============================] - 57s 42ms/step - loss: 4.7804 - val_loss: 4.5624\n",
            "Epoch 57/100\n",
            "1357/1357 [==============================] - 57s 42ms/step - loss: 4.7609 - val_loss: 4.4406\n",
            "Epoch 58/100\n",
            "1357/1357 [==============================] - 57s 42ms/step - loss: 4.7453 - val_loss: 4.4943\n",
            "Epoch 59/100\n",
            "1357/1357 [==============================] - 57s 42ms/step - loss: 4.7298 - val_loss: 4.4358\n",
            "Epoch 60/100\n",
            "1357/1357 [==============================] - 56s 41ms/step - loss: 4.7277 - val_loss: 4.4348\n",
            "Epoch 61/100\n",
            "1357/1357 [==============================] - 57s 42ms/step - loss: 4.7062 - val_loss: 4.5103\n",
            "Epoch 62/100\n",
            "1357/1357 [==============================] - 56s 41ms/step - loss: 4.7812 - val_loss: 4.6003\n",
            "Epoch 63/100\n",
            "1357/1357 [==============================] - 57s 42ms/step - loss: 4.7257 - val_loss: 4.4368\n",
            "Epoch 64/100\n",
            "1357/1357 [==============================] - 57s 42ms/step - loss: 4.7109 - val_loss: 4.4251\n",
            "Epoch 65/100\n",
            "1357/1357 [==============================] - 57s 42ms/step - loss: 4.6816 - val_loss: 4.3785\n",
            "Epoch 66/100\n",
            "1357/1357 [==============================] - 57s 42ms/step - loss: 4.6478 - val_loss: 4.4075\n",
            "Epoch 67/100\n",
            "1357/1357 [==============================] - 56s 41ms/step - loss: 4.6296 - val_loss: 4.4149\n",
            "Epoch 68/100\n",
            "1357/1357 [==============================] - 57s 42ms/step - loss: 4.6126 - val_loss: 4.3693\n",
            "Epoch 69/100\n",
            "1357/1357 [==============================] - 57s 42ms/step - loss: 4.6054 - val_loss: 4.3311\n",
            "Epoch 70/100\n",
            "1357/1357 [==============================] - 57s 42ms/step - loss: 4.5899 - val_loss: 4.3718\n",
            "Epoch 71/100\n",
            "1357/1357 [==============================] - 57s 42ms/step - loss: 4.5992 - val_loss: 4.3356\n",
            "Epoch 72/100\n",
            "1357/1357 [==============================] - 57s 42ms/step - loss: 4.5682 - val_loss: 4.3345\n",
            "Epoch 73/100\n",
            "1357/1357 [==============================] - 57s 42ms/step - loss: 4.5591 - val_loss: 4.3392\n",
            "Epoch 74/100\n",
            "1357/1357 [==============================] - 57s 42ms/step - loss: 4.6918 - val_loss: 4.4846\n",
            "Epoch 75/100\n",
            "1357/1357 [==============================] - 57s 42ms/step - loss: 4.5943 - val_loss: 4.3333\n",
            "Epoch 76/100\n",
            "1357/1357 [==============================] - 57s 42ms/step - loss: 4.5429 - val_loss: 4.3719\n",
            "Epoch 77/100\n",
            "1357/1357 [==============================] - 56s 41ms/step - loss: 4.5101 - val_loss: 4.3205\n",
            "Epoch 78/100\n",
            "1357/1357 [==============================] - 56s 41ms/step - loss: 4.5086 - val_loss: 4.2883\n",
            "Epoch 79/100\n",
            "1357/1357 [==============================] - 57s 42ms/step - loss: 4.5113 - val_loss: 4.3032\n",
            "Epoch 80/100\n",
            "1357/1357 [==============================] - 57s 42ms/step - loss: 4.5394 - val_loss: 4.3564\n",
            "Epoch 81/100\n",
            "1357/1357 [==============================] - 57s 42ms/step - loss: 4.5076 - val_loss: 4.3425\n",
            "Epoch 82/100\n",
            "1357/1357 [==============================] - 58s 43ms/step - loss: 4.4651 - val_loss: 4.3243\n",
            "Epoch 83/100\n",
            "1357/1357 [==============================] - 56s 41ms/step - loss: 4.4624 - val_loss: 4.3878\n",
            "Epoch 84/100\n",
            "1357/1357 [==============================] - 56s 41ms/step - loss: 4.5095 - val_loss: 4.2975\n",
            "Epoch 85/100\n",
            "1357/1357 [==============================] - 57s 42ms/step - loss: 4.4493 - val_loss: 4.2531\n",
            "Epoch 86/100\n",
            "1357/1357 [==============================] - 56s 41ms/step - loss: 4.4423 - val_loss: 4.2563\n",
            "Epoch 87/100\n",
            "1357/1357 [==============================] - 58s 42ms/step - loss: 4.4308 - val_loss: 4.2949\n",
            "Epoch 88/100\n",
            "1357/1357 [==============================] - 57s 42ms/step - loss: 4.4231 - val_loss: 4.2685\n",
            "Epoch 89/100\n",
            "1357/1357 [==============================] - 56s 41ms/step - loss: 4.4293 - val_loss: 4.3003\n",
            "Epoch 90/100\n",
            "1357/1357 [==============================] - 56s 41ms/step - loss: 4.4332 - val_loss: 4.3408\n",
            "Epoch 91/100\n",
            "1357/1357 [==============================] - 57s 42ms/step - loss: 4.4365 - val_loss: 4.2450\n",
            "Epoch 92/100\n",
            "1357/1357 [==============================] - 58s 42ms/step - loss: 4.4231 - val_loss: 4.2451\n",
            "Epoch 93/100\n",
            "1357/1357 [==============================] - 56s 41ms/step - loss: 4.3929 - val_loss: 4.2030\n",
            "Epoch 94/100\n",
            "1357/1357 [==============================] - 57s 42ms/step - loss: 4.3967 - val_loss: 4.2767\n",
            "Epoch 95/100\n",
            "1357/1357 [==============================] - 56s 41ms/step - loss: 4.3831 - val_loss: 4.2333\n",
            "Epoch 96/100\n",
            "1357/1357 [==============================] - 56s 41ms/step - loss: 4.3584 - val_loss: 4.2771\n",
            "Epoch 97/100\n",
            "1357/1357 [==============================] - 58s 43ms/step - loss: 4.3949 - val_loss: 4.2621\n",
            "Epoch 98/100\n",
            "1357/1357 [==============================] - 57s 42ms/step - loss: 4.3742 - val_loss: 4.2439\n",
            "Epoch 99/100\n",
            "1357/1357 [==============================] - 57s 42ms/step - loss: 4.3431 - val_loss: 4.1714\n",
            "Epoch 100/100\n",
            "1357/1357 [==============================] - 56s 41ms/step - loss: 4.3499 - val_loss: 4.2090\n"
          ],
          "name": "stdout"
        }
      ]
    },
    {
      "cell_type": "code",
      "metadata": {
        "id": "aakOMS1c4c1I",
        "colab": {
          "base_uri": "https://localhost:8080/",
          "height": 295
        },
        "outputId": "ed5fe7dd-ccc7-41bd-bd4f-f75d0a79296c"
      },
      "source": [
        "plt.plot(history.history[\"loss\"], label=\"train_loss\")\n",
        "plt.plot(history.history[\"val_loss\"], label=\"val_loss\")\n",
        "plt.xlabel(\"Epochs\")\n",
        "plt.ylabel(\"CTC Loss\")\n",
        "plt.title(\"Model's Loss over Epochs\")\n",
        "plt.legend()\n",
        "plt.show()"
      ],
      "execution_count": 28,
      "outputs": [
        {
          "output_type": "display_data",
          "data": {
            "image/png": "[encoded data removed]",
            "text/plain": [
              "<Figure size 432x288 with 1 Axes>"
            ]
          },
          "metadata": {
            "tags": [],
            "needs_background": "light"
          }
        }
      ]
    },
    {
      "cell_type": "code",
      "metadata": {
        "id": "-yyn2luJQ1OU",
        "colab": {
          "base_uri": "https://localhost:8080/"
        },
        "outputId": "179b2264-fbe1-431b-8030-720f726a022e"
      },
      "source": [
        "# Get the prediction model by extracting layers till the output layer\n",
        "prediction_model = tf.keras.models.Model(\n",
        "    model.get_layer(name=\"images\").input, model.get_layer(name=\"dense2\").output\n",
        ")\n",
        "prediction_model.summary()"
      ],
      "execution_count": 30,
      "outputs": [
        {
          "output_type": "stream",
          "text": [
            "Model: \"model\"\n",
            "_________________________________________________________________\n",
            "Layer (type)                 Output Shape              Param #   \n",
            "=================================================================\n",
            "images (InputLayer)          [(None, 128, 32, 1)]      0         \n",
            "_________________________________________________________________\n",
            "Conv1 (Conv2D)               (None, 128, 32, 32)       320       \n",
            "_________________________________________________________________\n",
            "pool1 (MaxPooling2D)         (None, 64, 16, 32)        0         \n",
            "_________________________________________________________________\n",
            "Conv2 (Conv2D)               (None, 64, 16, 64)        18496     \n",
            "_________________________________________________________________\n",
            "pool2 (MaxPooling2D)         (None, 32, 8, 64)         0         \n",
            "_________________________________________________________________\n",
            "reshape (Reshape)            (None, 32, 512)           0         \n",
            "_________________________________________________________________\n",
            "dense1 (Dense)               (None, 32, 64)            32832     \n",
            "_________________________________________________________________\n",
            "dropout_1 (Dropout)          (None, 32, 64)            0         \n",
            "_________________________________________________________________\n",
            "bidirectional_2 (Bidirection (None, 32, 256)           197632    \n",
            "_________________________________________________________________\n",
            "bidirectional_3 (Bidirection (None, 32, 128)           164352    \n",
            "_________________________________________________________________\n",
            "dense2 (Dense)               (None, 32, 54)            6966      \n",
            "=================================================================\n",
            "Total params: 420,598\n",
            "Trainable params: 420,598\n",
            "Non-trainable params: 0\n",
            "_________________________________________________________________\n"
          ],
          "name": "stdout"
        }
      ]
    },
    {
      "cell_type": "code",
      "metadata": {
        "id": "0n-ZPN5sRLui"
      },
      "source": [
        "# Reference: https://github.com/rajesh-bhat/spark-ai-summit-2020-text-extraction/blob/master/CRNN_CTC_wandb.ipynb\n",
        "def ctc_decoder(predictions):\n",
        "    '''\n",
        "    input: given batch of predictions from text rec model\n",
        "    output: return lists of raw extracted text\n",
        "\n",
        "    '''\n",
        "    text_list = []\n",
        "    \n",
        "    pred_indcies = np.argmax(predictions, axis=2)\n",
        "    \n",
        "    for i in range(pred_indcies.shape[0]):\n",
        "        ans = \"\"\n",
        "        \n",
        "        ## merge repeats\n",
        "        merged_list = [k for k,_ in groupby(pred_indcies[i])]\n",
        "        \n",
        "        ## remove blanks\n",
        "        for p in merged_list:\n",
        "            if p != len(tokenizer.index_word) + 1:\n",
        "                ans += tokenizer.index_word[int(p)]\n",
        "        \n",
        "        text_list.append(ans)\n",
        "        \n",
        "    return text_list"
      ],
      "execution_count": 31,
      "outputs": []
    },
    {
      "cell_type": "code",
      "metadata": {
        "id": "JI5nbx2xRm7R",
        "colab": {
          "base_uri": "https://localhost:8080/",
          "height": 594
        },
        "outputId": "c2332c59-b7fd-4a9d-ec96-8e06912dbd91"
      },
      "source": [
        "#  Let's check results on some test samples.\n",
        "\n",
        "for batch in test_dataset.take(1):\n",
        "\n",
        "    batch_images = batch[\"images\"]\n",
        "    batch_labels = batch[\"labels\"]\n",
        "\n",
        "    preds = prediction_model.predict(batch_images)\n",
        "    pred_texts = ctc_decoder(preds)\n",
        "\n",
        "    fig , ax = plt.subplots(4, 4, figsize=(12, 12))\n",
        "    for i in range(16):\n",
        "\n",
        "        img = (batch_images[i, :, :, 0] * 255).numpy().astype(np.uint8)\n",
        "        title = f\"Prediction: {pred_texts[i]}\"\n",
        "        ax[i // 4, i % 4].imshow(img.T, cmap=\"gray\")\n",
        "        ax[i // 4, i % 4].set_title(title)\n",
        "        ax[i // 4, i % 4].axis(\"off\")\n",
        "        \n",
        "plt.show()"
      ],
      "execution_count": 32,
      "outputs": [
        {
          "output_type": "display_data",
          "data": {
            "image/png": "[encoded data removed]",
            "text/plain": [
              "<Figure size 864x864 with 16 Axes>"
            ]
          },
          "metadata": {
            "tags": [],
            "needs_background": "light"
          }
        }
      ]
    }
  ]
}