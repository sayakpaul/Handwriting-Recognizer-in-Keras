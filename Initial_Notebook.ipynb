{
  "nbformat": 4,
  "nbformat_minor": 0,
  "metadata": {
    "colab": {
      "name": "Handwritten_OCR.ipynb",
      "provenance": [],
      "collapsed_sections": [],
      "include_colab_link": true
    },
    "kernelspec": {
      "display_name": "Python 3",
      "name": "python3"
    },
    "accelerator": "GPU",
    "widgets": {
      "application/vnd.jupyter.widget-state+json": {
        "298b7332ff574d2f9cb969a3599d13d2": {
          "model_module": "@jupyter-widgets/controls",
          "model_name": "HBoxModel",
          "model_module_version": "1.5.0",
          "state": {
            "_view_name": "HBoxView",
            "_dom_classes": [],
            "_model_name": "HBoxModel",
            "_view_module": "@jupyter-widgets/controls",
            "_model_module_version": "1.5.0",
            "_view_count": null,
            "_view_module_version": "1.5.0",
            "box_style": "",
            "layout": "IPY_MODEL_1a1442aadbf6421ca553640577dd374e",
            "_model_module": "@jupyter-widgets/controls",
            "children": [
              "IPY_MODEL_7f78fa9f4f7b4394be64850b8af2131c",
              "IPY_MODEL_0aebcbef27a74d4c93047e1885140674"
            ]
          }
        },
        "1a1442aadbf6421ca553640577dd374e": {
          "model_module": "@jupyter-widgets/base",
          "model_name": "LayoutModel",
          "model_module_version": "1.2.0",
          "state": {
            "_view_name": "LayoutView",
            "grid_template_rows": null,
            "right": null,
            "justify_content": null,
            "_view_module": "@jupyter-widgets/base",
            "overflow": null,
            "_model_module_version": "1.2.0",
            "_view_count": null,
            "flex_flow": null,
            "width": null,
            "min_width": null,
            "border": null,
            "align_items": null,
            "bottom": null,
            "_model_module": "@jupyter-widgets/base",
            "top": null,
            "grid_column": null,
            "overflow_y": null,
            "overflow_x": null,
            "grid_auto_flow": null,
            "grid_area": null,
            "grid_template_columns": null,
            "flex": null,
            "_model_name": "LayoutModel",
            "justify_items": null,
            "grid_row": null,
            "max_height": null,
            "align_content": null,
            "visibility": null,
            "align_self": null,
            "height": null,
            "min_height": null,
            "padding": null,
            "grid_auto_rows": null,
            "grid_gap": null,
            "max_width": null,
            "order": null,
            "_view_module_version": "1.2.0",
            "grid_template_areas": null,
            "object_position": null,
            "object_fit": null,
            "grid_auto_columns": null,
            "margin": null,
            "display": null,
            "left": null
          }
        },
        "7f78fa9f4f7b4394be64850b8af2131c": {
          "model_module": "@jupyter-widgets/controls",
          "model_name": "FloatProgressModel",
          "model_module_version": "1.5.0",
          "state": {
            "_view_name": "ProgressView",
            "style": "IPY_MODEL_8cdf1d35ab3243b08db18c2f37a85eb3",
            "_dom_classes": [],
            "description": "100%",
            "_model_name": "FloatProgressModel",
            "bar_style": "success",
            "max": 115338,
            "_view_module": "@jupyter-widgets/controls",
            "_model_module_version": "1.5.0",
            "value": 115338,
            "_view_count": null,
            "_view_module_version": "1.5.0",
            "orientation": "horizontal",
            "min": 0,
            "description_tooltip": null,
            "_model_module": "@jupyter-widgets/controls",
            "layout": "IPY_MODEL_00ad53a1f6ff4073b1d02cbaf579779e"
          }
        },
        "0aebcbef27a74d4c93047e1885140674": {
          "model_module": "@jupyter-widgets/controls",
          "model_name": "HTMLModel",
          "model_module_version": "1.5.0",
          "state": {
            "_view_name": "HTMLView",
            "style": "IPY_MODEL_6959401ff3cb494e8c3318f87a399f2f",
            "_dom_classes": [],
            "description": "",
            "_model_name": "HTMLModel",
            "placeholder": "​",
            "_view_module": "@jupyter-widgets/controls",
            "_model_module_version": "1.5.0",
            "value": " 115338/115338 [00:05&lt;00:00, 19439.42it/s]",
            "_view_count": null,
            "_view_module_version": "1.5.0",
            "description_tooltip": null,
            "_model_module": "@jupyter-widgets/controls",
            "layout": "IPY_MODEL_6b7ecbe48bbe4385b7319b0c6422ebf8"
          }
        },
        "8cdf1d35ab3243b08db18c2f37a85eb3": {
          "model_module": "@jupyter-widgets/controls",
          "model_name": "ProgressStyleModel",
          "model_module_version": "1.5.0",
          "state": {
            "_view_name": "StyleView",
            "_model_name": "ProgressStyleModel",
            "description_width": "initial",
            "_view_module": "@jupyter-widgets/base",
            "_model_module_version": "1.5.0",
            "_view_count": null,
            "_view_module_version": "1.2.0",
            "bar_color": null,
            "_model_module": "@jupyter-widgets/controls"
          }
        },
        "00ad53a1f6ff4073b1d02cbaf579779e": {
          "model_module": "@jupyter-widgets/base",
          "model_name": "LayoutModel",
          "model_module_version": "1.2.0",
          "state": {
            "_view_name": "LayoutView",
            "grid_template_rows": null,
            "right": null,
            "justify_content": null,
            "_view_module": "@jupyter-widgets/base",
            "overflow": null,
            "_model_module_version": "1.2.0",
            "_view_count": null,
            "flex_flow": null,
            "width": null,
            "min_width": null,
            "border": null,
            "align_items": null,
            "bottom": null,
            "_model_module": "@jupyter-widgets/base",
            "top": null,
            "grid_column": null,
            "overflow_y": null,
            "overflow_x": null,
            "grid_auto_flow": null,
            "grid_area": null,
            "grid_template_columns": null,
            "flex": null,
            "_model_name": "LayoutModel",
            "justify_items": null,
            "grid_row": null,
            "max_height": null,
            "align_content": null,
            "visibility": null,
            "align_self": null,
            "height": null,
            "min_height": null,
            "padding": null,
            "grid_auto_rows": null,
            "grid_gap": null,
            "max_width": null,
            "order": null,
            "_view_module_version": "1.2.0",
            "grid_template_areas": null,
            "object_position": null,
            "object_fit": null,
            "grid_auto_columns": null,
            "margin": null,
            "display": null,
            "left": null
          }
        },
        "6959401ff3cb494e8c3318f87a399f2f": {
          "model_module": "@jupyter-widgets/controls",
          "model_name": "DescriptionStyleModel",
          "model_module_version": "1.5.0",
          "state": {
            "_view_name": "StyleView",
            "_model_name": "DescriptionStyleModel",
            "description_width": "",
            "_view_module": "@jupyter-widgets/base",
            "_model_module_version": "1.5.0",
            "_view_count": null,
            "_view_module_version": "1.2.0",
            "_model_module": "@jupyter-widgets/controls"
          }
        },
        "6b7ecbe48bbe4385b7319b0c6422ebf8": {
          "model_module": "@jupyter-widgets/base",
          "model_name": "LayoutModel",
          "model_module_version": "1.2.0",
          "state": {
            "_view_name": "LayoutView",
            "grid_template_rows": null,
            "right": null,
            "justify_content": null,
            "_view_module": "@jupyter-widgets/base",
            "overflow": null,
            "_model_module_version": "1.2.0",
            "_view_count": null,
            "flex_flow": null,
            "width": null,
            "min_width": null,
            "border": null,
            "align_items": null,
            "bottom": null,
            "_model_module": "@jupyter-widgets/base",
            "top": null,
            "grid_column": null,
            "overflow_y": null,
            "overflow_x": null,
            "grid_auto_flow": null,
            "grid_area": null,
            "grid_template_columns": null,
            "flex": null,
            "_model_name": "LayoutModel",
            "justify_items": null,
            "grid_row": null,
            "max_height": null,
            "align_content": null,
            "visibility": null,
            "align_self": null,
            "height": null,
            "min_height": null,
            "padding": null,
            "grid_auto_rows": null,
            "grid_gap": null,
            "max_width": null,
            "order": null,
            "_view_module_version": "1.2.0",
            "grid_template_areas": null,
            "object_position": null,
            "object_fit": null,
            "grid_auto_columns": null,
            "margin": null,
            "display": null,
            "left": null
          }
        },
        "2b43f57707b949f7af587df2f98055cf": {
          "model_module": "@jupyter-widgets/controls",
          "model_name": "HBoxModel",
          "model_module_version": "1.5.0",
          "state": {
            "_view_name": "HBoxView",
            "_dom_classes": [],
            "_model_name": "HBoxModel",
            "_view_module": "@jupyter-widgets/controls",
            "_model_module_version": "1.5.0",
            "_view_count": null,
            "_view_module_version": "1.5.0",
            "box_style": "",
            "layout": "IPY_MODEL_3352fa3b4ad8478690b09745d653859c",
            "_model_module": "@jupyter-widgets/controls",
            "children": [
              "IPY_MODEL_357dd888cbf14c11a6309ae9fa7b395b",
              "IPY_MODEL_25008a11bdb04d2fb4588f98821234ce"
            ]
          }
        },
        "3352fa3b4ad8478690b09745d653859c": {
          "model_module": "@jupyter-widgets/base",
          "model_name": "LayoutModel",
          "model_module_version": "1.2.0",
          "state": {
            "_view_name": "LayoutView",
            "grid_template_rows": null,
            "right": null,
            "justify_content": null,
            "_view_module": "@jupyter-widgets/base",
            "overflow": null,
            "_model_module_version": "1.2.0",
            "_view_count": null,
            "flex_flow": null,
            "width": null,
            "min_width": null,
            "border": null,
            "align_items": null,
            "bottom": null,
            "_model_module": "@jupyter-widgets/base",
            "top": null,
            "grid_column": null,
            "overflow_y": null,
            "overflow_x": null,
            "grid_auto_flow": null,
            "grid_area": null,
            "grid_template_columns": null,
            "flex": null,
            "_model_name": "LayoutModel",
            "justify_items": null,
            "grid_row": null,
            "max_height": null,
            "align_content": null,
            "visibility": null,
            "align_self": null,
            "height": null,
            "min_height": null,
            "padding": null,
            "grid_auto_rows": null,
            "grid_gap": null,
            "max_width": null,
            "order": null,
            "_view_module_version": "1.2.0",
            "grid_template_areas": null,
            "object_position": null,
            "object_fit": null,
            "grid_auto_columns": null,
            "margin": null,
            "display": null,
            "left": null
          }
        },
        "357dd888cbf14c11a6309ae9fa7b395b": {
          "model_module": "@jupyter-widgets/controls",
          "model_name": "FloatProgressModel",
          "model_module_version": "1.5.0",
          "state": {
            "_view_name": "ProgressView",
            "style": "IPY_MODEL_053f60bfdf9e4d53b80c81f26b88ed16",
            "_dom_classes": [],
            "description": "100%",
            "_model_name": "FloatProgressModel",
            "bar_style": "success",
            "max": 86810,
            "_view_module": "@jupyter-widgets/controls",
            "_model_module_version": "1.5.0",
            "value": 86810,
            "_view_count": null,
            "_view_module_version": "1.5.0",
            "orientation": "horizontal",
            "min": 0,
            "description_tooltip": null,
            "_model_module": "@jupyter-widgets/controls",
            "layout": "IPY_MODEL_bd0f97b5663c470c94363c4773b2f896"
          }
        },
        "25008a11bdb04d2fb4588f98821234ce": {
          "model_module": "@jupyter-widgets/controls",
          "model_name": "HTMLModel",
          "model_module_version": "1.5.0",
          "state": {
            "_view_name": "HTMLView",
            "style": "IPY_MODEL_d17bc71794f44d2c95fe31139ecde18c",
            "_dom_classes": [],
            "description": "",
            "_model_name": "HTMLModel",
            "placeholder": "​",
            "_view_module": "@jupyter-widgets/controls",
            "_model_module_version": "1.5.0",
            "value": " 86810/86810 [00:47&lt;00:00, 1814.41it/s]",
            "_view_count": null,
            "_view_module_version": "1.5.0",
            "description_tooltip": null,
            "_model_module": "@jupyter-widgets/controls",
            "layout": "IPY_MODEL_8334a20cf60f4c4582df0b7f20996ee3"
          }
        },
        "053f60bfdf9e4d53b80c81f26b88ed16": {
          "model_module": "@jupyter-widgets/controls",
          "model_name": "ProgressStyleModel",
          "model_module_version": "1.5.0",
          "state": {
            "_view_name": "StyleView",
            "_model_name": "ProgressStyleModel",
            "description_width": "initial",
            "_view_module": "@jupyter-widgets/base",
            "_model_module_version": "1.5.0",
            "_view_count": null,
            "_view_module_version": "1.2.0",
            "bar_color": null,
            "_model_module": "@jupyter-widgets/controls"
          }
        },
        "bd0f97b5663c470c94363c4773b2f896": {
          "model_module": "@jupyter-widgets/base",
          "model_name": "LayoutModel",
          "model_module_version": "1.2.0",
          "state": {
            "_view_name": "LayoutView",
            "grid_template_rows": null,
            "right": null,
            "justify_content": null,
            "_view_module": "@jupyter-widgets/base",
            "overflow": null,
            "_model_module_version": "1.2.0",
            "_view_count": null,
            "flex_flow": null,
            "width": null,
            "min_width": null,
            "border": null,
            "align_items": null,
            "bottom": null,
            "_model_module": "@jupyter-widgets/base",
            "top": null,
            "grid_column": null,
            "overflow_y": null,
            "overflow_x": null,
            "grid_auto_flow": null,
            "grid_area": null,
            "grid_template_columns": null,
            "flex": null,
            "_model_name": "LayoutModel",
            "justify_items": null,
            "grid_row": null,
            "max_height": null,
            "align_content": null,
            "visibility": null,
            "align_self": null,
            "height": null,
            "min_height": null,
            "padding": null,
            "grid_auto_rows": null,
            "grid_gap": null,
            "max_width": null,
            "order": null,
            "_view_module_version": "1.2.0",
            "grid_template_areas": null,
            "object_position": null,
            "object_fit": null,
            "grid_auto_columns": null,
            "margin": null,
            "display": null,
            "left": null
          }
        },
        "d17bc71794f44d2c95fe31139ecde18c": {
          "model_module": "@jupyter-widgets/controls",
          "model_name": "DescriptionStyleModel",
          "model_module_version": "1.5.0",
          "state": {
            "_view_name": "StyleView",
            "_model_name": "DescriptionStyleModel",
            "description_width": "",
            "_view_module": "@jupyter-widgets/base",
            "_model_module_version": "1.5.0",
            "_view_count": null,
            "_view_module_version": "1.2.0",
            "_model_module": "@jupyter-widgets/controls"
          }
        },
        "8334a20cf60f4c4582df0b7f20996ee3": {
          "model_module": "@jupyter-widgets/base",
          "model_name": "LayoutModel",
          "model_module_version": "1.2.0",
          "state": {
            "_view_name": "LayoutView",
            "grid_template_rows": null,
            "right": null,
            "justify_content": null,
            "_view_module": "@jupyter-widgets/base",
            "overflow": null,
            "_model_module_version": "1.2.0",
            "_view_count": null,
            "flex_flow": null,
            "width": null,
            "min_width": null,
            "border": null,
            "align_items": null,
            "bottom": null,
            "_model_module": "@jupyter-widgets/base",
            "top": null,
            "grid_column": null,
            "overflow_y": null,
            "overflow_x": null,
            "grid_auto_flow": null,
            "grid_area": null,
            "grid_template_columns": null,
            "flex": null,
            "_model_name": "LayoutModel",
            "justify_items": null,
            "grid_row": null,
            "max_height": null,
            "align_content": null,
            "visibility": null,
            "align_self": null,
            "height": null,
            "min_height": null,
            "padding": null,
            "grid_auto_rows": null,
            "grid_gap": null,
            "max_width": null,
            "order": null,
            "_view_module_version": "1.2.0",
            "grid_template_areas": null,
            "object_position": null,
            "object_fit": null,
            "grid_auto_columns": null,
            "margin": null,
            "display": null,
            "left": null
          }
        },
        "ba2c3ae75357415083989b27b9823eac": {
          "model_module": "@jupyter-widgets/controls",
          "model_name": "HBoxModel",
          "model_module_version": "1.5.0",
          "state": {
            "_view_name": "HBoxView",
            "_dom_classes": [],
            "_model_name": "HBoxModel",
            "_view_module": "@jupyter-widgets/controls",
            "_model_module_version": "1.5.0",
            "_view_count": null,
            "_view_module_version": "1.5.0",
            "box_style": "",
            "layout": "IPY_MODEL_013a226fa310490db468bb96390680cc",
            "_model_module": "@jupyter-widgets/controls",
            "children": [
              "IPY_MODEL_f2835f5c8f1d45a2a9b6d9e245729fa8",
              "IPY_MODEL_c1f9b831a3504a6aaa3b4373ff261230"
            ]
          }
        },
        "013a226fa310490db468bb96390680cc": {
          "model_module": "@jupyter-widgets/base",
          "model_name": "LayoutModel",
          "model_module_version": "1.2.0",
          "state": {
            "_view_name": "LayoutView",
            "grid_template_rows": null,
            "right": null,
            "justify_content": null,
            "_view_module": "@jupyter-widgets/base",
            "overflow": null,
            "_model_module_version": "1.2.0",
            "_view_count": null,
            "flex_flow": null,
            "width": null,
            "min_width": null,
            "border": null,
            "align_items": null,
            "bottom": null,
            "_model_module": "@jupyter-widgets/base",
            "top": null,
            "grid_column": null,
            "overflow_y": null,
            "overflow_x": null,
            "grid_auto_flow": null,
            "grid_area": null,
            "grid_template_columns": null,
            "flex": null,
            "_model_name": "LayoutModel",
            "justify_items": null,
            "grid_row": null,
            "max_height": null,
            "align_content": null,
            "visibility": null,
            "align_self": null,
            "height": null,
            "min_height": null,
            "padding": null,
            "grid_auto_rows": null,
            "grid_gap": null,
            "max_width": null,
            "order": null,
            "_view_module_version": "1.2.0",
            "grid_template_areas": null,
            "object_position": null,
            "object_fit": null,
            "grid_auto_columns": null,
            "margin": null,
            "display": null,
            "left": null
          }
        },
        "f2835f5c8f1d45a2a9b6d9e245729fa8": {
          "model_module": "@jupyter-widgets/controls",
          "model_name": "FloatProgressModel",
          "model_module_version": "1.5.0",
          "state": {
            "_view_name": "ProgressView",
            "style": "IPY_MODEL_ac29e644ff774fc9b82a9fd326fa45ce",
            "_dom_classes": [],
            "description": "100%",
            "_model_name": "FloatProgressModel",
            "bar_style": "success",
            "max": 9646,
            "_view_module": "@jupyter-widgets/controls",
            "_model_module_version": "1.5.0",
            "value": 9646,
            "_view_count": null,
            "_view_module_version": "1.5.0",
            "orientation": "horizontal",
            "min": 0,
            "description_tooltip": null,
            "_model_module": "@jupyter-widgets/controls",
            "layout": "IPY_MODEL_0250a933d69944c3ada84553dd54200c"
          }
        },
        "c1f9b831a3504a6aaa3b4373ff261230": {
          "model_module": "@jupyter-widgets/controls",
          "model_name": "HTMLModel",
          "model_module_version": "1.5.0",
          "state": {
            "_view_name": "HTMLView",
            "style": "IPY_MODEL_a21ea9de433d4f92bbc37eb00bc0cbaa",
            "_dom_classes": [],
            "description": "",
            "_model_name": "HTMLModel",
            "placeholder": "​",
            "_view_module": "@jupyter-widgets/controls",
            "_model_module_version": "1.5.0",
            "value": " 9646/9646 [00:04&lt;00:00, 2013.51it/s]",
            "_view_count": null,
            "_view_module_version": "1.5.0",
            "description_tooltip": null,
            "_model_module": "@jupyter-widgets/controls",
            "layout": "IPY_MODEL_936ac4151f5f46c88abfaaa3890c4f08"
          }
        },
        "ac29e644ff774fc9b82a9fd326fa45ce": {
          "model_module": "@jupyter-widgets/controls",
          "model_name": "ProgressStyleModel",
          "model_module_version": "1.5.0",
          "state": {
            "_view_name": "StyleView",
            "_model_name": "ProgressStyleModel",
            "description_width": "initial",
            "_view_module": "@jupyter-widgets/base",
            "_model_module_version": "1.5.0",
            "_view_count": null,
            "_view_module_version": "1.2.0",
            "bar_color": null,
            "_model_module": "@jupyter-widgets/controls"
          }
        },
        "0250a933d69944c3ada84553dd54200c": {
          "model_module": "@jupyter-widgets/base",
          "model_name": "LayoutModel",
          "model_module_version": "1.2.0",
          "state": {
            "_view_name": "LayoutView",
            "grid_template_rows": null,
            "right": null,
            "justify_content": null,
            "_view_module": "@jupyter-widgets/base",
            "overflow": null,
            "_model_module_version": "1.2.0",
            "_view_count": null,
            "flex_flow": null,
            "width": null,
            "min_width": null,
            "border": null,
            "align_items": null,
            "bottom": null,
            "_model_module": "@jupyter-widgets/base",
            "top": null,
            "grid_column": null,
            "overflow_y": null,
            "overflow_x": null,
            "grid_auto_flow": null,
            "grid_area": null,
            "grid_template_columns": null,
            "flex": null,
            "_model_name": "LayoutModel",
            "justify_items": null,
            "grid_row": null,
            "max_height": null,
            "align_content": null,
            "visibility": null,
            "align_self": null,
            "height": null,
            "min_height": null,
            "padding": null,
            "grid_auto_rows": null,
            "grid_gap": null,
            "max_width": null,
            "order": null,
            "_view_module_version": "1.2.0",
            "grid_template_areas": null,
            "object_position": null,
            "object_fit": null,
            "grid_auto_columns": null,
            "margin": null,
            "display": null,
            "left": null
          }
        },
        "a21ea9de433d4f92bbc37eb00bc0cbaa": {
          "model_module": "@jupyter-widgets/controls",
          "model_name": "DescriptionStyleModel",
          "model_module_version": "1.5.0",
          "state": {
            "_view_name": "StyleView",
            "_model_name": "DescriptionStyleModel",
            "description_width": "",
            "_view_module": "@jupyter-widgets/base",
            "_model_module_version": "1.5.0",
            "_view_count": null,
            "_view_module_version": "1.2.0",
            "_model_module": "@jupyter-widgets/controls"
          }
        },
        "936ac4151f5f46c88abfaaa3890c4f08": {
          "model_module": "@jupyter-widgets/base",
          "model_name": "LayoutModel",
          "model_module_version": "1.2.0",
          "state": {
            "_view_name": "LayoutView",
            "grid_template_rows": null,
            "right": null,
            "justify_content": null,
            "_view_module": "@jupyter-widgets/base",
            "overflow": null,
            "_model_module_version": "1.2.0",
            "_view_count": null,
            "flex_flow": null,
            "width": null,
            "min_width": null,
            "border": null,
            "align_items": null,
            "bottom": null,
            "_model_module": "@jupyter-widgets/base",
            "top": null,
            "grid_column": null,
            "overflow_y": null,
            "overflow_x": null,
            "grid_auto_flow": null,
            "grid_area": null,
            "grid_template_columns": null,
            "flex": null,
            "_model_name": "LayoutModel",
            "justify_items": null,
            "grid_row": null,
            "max_height": null,
            "align_content": null,
            "visibility": null,
            "align_self": null,
            "height": null,
            "min_height": null,
            "padding": null,
            "grid_auto_rows": null,
            "grid_gap": null,
            "max_width": null,
            "order": null,
            "_view_module_version": "1.2.0",
            "grid_template_areas": null,
            "object_position": null,
            "object_fit": null,
            "grid_auto_columns": null,
            "margin": null,
            "display": null,
            "left": null
          }
        }
      }
    }
  },
  "cells": [
    {
      "cell_type": "markdown",
      "metadata": {
        "id": "view-in-github",
        "colab_type": "text"
      },
      "source": [
        "<a href=\"https://colab.research.google.com/github/sayakpaul/Handwriting-Recognizer-in-Keras/blob/main/Initial_Notebook.ipynb\" target=\"_parent\"><img src=\"https://colab.research.google.com/assets/colab-badge.svg\" alt=\"Open In Colab\"/></a>"
      ]
    },
    {
      "cell_type": "markdown",
      "metadata": {
        "id": "D6B83kI1VDpQ"
      },
      "source": [
        "## Reference\n",
        "- Keras example on [Captcha OCR](https://keras.io/examples/vision/captcha_ocr/)"
      ]
    },
    {
      "cell_type": "code",
      "metadata": {
        "id": "lIYdn1woOS1n",
        "colab": {
          "base_uri": "https://localhost:8080/",
          "height": 357
        },
        "outputId": "b18e7e13-af17-42fa-cfd1-c882f639d2d6"
      },
      "source": [
        "!nvidia-smi"
      ],
      "execution_count": null,
      "outputs": [
        {
          "output_type": "stream",
          "text": [
            "Sun Sep 27 04:03:06 2020       \n",
            "+-----------------------------------------------------------------------------+\n",
            "| NVIDIA-SMI 450.66       Driver Version: 418.67       CUDA Version: 10.1     |\n",
            "|-------------------------------+----------------------+----------------------+\n",
            "| GPU  Name        Persistence-M| Bus-Id        Disp.A | Volatile Uncorr. ECC |\n",
            "| Fan  Temp  Perf  Pwr:Usage/Cap|         Memory-Usage | GPU-Util  Compute M. |\n",
            "|                               |                      |               MIG M. |\n",
            "|===============================+======================+======================|\n",
            "|   0  Tesla T4            Off  | 00000000:00:04.0 Off |                    0 |\n",
            "| N/A   63C    P8    11W /  70W |      0MiB / 15079MiB |      0%      Default |\n",
            "|                               |                      |                 ERR! |\n",
            "+-------------------------------+----------------------+----------------------+\n",
            "                                                                               \n",
            "+-----------------------------------------------------------------------------+\n",
            "| Processes:                                                                  |\n",
            "|  GPU   GI   CI        PID   Type   Process name                  GPU Memory |\n",
            "|        ID   ID                                                   Usage      |\n",
            "|=============================================================================|\n",
            "|  No running processes found                                                 |\n",
            "+-----------------------------------------------------------------------------+\n"
          ],
          "name": "stdout"
        }
      ]
    },
    {
      "cell_type": "markdown",
      "metadata": {
        "id": "BOJ3n-LZbxls"
      },
      "source": [
        "## Dataset collection"
      ]
    },
    {
      "cell_type": "code",
      "metadata": {
        "id": "w1MdZdnrJq5l"
      },
      "source": [
        "!wget -q https://github.com/sayakpaul/Handwriting-Recognizer-in-Keras/releases/download/v1.0.0/IAM_Words.zip\n",
        "!unzip -qq IAM_Words.zip"
      ],
      "execution_count": null,
      "outputs": []
    },
    {
      "cell_type": "code",
      "metadata": {
        "id": "jo2n2mBxL3N6"
      },
      "source": [
        "!mkdir data\n",
        "!mkdir data/words\n",
        "!tar -xf words.tgz -C data/words\n",
        "!mv words.txt data"
      ],
      "execution_count": null,
      "outputs": []
    },
    {
      "cell_type": "code",
      "metadata": {
        "id": "OwwnL7cwL8q0",
        "colab": {
          "base_uri": "https://localhost:8080/",
          "height": 357
        },
        "outputId": "a97aa81f-af37-468e-ff2b-c076ae8e59a9"
      },
      "source": [
        "!head -20 data/words.txt"
      ],
      "execution_count": null,
      "outputs": [
        {
          "output_type": "stream",
          "text": [
            "#--- words.txt ---------------------------------------------------------------#\n",
            "#\n",
            "# iam database word information\n",
            "#\n",
            "# format: a01-000u-00-00 ok 154 1 408 768 27 51 AT A\n",
            "#\n",
            "#     a01-000u-00-00  -> word id for line 00 in form a01-000u\n",
            "#     ok              -> result of word segmentation\n",
            "#                            ok: word was correctly\n",
            "#                            er: segmentation of word can be bad\n",
            "#\n",
            "#     154             -> graylevel to binarize the line containing this word\n",
            "#     1               -> number of components for this word\n",
            "#     408 768 27 51   -> bounding box around this word in x,y,w,h format\n",
            "#     AT              -> the grammatical tag for this word, see the\n",
            "#                        file tagset.txt for an explanation\n",
            "#     A               -> the transcription for this word\n",
            "#\n",
            "a01-000u-00-00 ok 154 408 768 27 51 AT A\n",
            "a01-000u-00-01 ok 154 507 766 213 48 NN MOVE\n"
          ],
          "name": "stdout"
        }
      ]
    },
    {
      "cell_type": "markdown",
      "metadata": {
        "id": "T5Br7NfLbz_E"
      },
      "source": [
        "## Imports"
      ]
    },
    {
      "cell_type": "code",
      "metadata": {
        "id": "AzAn4MGOMGyP"
      },
      "source": [
        "from imutils import paths\n",
        "from tqdm.notebook import tqdm\n",
        "from pickle import dump\n",
        "from itertools import groupby\n",
        "\n",
        "import tensorflow as tf\n",
        "import matplotlib.pyplot as plt\n",
        "import numpy as np\n",
        "import cv2\n",
        "import os\n",
        "\n",
        "np.random.seed(42)\n",
        "tf.random.set_seed(42)"
      ],
      "execution_count": null,
      "outputs": []
    },
    {
      "cell_type": "markdown",
      "metadata": {
        "id": "eFUUdA4Ib1q4"
      },
      "source": [
        "## Dataset preparation"
      ]
    },
    {
      "cell_type": "code",
      "metadata": {
        "id": "M0OnjVA6MQTu",
        "colab": {
          "base_uri": "https://localhost:8080/",
          "height": 102
        },
        "outputId": "eab34b9d-a147-467d-ddfa-0d6470aebe6f"
      },
      "source": [
        "# filename: part1-part2-part3 --> part1/part1-part2/part1-part2-part3.png\n",
        "all_images = list(paths.list_images('/content/data/words'))\n",
        "all_images[:5]"
      ],
      "execution_count": null,
      "outputs": [
        {
          "output_type": "execute_result",
          "data": {
            "text/plain": [
              "['/content/data/words/c04/c04-110/c04-110-00-11.png',\n",
              " '/content/data/words/c04/c04-110/c04-110-03-02.png',\n",
              " '/content/data/words/c04/c04-110/c04-110-01-03.png',\n",
              " '/content/data/words/c04/c04-110/c04-110-03-12.png',\n",
              " '/content/data/words/c04/c04-110/c04-110-03-04.png']"
            ]
          },
          "metadata": {
            "tags": []
          },
          "execution_count": 4
        }
      ]
    },
    {
      "cell_type": "code",
      "metadata": {
        "id": "bWcMSzy9NCdp",
        "colab": {
          "base_uri": "https://localhost:8080/",
          "height": 83,
          "referenced_widgets": [
            "298b7332ff574d2f9cb969a3599d13d2",
            "1a1442aadbf6421ca553640577dd374e",
            "7f78fa9f4f7b4394be64850b8af2131c",
            "0aebcbef27a74d4c93047e1885140674",
            "8cdf1d35ab3243b08db18c2f37a85eb3",
            "00ad53a1f6ff4073b1d02cbaf579779e",
            "6959401ff3cb494e8c3318f87a399f2f",
            "6b7ecbe48bbe4385b7319b0c6422ebf8"
          ]
        },
        "outputId": "f86b38b1-9fe7-4247-d339-152bc2e86e10"
      },
      "source": [
        "words_list = []\n",
        "\n",
        "words = open('/content/data/words.txt', 'r').readlines()\n",
        "for line in tqdm(words):\n",
        "    if line[0]=='#':\n",
        "        continue\n",
        "    if line.split(\" \")[1]!=\"err\": # We don't need to deal with errored entries\n",
        "        words_list.append(line)\n",
        "\n",
        "len(words_list)"
      ],
      "execution_count": null,
      "outputs": [
        {
          "output_type": "display_data",
          "data": {
            "application/vnd.jupyter.widget-view+json": {
              "model_id": "298b7332ff574d2f9cb969a3599d13d2",
              "version_minor": 0,
              "version_major": 2
            },
            "text/plain": [
              "HBox(children=(FloatProgress(value=0.0, max=115338.0), HTML(value='')))"
            ]
          },
          "metadata": {
            "tags": []
          }
        },
        {
          "output_type": "stream",
          "text": [
            "\n"
          ],
          "name": "stdout"
        },
        {
          "output_type": "execute_result",
          "data": {
            "text/plain": [
              "96456"
            ]
          },
          "metadata": {
            "tags": []
          },
          "execution_count": 5
        }
      ]
    },
    {
      "cell_type": "code",
      "metadata": {
        "id": "2MkkUDt6SCr5"
      },
      "source": [
        "np.random.shuffle(words_list)"
      ],
      "execution_count": null,
      "outputs": []
    },
    {
      "cell_type": "markdown",
      "metadata": {
        "id": "Q_1JJr-joiMb"
      },
      "source": [
        "### Prepare the splits (90:10)"
      ]
    },
    {
      "cell_type": "code",
      "metadata": {
        "id": "OlWJ8FP2Rpht",
        "colab": {
          "base_uri": "https://localhost:8080/",
          "height": 34
        },
        "outputId": "df4b1159-3711-4221-89d2-21ff017f7ee3"
      },
      "source": [
        "splitIdx = int(0.9 * len(words_list))\n",
        "trainSamples = words_list[:splitIdx]\n",
        "validationSamples = words_list[splitIdx:]\n",
        "\n",
        "len(trainSamples), len(validationSamples)"
      ],
      "execution_count": null,
      "outputs": [
        {
          "output_type": "execute_result",
          "data": {
            "text/plain": [
              "(86810, 9646)"
            ]
          },
          "metadata": {
            "tags": []
          },
          "execution_count": 7
        }
      ]
    },
    {
      "cell_type": "code",
      "metadata": {
        "id": "c9oBlfUkNGVz",
        "colab": {
          "base_uri": "https://localhost:8080/",
          "height": 85
        },
        "outputId": "ba757b01-40b9-4b49-ea06-4958bd4463d2"
      },
      "source": [
        "train_words = [line.split(' ')[8:][0].strip() for line in trainSamples]\n",
        "max_label_len = max([len(str(text)) for text in train_words])\n",
        "print(max_label_len)\n",
        "\n",
        "tokenizer = tf.keras.preprocessing.text.Tokenizer(filters=\"\\n\", char_level=True)\n",
        "tokenizer.fit_on_texts(train_words)\n",
        "tokenized_words = tokenizer.texts_to_sequences(train_words)\n",
        "padded_train_words = tf.keras.preprocessing.sequence.pad_sequences(tokenized_words,\n",
        "                                                        maxlen=max_label_len,\n",
        "                                                        padding='post',\n",
        "                                                        value=99)\n",
        "\n",
        "# maximum sequence length is 4, hence a word is padded to that length\n",
        "padded_train_words.shape, padded_train_words[0]"
      ],
      "execution_count": null,
      "outputs": [
        {
          "output_type": "stream",
          "text": [
            "21\n"
          ],
          "name": "stdout"
        },
        {
          "output_type": "execute_result",
          "data": {
            "text/plain": [
              "((86810, 21),\n",
              " array([ 7, 13,  8,  1, 99, 99, 99, 99, 99, 99, 99, 99, 99, 99, 99, 99, 99,\n",
              "        99, 99, 99, 99], dtype=int32))"
            ]
          },
          "metadata": {
            "tags": []
          },
          "execution_count": 8
        }
      ]
    },
    {
      "cell_type": "code",
      "metadata": {
        "id": "6aBAK36wos4G",
        "colab": {
          "base_uri": "https://localhost:8080/",
          "height": 34
        },
        "outputId": "0fd73f14-d28d-4dbc-f0f1-95d4dadbc38f"
      },
      "source": [
        "# unique characters\n",
        "len(tokenizer.word_index)"
      ],
      "execution_count": null,
      "outputs": [
        {
          "output_type": "execute_result",
          "data": {
            "text/plain": [
              "52"
            ]
          },
          "metadata": {
            "tags": []
          },
          "execution_count": 9
        }
      ]
    },
    {
      "cell_type": "code",
      "metadata": {
        "id": "nU9pG8p8nRd_"
      },
      "source": [
        "# view some integer mappings\n",
        "def process_word(word):\n",
        "    processed_word = []\n",
        "    for i in word:\n",
        "        if i != 99:\n",
        "            processed_word.append(tokenizer.index_word[i])\n",
        "    return \"\".join(processed_word)\n",
        "\n",
        "def view_sample_mappings(sample_padded_words):\n",
        "    for t in sample_padded_words:\n",
        "        word = process_word(t)\n",
        "        print (f\"{t.tolist()}----> {word}\")"
      ],
      "execution_count": null,
      "outputs": []
    },
    {
      "cell_type": "code",
      "metadata": {
        "id": "V5Z3bGvk7n9e",
        "colab": {
          "base_uri": "https://localhost:8080/",
          "height": 867
        },
        "outputId": "3af0cdc9-672d-47fd-f14d-c9be55b742b8"
      },
      "source": [
        "view_sample_mappings(padded_train_words[:50])"
      ],
      "execution_count": null,
      "outputs": [
        {
          "output_type": "stream",
          "text": [
            "[7, 13, 8, 1, 99, 99, 99, 99, 99, 99, 99, 99, 99, 99, 99, 99, 99, 99, 99, 99, 99]----> sure\n",
            "[9, 1, 99, 99, 99, 99, 99, 99, 99, 99, 99, 99, 99, 99, 99, 99, 99, 99, 99, 99, 99]----> he\n",
            "[11, 13, 8, 5, 6, 17, 99, 99, 99, 99, 99, 99, 99, 99, 99, 99, 99, 99, 99, 99, 99]----> during\n",
            "[4, 15, 99, 99, 99, 99, 99, 99, 99, 99, 99, 99, 99, 99, 99, 99, 99, 99, 99, 99, 99]----> of\n",
            "[20, 4, 4, 2, 19, 99, 99, 99, 99, 99, 99, 99, 99, 99, 99, 99, 99, 99, 99, 99, 99]----> booty\n",
            "[17, 3, 7, 2, 8, 4, 6, 4, 14, 19, 99, 99, 99, 99, 99, 99, 99, 99, 99, 99, 99]----> gastronomy\n",
            "[20, 4, 19, 99, 99, 99, 99, 99, 99, 99, 99, 99, 99, 99, 99, 99, 99, 99, 99, 99, 99]----> boy\n",
            "[2, 9, 1, 99, 99, 99, 99, 99, 99, 99, 99, 99, 99, 99, 99, 99, 99, 99, 99, 99, 99]----> the\n",
            "[3, 6, 11, 99, 99, 99, 99, 99, 99, 99, 99, 99, 99, 99, 99, 99, 99, 99, 99, 99, 99]----> and\n",
            "[5, 6, 99, 99, 99, 99, 99, 99, 99, 99, 99, 99, 99, 99, 99, 99, 99, 99, 99, 99, 99]----> in\n",
            "[9, 5, 7, 99, 99, 99, 99, 99, 99, 99, 99, 99, 99, 99, 99, 99, 99, 99, 99, 99, 99]----> his\n",
            "[15, 10, 19, 5, 6, 17, 99, 99, 99, 99, 99, 99, 99, 99, 99, 99, 99, 99, 99, 99, 99]----> flying\n",
            "[18, 8, 1, 7, 1, 6, 2, 1, 11, 99, 99, 99, 99, 99, 99, 99, 99, 99, 99, 99, 99]----> presented\n",
            "[6, 4, 99, 99, 99, 99, 99, 99, 99, 99, 99, 99, 99, 99, 99, 99, 99, 99, 99, 99, 99]----> no\n",
            "[3, 7, 99, 99, 99, 99, 99, 99, 99, 99, 99, 99, 99, 99, 99, 99, 99, 99, 99, 99, 99]----> as\n",
            "[15, 1, 16, 99, 99, 99, 99, 99, 99, 99, 99, 99, 99, 99, 99, 99, 99, 99, 99, 99, 99]----> few\n",
            "[16, 4, 8, 24, 99, 99, 99, 99, 99, 99, 99, 99, 99, 99, 99, 99, 99, 99, 99, 99, 99]----> work\n",
            "[4, 15, 99, 99, 99, 99, 99, 99, 99, 99, 99, 99, 99, 99, 99, 99, 99, 99, 99, 99, 99]----> of\n",
            "[5, 2, 1, 14, 7, 99, 99, 99, 99, 99, 99, 99, 99, 99, 99, 99, 99, 99, 99, 99, 99]----> items\n",
            "[2, 4, 4, 24, 99, 99, 99, 99, 99, 99, 99, 99, 99, 99, 99, 99, 99, 99, 99, 99, 99]----> took\n",
            "[27, 99, 99, 99, 99, 99, 99, 99, 99, 99, 99, 99, 99, 99, 99, 99, 99, 99, 99, 99, 99]----> \"\n",
            "[40, 99, 99, 99, 99, 99, 99, 99, 99, 99, 99, 99, 99, 99, 99, 99, 99, 99, 99, 99, 99]----> :\n",
            "[5, 6, 99, 99, 99, 99, 99, 99, 99, 99, 99, 99, 99, 99, 99, 99, 99, 99, 99, 99, 99]----> in\n",
            "[21, 99, 99, 99, 99, 99, 99, 99, 99, 99, 99, 99, 99, 99, 99, 99, 99, 99, 99, 99, 99]----> .\n",
            "[7, 1, 11, 3, 2, 1, 99, 99, 99, 99, 99, 99, 99, 99, 99, 99, 99, 99, 99, 99, 99]----> sedate\n",
            "[4, 23, 1, 8, 99, 99, 99, 99, 99, 99, 99, 99, 99, 99, 99, 99, 99, 99, 99, 99, 99]----> over\n",
            "[14, 13, 12, 9, 99, 99, 99, 99, 99, 99, 99, 99, 99, 99, 99, 99, 99, 99, 99, 99, 99]----> much\n",
            "[12, 4, 14, 18, 1, 10, 10, 1, 11, 99, 99, 99, 99, 99, 99, 99, 99, 99, 99, 99, 99]----> compelled\n",
            "[5, 6, 99, 99, 99, 99, 99, 99, 99, 99, 99, 99, 99, 99, 99, 99, 99, 99, 99, 99, 99]----> in\n",
            "[7, 1, 23, 1, 8, 3, 10, 99, 99, 99, 99, 99, 99, 99, 99, 99, 99, 99, 99, 99, 99]----> several\n",
            "[3, 99, 99, 99, 99, 99, 99, 99, 99, 99, 99, 99, 99, 99, 99, 99, 99, 99, 99, 99, 99]----> a\n",
            "[4, 15, 99, 99, 99, 99, 99, 99, 99, 99, 99, 99, 99, 99, 99, 99, 99, 99, 99, 99, 99]----> of\n",
            "[7, 3, 5, 11, 99, 99, 99, 99, 99, 99, 99, 99, 99, 99, 99, 99, 99, 99, 99, 99, 99]----> said\n",
            "[15, 3, 14, 5, 10, 5, 1, 7, 99, 99, 99, 99, 99, 99, 99, 99, 99, 99, 99, 99, 99]----> families\n",
            "[16, 9, 5, 10, 1, 99, 99, 99, 99, 99, 99, 99, 99, 99, 99, 99, 99, 99, 99, 99, 99]----> while\n",
            "[3, 2, 99, 99, 99, 99, 99, 99, 99, 99, 99, 99, 99, 99, 99, 99, 99, 99, 99, 99, 99]----> at\n",
            "[12, 3, 18, 5, 2, 3, 10, 99, 99, 99, 99, 99, 99, 99, 99, 99, 99, 99, 99, 99, 99]----> capital\n",
            "[3, 99, 99, 99, 99, 99, 99, 99, 99, 99, 99, 99, 99, 99, 99, 99, 99, 99, 99, 99, 99]----> a\n",
            "[17, 1, 2, 99, 99, 99, 99, 99, 99, 99, 99, 99, 99, 99, 99, 99, 99, 99, 99, 99, 99]----> get\n",
            "[3, 99, 99, 99, 99, 99, 99, 99, 99, 99, 99, 99, 99, 99, 99, 99, 99, 99, 99, 99, 99]----> a\n",
            "[8, 1, 3, 7, 4, 6, 3, 20, 10, 19, 99, 99, 99, 99, 99, 99, 99, 99, 99, 99, 99]----> reasonably\n",
            "[2, 9, 4, 13, 17, 9, 2, 99, 99, 99, 99, 99, 99, 99, 99, 99, 99, 99, 99, 99, 99]----> thought\n",
            "[4, 15, 99, 99, 99, 99, 99, 99, 99, 99, 99, 99, 99, 99, 99, 99, 99, 99, 99, 99, 99]----> of\n",
            "[7, 9, 3, 12, 24, 99, 99, 99, 99, 99, 99, 99, 99, 99, 99, 99, 99, 99, 99, 99, 99]----> shack\n",
            "[14, 1, 2, 9, 4, 11, 99, 99, 99, 99, 99, 99, 99, 99, 99, 99, 99, 99, 99, 99, 99]----> method\n",
            "[21, 99, 99, 99, 99, 99, 99, 99, 99, 99, 99, 99, 99, 99, 99, 99, 99, 99, 99, 99, 99]----> .\n",
            "[16, 3, 7, 99, 99, 99, 99, 99, 99, 99, 99, 99, 99, 99, 99, 99, 99, 99, 99, 99, 99]----> was\n",
            "[2, 4, 99, 99, 99, 99, 99, 99, 99, 99, 99, 99, 99, 99, 99, 99, 99, 99, 99, 99, 99]----> to\n",
            "[24, 5, 10, 10, 1, 11, 99, 99, 99, 99, 99, 99, 99, 99, 99, 99, 99, 99, 99, 99, 99]----> killed\n",
            "[7, 2, 13, 15, 15, 99, 99, 99, 99, 99, 99, 99, 99, 99, 99, 99, 99, 99, 99, 99, 99]----> stuff\n"
          ],
          "name": "stdout"
        }
      ]
    },
    {
      "cell_type": "code",
      "metadata": {
        "id": "FhOEwqXcpMPH",
        "colab": {
          "base_uri": "https://localhost:8080/",
          "height": 68
        },
        "outputId": "98df6f59-7747-45ab-99a8-f3fda7717a25"
      },
      "source": [
        "valid_words = [line.split(' ')[8:][0].strip() for line in validationSamples]\n",
        "tokenized_valid_words = tokenizer.texts_to_sequences(valid_words)\n",
        "padded_valid_words = tf.keras.preprocessing.sequence.pad_sequences(tokenized_valid_words,\n",
        "                                                        maxlen=max_label_len,        \n",
        "                                                        padding='post',\n",
        "                                                        value=99)\n",
        "padded_valid_words.shape, padded_valid_words[0]"
      ],
      "execution_count": null,
      "outputs": [
        {
          "output_type": "execute_result",
          "data": {
            "text/plain": [
              "((9646, 21),\n",
              " array([ 3, 20, 10,  1, 99, 99, 99, 99, 99, 99, 99, 99, 99, 99, 99, 99, 99,\n",
              "        99, 99, 99, 99], dtype=int32))"
            ]
          },
          "metadata": {
            "tags": []
          },
          "execution_count": 12
        }
      ]
    },
    {
      "cell_type": "code",
      "metadata": {
        "id": "f1d8444YpgQa",
        "colab": {
          "base_uri": "https://localhost:8080/",
          "height": 867
        },
        "outputId": "32acc4b9-5aca-4231-ce65-2fd20df938a6"
      },
      "source": [
        "view_sample_mappings(padded_valid_words[:50])"
      ],
      "execution_count": null,
      "outputs": [
        {
          "output_type": "stream",
          "text": [
            "[3, 20, 10, 1, 99, 99, 99, 99, 99, 99, 99, 99, 99, 99, 99, 99, 99, 99, 99, 99, 99]----> able\n",
            "[15, 13, 10, 10, 99, 99, 99, 99, 99, 99, 99, 99, 99, 99, 99, 99, 99, 99, 99, 99, 99]----> full\n",
            "[21, 99, 99, 99, 99, 99, 99, 99, 99, 99, 99, 99, 99, 99, 99, 99, 99, 99, 99, 99, 99]----> .\n",
            "[3, 12, 2, 99, 99, 99, 99, 99, 99, 99, 99, 99, 99, 99, 99, 99, 99, 99, 99, 99, 99]----> act\n",
            "[19, 4, 13, 99, 99, 99, 99, 99, 99, 99, 99, 99, 99, 99, 99, 99, 99, 99, 99, 99, 99]----> you\n",
            "[6, 3, 2, 5, 4, 6, 3, 10, 99, 99, 99, 99, 99, 99, 99, 99, 99, 99, 99, 99, 99]----> national\n",
            "[26, 99, 99, 99, 99, 99, 99, 99, 99, 99, 99, 99, 99, 99, 99, 99, 99, 99, 99, 99, 99]----> -\n",
            "[3, 20, 19, 7, 7, 99, 99, 99, 99, 99, 99, 99, 99, 99, 99, 99, 99, 99, 99, 99, 99]----> abyss\n",
            "[7, 3, 5, 11, 99, 99, 99, 99, 99, 99, 99, 99, 99, 99, 99, 99, 99, 99, 99, 99, 99]----> said\n",
            "[5, 6, 99, 99, 99, 99, 99, 99, 99, 99, 99, 99, 99, 99, 99, 99, 99, 99, 99, 99, 99]----> in\n",
            "[3, 23, 5, 3, 2, 5, 4, 6, 99, 99, 99, 99, 99, 99, 99, 99, 99, 99, 99, 99, 99]----> aviation\n",
            "[21, 99, 99, 99, 99, 99, 99, 99, 99, 99, 99, 99, 99, 99, 99, 99, 99, 99, 99, 99, 99]----> .\n",
            "[5, 6, 99, 99, 99, 99, 99, 99, 99, 99, 99, 99, 99, 99, 99, 99, 99, 99, 99, 99, 99]----> in\n",
            "[14, 5, 6, 5, 7, 2, 8, 19, 99, 99, 99, 99, 99, 99, 99, 99, 99, 99, 99, 99, 99]----> ministry\n",
            "[2, 9, 1, 99, 99, 99, 99, 99, 99, 99, 99, 99, 99, 99, 99, 99, 99, 99, 99, 99, 99]----> the\n",
            "[4, 2, 9, 1, 8, 16, 5, 7, 1, 99, 99, 99, 99, 99, 99, 99, 99, 99, 99, 99, 99]----> otherwise\n",
            "[5, 99, 99, 99, 99, 99, 99, 99, 99, 99, 99, 99, 99, 99, 99, 99, 99, 99, 99, 99, 99]----> i\n",
            "[3, 18, 18, 1, 3, 8, 7, 99, 99, 99, 99, 99, 99, 99, 99, 99, 99, 99, 99, 99, 99]----> appears\n",
            "[4, 15, 99, 99, 99, 99, 99, 99, 99, 99, 99, 99, 99, 99, 99, 99, 99, 99, 99, 99, 99]----> of\n",
            "[20, 1, 99, 99, 99, 99, 99, 99, 99, 99, 99, 99, 99, 99, 99, 99, 99, 99, 99, 99, 99]----> be\n",
            "[1, 28, 18, 4, 7, 1, 99, 99, 99, 99, 99, 99, 99, 99, 99, 99, 99, 99, 99, 99, 99]----> expose\n",
            "[11, 1, 15, 1, 6, 12, 1, 99, 99, 99, 99, 99, 99, 99, 99, 99, 99, 99, 99, 99, 99]----> defence\n",
            "[4, 13, 8, 99, 99, 99, 99, 99, 99, 99, 99, 99, 99, 99, 99, 99, 99, 99, 99, 99, 99]----> our\n",
            "[17, 1, 7, 2, 13, 8, 1, 99, 99, 99, 99, 99, 99, 99, 99, 99, 99, 99, 99, 99, 99]----> gesture\n",
            "[19, 4, 13, 99, 99, 99, 99, 99, 99, 99, 99, 99, 99, 99, 99, 99, 99, 99, 99, 99, 99]----> you\n",
            "[22, 99, 99, 99, 99, 99, 99, 99, 99, 99, 99, 99, 99, 99, 99, 99, 99, 99, 99, 99, 99]----> ,\n",
            "[6, 4, 8, 99, 99, 99, 99, 99, 99, 99, 99, 99, 99, 99, 99, 99, 99, 99, 99, 99, 99]----> nor\n",
            "[21, 99, 99, 99, 99, 99, 99, 99, 99, 99, 99, 99, 99, 99, 99, 99, 99, 99, 99, 99, 99]----> .\n",
            "[2, 4, 99, 99, 99, 99, 99, 99, 99, 99, 99, 99, 99, 99, 99, 99, 99, 99, 99, 99, 99]----> to\n",
            "[7, 3, 19, 99, 99, 99, 99, 99, 99, 99, 99, 99, 99, 99, 99, 99, 99, 99, 99, 99, 99]----> say\n",
            "[27, 99, 99, 99, 99, 99, 99, 99, 99, 99, 99, 99, 99, 99, 99, 99, 99, 99, 99, 99, 99]----> \"\n",
            "[3, 20, 4, 13, 2, 99, 99, 99, 99, 99, 99, 99, 99, 99, 99, 99, 99, 99, 99, 99, 99]----> about\n",
            "[13, 7, 99, 99, 99, 99, 99, 99, 99, 99, 99, 99, 99, 99, 99, 99, 99, 99, 99, 99, 99]----> us\n",
            "[1, 12, 4, 6, 4, 14, 5, 12, 99, 99, 99, 99, 99, 99, 99, 99, 99, 99, 99, 99, 99]----> economic\n",
            "[2, 9, 1, 99, 99, 99, 99, 99, 99, 99, 99, 99, 99, 99, 99, 99, 99, 99, 99, 99, 99]----> the\n",
            "[9, 3, 11, 99, 99, 99, 99, 99, 99, 99, 99, 99, 99, 99, 99, 99, 99, 99, 99, 99, 99]----> had\n",
            "[4, 6, 10, 19, 99, 99, 99, 99, 99, 99, 99, 99, 99, 99, 99, 99, 99, 99, 99, 99, 99]----> only\n",
            "[3, 6, 11, 99, 99, 99, 99, 99, 99, 99, 99, 99, 99, 99, 99, 99, 99, 99, 99, 99, 99]----> and\n",
            "[15, 1, 16, 99, 99, 99, 99, 99, 99, 99, 99, 99, 99, 99, 99, 99, 99, 99, 99, 99, 99]----> few\n",
            "[8, 4, 20, 20, 1, 8, 19, 99, 99, 99, 99, 99, 99, 99, 99, 99, 99, 99, 99, 99, 99]----> robbery\n",
            "[20, 19, 99, 99, 99, 99, 99, 99, 99, 99, 99, 99, 99, 99, 99, 99, 99, 99, 99, 99, 99]----> by\n",
            "[16, 1, 1, 24, 99, 99, 99, 99, 99, 99, 99, 99, 99, 99, 99, 99, 99, 99, 99, 99, 99]----> week\n",
            "[12, 5, 8, 12, 13, 14, 7, 2, 3, 6, 12, 1, 7, 99, 99, 99, 99, 99, 99, 99, 99]----> circumstances\n",
            "[9, 4, 10, 11, 7, 99, 99, 99, 99, 99, 99, 99, 99, 99, 99, 99, 99, 99, 99, 99, 99]----> holds\n",
            "[7, 4, 5, 10, 99, 99, 99, 99, 99, 99, 99, 99, 99, 99, 99, 99, 99, 99, 99, 99, 99]----> soil\n",
            "[27, 99, 99, 99, 99, 99, 99, 99, 99, 99, 99, 99, 99, 99, 99, 99, 99, 99, 99, 99, 99]----> \"\n",
            "[4, 12, 12, 13, 8, 99, 99, 99, 99, 99, 99, 99, 99, 99, 99, 99, 99, 99, 99, 99, 99]----> occur\n",
            "[21, 99, 99, 99, 99, 99, 99, 99, 99, 99, 99, 99, 99, 99, 99, 99, 99, 99, 99, 99, 99]----> .\n",
            "[29, 1, 3, 6, 6, 5, 1, 99, 99, 99, 99, 99, 99, 99, 99, 99, 99, 99, 99, 99, 99]----> jeannie\n",
            "[1, 6, 11, 99, 99, 99, 99, 99, 99, 99, 99, 99, 99, 99, 99, 99, 99, 99, 99, 99, 99]----> end\n"
          ],
          "name": "stdout"
        }
      ]
    },
    {
      "cell_type": "code",
      "metadata": {
        "id": "RROe32g7GD6k"
      },
      "source": [
        " # Credit: https://github.com/githubharald/SimpleHTR/blob/master/src/SamplePreprocessor.py\n",
        " def distortion_free_resize(img, imgSize):\n",
        "    # create target image and copy sample image into it\n",
        "    (wt, ht) = imgSize\n",
        "    (h, w) = img.shape\n",
        "    fx = w / wt\n",
        "    fy = h / ht\n",
        "    f = max(fx, fy)\n",
        "    newSize = (max(min(wt, int(w / f)), 1), max(min(ht, int(h / f)), 1)) # scale according to f (result at least 1 and at most wt or ht)\n",
        "    img = cv2.resize(img, newSize)\n",
        "    target = np.ones([ht, wt]) * 255\n",
        "    target[0:newSize[1], 0:newSize[0]] = img\n",
        "\n",
        "    # transpose for TF\n",
        "    img = cv2.transpose(target)\n",
        "\n",
        "    return img"
      ],
      "execution_count": null,
      "outputs": []
    },
    {
      "cell_type": "code",
      "metadata": {
        "id": "f5XfPrBuQdGd"
      },
      "source": [
        "IMG_WIDTH = 128\n",
        "IMG_HEIGHT = 32\n",
        "\n",
        "def process_images(img_path, imgSize=(IMG_WIDTH, IMG_HEIGHT)):    \n",
        "    # read image in grayscale mode\n",
        "    image = cv2.imread(img_path, 0)\n",
        "    # scale pixel values to [0, 1]\n",
        "    image = image.astype(\"float32\")/255\n",
        "    # resize image\n",
        "    image = distortion_free_resize(image, imgSize)\n",
        "    image = np.expand_dims(image, axis=-1) # Add channel otherwise Conv2D won't be compatible\n",
        "\n",
        "    return image"
      ],
      "execution_count": null,
      "outputs": []
    },
    {
      "cell_type": "code",
      "metadata": {
        "id": "EqB7lQTwsTRk",
        "colab": {
          "base_uri": "https://localhost:8080/",
          "height": 83,
          "referenced_widgets": [
            "2b43f57707b949f7af587df2f98055cf",
            "3352fa3b4ad8478690b09745d653859c",
            "357dd888cbf14c11a6309ae9fa7b395b",
            "25008a11bdb04d2fb4588f98821234ce",
            "053f60bfdf9e4d53b80c81f26b88ed16",
            "bd0f97b5663c470c94363c4773b2f896",
            "d17bc71794f44d2c95fe31139ecde18c",
            "8334a20cf60f4c4582df0b7f20996ee3"
          ]
        },
        "outputId": "bbd80887-1425-4b12-d790-3693c8990c98"
      },
      "source": [
        "train_images = np.zeros(shape=(len(trainSamples), IMG_WIDTH, IMG_HEIGHT, 1))\n",
        "for (i, file_line) in enumerate(tqdm(trainSamples)):\n",
        "    lineSplit = file_line.strip()\n",
        "    lineSplit = lineSplit.split(\" \")\n",
        "    # part1/part1-part2/part1-part2-part3.png\n",
        "    imageName = lineSplit[0] \n",
        "    partI = imageName.split(\"-\")[0]\n",
        "    partII = imageName.split(\"-\")[1]\n",
        "    img_path =  os.path.join(\"/content/data/words/\", partI, \n",
        "                partI + '-' + partII,\n",
        "                imageName + \".png\"\n",
        "    )\n",
        "    if os.path.getsize(img_path)!=0:\n",
        "        preprocessed_image = process_images(img_path)\n",
        "    \n",
        "    train_images[i] = preprocessed_image\n",
        "\n",
        "train_images.shape"
      ],
      "execution_count": null,
      "outputs": [
        {
          "output_type": "display_data",
          "data": {
            "application/vnd.jupyter.widget-view+json": {
              "model_id": "2b43f57707b949f7af587df2f98055cf",
              "version_minor": 0,
              "version_major": 2
            },
            "text/plain": [
              "HBox(children=(FloatProgress(value=0.0, max=86810.0), HTML(value='')))"
            ]
          },
          "metadata": {
            "tags": []
          }
        },
        {
          "output_type": "stream",
          "text": [
            "\n"
          ],
          "name": "stdout"
        },
        {
          "output_type": "execute_result",
          "data": {
            "text/plain": [
              "(86810, 128, 32, 1)"
            ]
          },
          "metadata": {
            "tags": []
          },
          "execution_count": 17
        }
      ]
    },
    {
      "cell_type": "code",
      "metadata": {
        "id": "vFXR2IvRxLAu",
        "colab": {
          "base_uri": "https://localhost:8080/",
          "height": 83,
          "referenced_widgets": [
            "ba2c3ae75357415083989b27b9823eac",
            "013a226fa310490db468bb96390680cc",
            "f2835f5c8f1d45a2a9b6d9e245729fa8",
            "c1f9b831a3504a6aaa3b4373ff261230",
            "ac29e644ff774fc9b82a9fd326fa45ce",
            "0250a933d69944c3ada84553dd54200c",
            "a21ea9de433d4f92bbc37eb00bc0cbaa",
            "936ac4151f5f46c88abfaaa3890c4f08"
          ]
        },
        "outputId": "cbd35cbd-215b-41a4-fd83-20168a7c29e5"
      },
      "source": [
        "validation_images = np.zeros(shape=(len(validationSamples), IMG_WIDTH, IMG_HEIGHT, 1))\n",
        "for (i, file_line) in enumerate(tqdm(validationSamples)):\n",
        "    lineSplit = file_line.strip()\n",
        "    lineSplit = lineSplit.split(\" \")\n",
        "    # part1/part1-part2/part1-part2-part3.png\n",
        "    imageName = lineSplit[0] \n",
        "    partI = imageName.split(\"-\")[0]\n",
        "    partII = imageName.split(\"-\")[1]\n",
        "    img_path =  os.path.join(\"/content/data/words/\", partI, \n",
        "                partI + '-' + partII,\n",
        "                imageName + \".png\"\n",
        "    )\n",
        "    if os.path.getsize(img_path)!=0:\n",
        "        preprocessed_image = process_images(img_path)\n",
        "    \n",
        "    validation_images[i] = preprocessed_image\n",
        "\n",
        "validation_images.shape"
      ],
      "execution_count": null,
      "outputs": [
        {
          "output_type": "display_data",
          "data": {
            "application/vnd.jupyter.widget-view+json": {
              "model_id": "ba2c3ae75357415083989b27b9823eac",
              "version_minor": 0,
              "version_major": 2
            },
            "text/plain": [
              "HBox(children=(FloatProgress(value=0.0, max=9646.0), HTML(value='')))"
            ]
          },
          "metadata": {
            "tags": []
          }
        },
        {
          "output_type": "stream",
          "text": [
            "\n"
          ],
          "name": "stdout"
        },
        {
          "output_type": "execute_result",
          "data": {
            "text/plain": [
              "(9646, 128, 32, 1)"
            ]
          },
          "metadata": {
            "tags": []
          },
          "execution_count": 18
        }
      ]
    },
    {
      "cell_type": "code",
      "metadata": {
        "id": "9cv3QeQ-SGJS"
      },
      "source": [
        "# Construct TensorFlow datasets\n",
        "\n",
        "BS = 64\n",
        "AUTOTUNE = tf.data.experimental.AUTOTUNE\n",
        "\n",
        "def make_dicts(image, label):\n",
        "    return {\"image\": image, \"label\": label}\n",
        "\n",
        "train_dataset = tf.data.Dataset.from_tensor_slices((train_images, padded_train_words))\n",
        "train_dataset = (train_dataset\n",
        "    .shuffle(1024)\n",
        "    .map(make_dicts, num_parallel_calls=AUTOTUNE)\n",
        "    .cache()\n",
        "    .batch(BS)\n",
        "    .prefetch(AUTOTUNE)\n",
        ")\n",
        "\n",
        "validation_dataset = tf.data.Dataset.from_tensor_slices((validation_images, padded_valid_words))\n",
        "validation_dataset = (validation_dataset\n",
        "    .map(make_dicts, num_parallel_calls=AUTOTUNE)\n",
        "    .cache()\n",
        "    .batch(BS)\n",
        "    .prefetch(AUTOTUNE)\n",
        ")"
      ],
      "execution_count": null,
      "outputs": []
    },
    {
      "cell_type": "code",
      "metadata": {
        "id": "doV5CtiBVgMQ"
      },
      "source": [
        "def plot_samples(images, labels):\n",
        "    _, ax = plt.subplots(4, 4, figsize=(12, 12))\n",
        "    for i in range(16):\n",
        "        img = (images[i] * 255).numpy().astype(\"uint8\")\n",
        "        label = process_word(labels[i].numpy())\n",
        "        ax[i // 4, i % 4].imshow(img.squeeze(-1).T, cmap=\"gray\")\n",
        "        ax[i // 4, i % 4].set_title(label)\n",
        "        ax[i // 4, i % 4].axis(\"off\")\n",
        "    plt.show()"
      ],
      "execution_count": null,
      "outputs": []
    },
    {
      "cell_type": "code",
      "metadata": {
        "id": "SvslZTljVtQ6",
        "colab": {
          "base_uri": "https://localhost:8080/",
          "height": 594
        },
        "outputId": "6691aaea-27c8-4fe3-dee1-af49b6d788e4"
      },
      "source": [
        "batch = next(iter(train_dataset))\n",
        "plot_samples(batch[\"image\"], batch[\"label\"])"
      ],
      "execution_count": null,
      "outputs": [
        {
          "output_type": "display_data",
          "data": {
            "image/png": "[encoded data removed]",
            "text/plain": [
              "<Figure size 864x864 with 16 Axes>"
            ]
          },
          "metadata": {
            "tags": [],
            "needs_background": "light"
          }
        }
      ]
    },
    {
      "cell_type": "code",
      "metadata": {
        "id": "k0vK7Tr0W3PM",
        "colab": {
          "base_uri": "https://localhost:8080/",
          "height": 34
        },
        "outputId": "139b785b-95db-43e3-8209-d4822a118c6a"
      },
      "source": [
        "batch[\"image\"].shape, batch[\"label\"].shape"
      ],
      "execution_count": null,
      "outputs": [
        {
          "output_type": "execute_result",
          "data": {
            "text/plain": [
              "(TensorShape([64, 128, 32, 1]), TensorShape([64, 21]))"
            ]
          },
          "metadata": {
            "tags": []
          },
          "execution_count": 22
        }
      ]
    },
    {
      "cell_type": "code",
      "metadata": {
        "id": "R83VTnFL2vJb",
        "colab": {
          "base_uri": "https://localhost:8080/",
          "height": 35
        },
        "outputId": "b1d40297-cce0-4cc7-c55b-2b6dedd8b4da"
      },
      "source": [
        "tokenizer.index_word[52]"
      ],
      "execution_count": null,
      "outputs": [
        {
          "output_type": "execute_result",
          "data": {
            "application/vnd.google.colaboratory.intrinsic+json": {
              "type": "string"
            },
            "text/plain": [
              "'*'"
            ]
          },
          "metadata": {
            "tags": []
          },
          "execution_count": 23
        }
      ]
    },
    {
      "cell_type": "markdown",
      "metadata": {
        "id": "7KQ8ueDJb46h"
      },
      "source": [
        "## Model building"
      ]
    },
    {
      "cell_type": "code",
      "metadata": {
        "id": "QZRjUkjyWUXl",
        "colab": {
          "base_uri": "https://localhost:8080/",
          "height": 612
        },
        "outputId": "3bea66d4-a535-47f8-abc5-248adad96ccb"
      },
      "source": [
        "class CTCLayer( tf.keras.layers.Layer):\n",
        "    def __init__(self, name=None):\n",
        "        super().__init__(name=name)\n",
        "        self.loss_fn = tf.keras.backend.ctc_batch_cost\n",
        "\n",
        "    def call(self, y_true, y_pred):\n",
        "        # Compute the training-time loss value and add it\n",
        "        # to the layer using `self.add_loss()`.\n",
        "        # y_true = tf.cast(y_true, tf.float32)\n",
        "        # y_pred = tf.cast(y_pred, tf.float32)\n",
        "        \n",
        "        batch_len = tf.cast(tf.shape(y_true)[0], dtype=\"int64\")\n",
        "        input_length = tf.cast(tf.shape(y_pred)[1], dtype=\"int64\")\n",
        "        label_length = tf.cast(tf.shape(y_true)[1], dtype=\"int64\")\n",
        "\n",
        "        input_length = input_length * tf.ones(shape=(batch_len, 1), dtype=\"int64\")\n",
        "        label_length = label_length * tf.ones(shape=(batch_len, 1), dtype=\"int64\")\n",
        "        loss = self.loss_fn(y_true, y_pred, input_length, label_length)\n",
        "        self.add_loss(loss)\n",
        "\n",
        "        # At test time, just return the computed predictions\n",
        "        return y_pred\n",
        "\n",
        "\n",
        "def build_model():\n",
        "    # Inputs to the model\n",
        "    input_img =  tf.keras.layers.Input(\n",
        "        shape=(IMG_WIDTH, IMG_HEIGHT, 1), name=\"image\")\n",
        "    labels =  tf.keras.layers.Input(name=\"label\", shape=(None,))\n",
        "\n",
        "    # First conv block\n",
        "    x = tf.keras.layers.Conv2D(\n",
        "        32,\n",
        "        (3, 3),\n",
        "        activation=\"relu\",\n",
        "        kernel_initializer=\"he_normal\",\n",
        "        padding=\"same\",\n",
        "        name=\"Conv1\",\n",
        "    )(input_img)\n",
        "    x =  tf.keras.layers.MaxPooling2D((2, 2), name=\"pool1\")(x)\n",
        "\n",
        "    # Second conv block\n",
        "    x =  tf.keras.layers.Conv2D(\n",
        "        64,\n",
        "        (3, 3),\n",
        "        activation=\"relu\",\n",
        "        kernel_initializer=\"he_normal\",\n",
        "        padding=\"same\",\n",
        "        name=\"Conv2\",\n",
        "    )(x)\n",
        "    x =  tf.keras.layers.MaxPooling2D((2, 2), name=\"pool2\")(x)\n",
        "\n",
        "    # We have used two max pool with pool size and strides 2.\n",
        "    # Hence, downsampled feature maps are 4x smaller. The number of\n",
        "    # filters in the last layer is 64. Reshape accordingly before\n",
        "    # passing the output to the RNN part of the model\n",
        "    new_shape = ((IMG_WIDTH // 4), (IMG_HEIGHT // 4) * 64)\n",
        "    x =  tf.keras.layers.Reshape(target_shape=new_shape, name=\"reshape\")(x)\n",
        "    x =  tf.keras.layers.Dense(64, activation=\"relu\", name=\"dense1\")(x)\n",
        "    x =  tf.keras.layers.Dropout(0.2)(x)\n",
        "\n",
        "    # RNNs\n",
        "    x =  tf.keras.layers.Bidirectional( tf.keras.layers.LSTM(128, return_sequences=True, dropout=0.25))(x)\n",
        "    x =  tf.keras.layers.Bidirectional( tf.keras.layers.LSTM(64, return_sequences=True, dropout=0.25))(x)\n",
        "\n",
        "    # Output layer (the tokenizer is char-level)\n",
        "    # +2 recommendation came from here - https://github.com/MaybeShewill-CV/CRNN_Tensorflow/issues/69#issuecomment-383992527\n",
        "    x =  tf.keras.layers.Dense(len(tokenizer.word_index) + 2, activation=\"softmax\", name=\"dense2\")(x)\n",
        "    \n",
        "    # Add CTC layer for calculating CTC loss at each step\n",
        "    output = CTCLayer(name=\"ctc_loss\")(labels, x)\n",
        "\n",
        "    # Define the model\n",
        "    model =  tf.keras.models.Model(\n",
        "        inputs=[input_img, labels], outputs=output, name=\"ocr_model_v1\"\n",
        "    )\n",
        "    # Optimizer\n",
        "    opt = tf.keras.optimizers.Adam()\n",
        "    # Compile the model and return\n",
        "    model.compile(optimizer=opt)\n",
        "    return model\n",
        "\n",
        "\n",
        "# Get the model\n",
        "model = build_model()\n",
        "model.summary()"
      ],
      "execution_count": null,
      "outputs": [
        {
          "output_type": "stream",
          "text": [
            "Model: \"ocr_model_v1\"\n",
            "__________________________________________________________________________________________________\n",
            "Layer (type)                    Output Shape         Param #     Connected to                     \n",
            "==================================================================================================\n",
            "image (InputLayer)              [(None, 128, 32, 1)] 0                                            \n",
            "__________________________________________________________________________________________________\n",
            "Conv1 (Conv2D)                  (None, 128, 32, 32)  320         image[0][0]                      \n",
            "__________________________________________________________________________________________________\n",
            "pool1 (MaxPooling2D)            (None, 64, 16, 32)   0           Conv1[0][0]                      \n",
            "__________________________________________________________________________________________________\n",
            "Conv2 (Conv2D)                  (None, 64, 16, 64)   18496       pool1[0][0]                      \n",
            "__________________________________________________________________________________________________\n",
            "pool2 (MaxPooling2D)            (None, 32, 8, 64)    0           Conv2[0][0]                      \n",
            "__________________________________________________________________________________________________\n",
            "reshape (Reshape)               (None, 32, 512)      0           pool2[0][0]                      \n",
            "__________________________________________________________________________________________________\n",
            "dense1 (Dense)                  (None, 32, 64)       32832       reshape[0][0]                    \n",
            "__________________________________________________________________________________________________\n",
            "dropout (Dropout)               (None, 32, 64)       0           dense1[0][0]                     \n",
            "__________________________________________________________________________________________________\n",
            "bidirectional (Bidirectional)   (None, 32, 256)      197632      dropout[0][0]                    \n",
            "__________________________________________________________________________________________________\n",
            "bidirectional_1 (Bidirectional) (None, 32, 128)      164352      bidirectional[0][0]              \n",
            "__________________________________________________________________________________________________\n",
            "label (InputLayer)              [(None, None)]       0                                            \n",
            "__________________________________________________________________________________________________\n",
            "dense2 (Dense)                  (None, 32, 54)       6966        bidirectional_1[0][0]            \n",
            "__________________________________________________________________________________________________\n",
            "ctc_loss (CTCLayer)             (None, 32, 54)       0           label[0][0]                      \n",
            "                                                                 dense2[0][0]                     \n",
            "==================================================================================================\n",
            "Total params: 420,598\n",
            "Trainable params: 420,598\n",
            "Non-trainable params: 0\n",
            "__________________________________________________________________________________________________\n"
          ],
          "name": "stdout"
        }
      ]
    },
    {
      "cell_type": "code",
      "metadata": {
        "id": "otS6cwkDax5h",
        "colab": {
          "base_uri": "https://localhost:8080/",
          "height": 51
        },
        "outputId": "f61d6963-f63f-4b6a-c74e-97a2232674f7"
      },
      "source": [
        "# Run a dummy set of samples through the CTC loss\n",
        "outputs = model([batch[\"image\"], batch[\"label\"]])\n",
        "print(outputs.shape)\n",
        "\n",
        "batch_len = tf.cast(tf.shape(batch[\"label\"])[0], dtype=\"int64\")\n",
        "input_length = tf.cast(tf.shape(outputs)[1], dtype=\"int64\")\n",
        "label_length = tf.cast(tf.shape(batch[\"label\"])[1], dtype=\"int64\")\n",
        "\n",
        "input_length = input_length * tf.ones(shape=(batch_len, 1), dtype=\"int64\")\n",
        "label_length = label_length * tf.ones(shape=(batch_len, 1), dtype=\"int64\")\n",
        "\n",
        "print(tf.keras.backend.ctc_batch_cost(batch[\"label\"], outputs, input_length, label_length).shape)"
      ],
      "execution_count": null,
      "outputs": [
        {
          "output_type": "stream",
          "text": [
            "(64, 32, 54)\n",
            "(64, 1)\n"
          ],
          "name": "stdout"
        }
      ]
    },
    {
      "cell_type": "markdown",
      "metadata": {
        "id": "GUCgn5jJb7hP"
      },
      "source": [
        "## Model training"
      ]
    },
    {
      "cell_type": "code",
      "metadata": {
        "id": "zUwk56nCWxxQ",
        "colab": {
          "base_uri": "https://localhost:8080/",
          "height": 1000
        },
        "outputId": "aee862f1-a7e8-4620-8238-7302b486c827"
      },
      "source": [
        "epochs = 100\n",
        "early_stopping_patience = 10\n",
        "early_stopping = tf.keras.callbacks.EarlyStopping(\n",
        "    monitor=\"val_loss\", patience=early_stopping_patience, restore_best_weights=True\n",
        ")\n",
        "\n",
        "# Train the model\n",
        "model = build_model()\n",
        "history = model.fit(\n",
        "    train_dataset,\n",
        "    validation_data=validation_dataset,\n",
        "    epochs=epochs,\n",
        "    callbacks=[early_stopping],\n",
        ")\n"
      ],
      "execution_count": null,
      "outputs": [
        {
          "output_type": "stream",
          "text": [
            "Epoch 1/100\n",
            "1357/1357 [==============================] - 75s 55ms/step - loss: 12.8547 - val_loss: 10.7324\n",
            "Epoch 2/100\n",
            "1357/1357 [==============================] - 73s 54ms/step - loss: 9.9816 - val_loss: 9.1448\n",
            "Epoch 3/100\n",
            "1357/1357 [==============================] - 75s 55ms/step - loss: 8.8444 - val_loss: 7.9497\n",
            "Epoch 4/100\n",
            "1357/1357 [==============================] - 74s 54ms/step - loss: 7.9073 - val_loss: 7.0442\n",
            "Epoch 5/100\n",
            "1357/1357 [==============================] - 71s 53ms/step - loss: 7.1840 - val_loss: 6.3452\n",
            "Epoch 6/100\n",
            "1357/1357 [==============================] - 73s 54ms/step - loss: 6.5705 - val_loss: 5.8407\n",
            "Epoch 7/100\n",
            "1357/1357 [==============================] - 73s 54ms/step - loss: 6.1708 - val_loss: 5.4441\n",
            "Epoch 8/100\n",
            "1357/1357 [==============================] - 74s 55ms/step - loss: 5.8599 - val_loss: 5.2326\n",
            "Epoch 9/100\n",
            "1357/1357 [==============================] - 73s 53ms/step - loss: 5.6290 - val_loss: 5.0546\n",
            "Epoch 10/100\n",
            "1357/1357 [==============================] - 72s 53ms/step - loss: 5.4338 - val_loss: 4.9431\n",
            "Epoch 11/100\n",
            "1357/1357 [==============================] - 73s 54ms/step - loss: 5.2860 - val_loss: 4.8794\n",
            "Epoch 12/100\n",
            "1357/1357 [==============================] - 73s 54ms/step - loss: 5.1566 - val_loss: 4.7415\n",
            "Epoch 13/100\n",
            "1357/1357 [==============================] - 74s 55ms/step - loss: 5.0525 - val_loss: 4.7382\n",
            "Epoch 14/100\n",
            "1357/1357 [==============================] - 74s 55ms/step - loss: 4.9698 - val_loss: 4.6117\n",
            "Epoch 15/100\n",
            "1357/1357 [==============================] - 75s 55ms/step - loss: 4.8779 - val_loss: 4.7641\n",
            "Epoch 16/100\n",
            "1357/1357 [==============================] - 75s 55ms/step - loss: 4.8094 - val_loss: 4.5407\n",
            "Epoch 17/100\n",
            "1357/1357 [==============================] - 74s 55ms/step - loss: 4.7534 - val_loss: 4.6097\n",
            "Epoch 18/100\n",
            "1357/1357 [==============================] - 75s 55ms/step - loss: 4.6878 - val_loss: 4.4509\n",
            "Epoch 19/100\n",
            "1357/1357 [==============================] - 75s 55ms/step - loss: 4.6468 - val_loss: 4.4070\n",
            "Epoch 20/100\n",
            "1357/1357 [==============================] - 76s 56ms/step - loss: 4.5896 - val_loss: 4.4341\n",
            "Epoch 21/100\n",
            "1357/1357 [==============================] - 77s 56ms/step - loss: 4.5505 - val_loss: 4.4284\n",
            "Epoch 22/100\n",
            "1357/1357 [==============================] - 75s 55ms/step - loss: 4.5070 - val_loss: 4.4576\n",
            "Epoch 23/100\n",
            "1357/1357 [==============================] - 74s 55ms/step - loss: 4.4747 - val_loss: 4.3482\n",
            "Epoch 24/100\n",
            "1357/1357 [==============================] - 76s 56ms/step - loss: 4.4358 - val_loss: 4.3871\n",
            "Epoch 25/100\n",
            "1357/1357 [==============================] - 74s 54ms/step - loss: 4.4134 - val_loss: 4.3034\n",
            "Epoch 26/100\n",
            "1357/1357 [==============================] - 74s 54ms/step - loss: 4.3865 - val_loss: 4.2801\n",
            "Epoch 27/100\n",
            "1357/1357 [==============================] - 74s 55ms/step - loss: 4.3466 - val_loss: 4.2941\n",
            "Epoch 28/100\n",
            "1357/1357 [==============================] - 74s 54ms/step - loss: 4.3239 - val_loss: 4.2503\n",
            "Epoch 29/100\n",
            "1357/1357 [==============================] - 74s 54ms/step - loss: 4.3069 - val_loss: 4.2580\n",
            "Epoch 30/100\n",
            "1357/1357 [==============================] - 75s 55ms/step - loss: 4.2786 - val_loss: 4.1765\n",
            "Epoch 31/100\n",
            "1357/1357 [==============================] - 73s 54ms/step - loss: 4.2604 - val_loss: 4.2284\n",
            "Epoch 32/100\n",
            "1357/1357 [==============================] - 75s 55ms/step - loss: 4.2596 - val_loss: 4.2113\n",
            "Epoch 33/100\n",
            "1357/1357 [==============================] - 72s 53ms/step - loss: 4.2460 - val_loss: 4.1998\n",
            "Epoch 34/100\n",
            "1357/1357 [==============================] - 73s 53ms/step - loss: 4.2332 - val_loss: 4.2346\n",
            "Epoch 35/100\n",
            "1357/1357 [==============================] - 73s 54ms/step - loss: 4.1886 - val_loss: 4.1570\n",
            "Epoch 36/100\n",
            "1357/1357 [==============================] - 73s 53ms/step - loss: 4.1790 - val_loss: 4.2310\n",
            "Epoch 37/100\n",
            "1357/1357 [==============================] - 73s 53ms/step - loss: 4.1717 - val_loss: 4.1180\n",
            "Epoch 38/100\n",
            "1357/1357 [==============================] - 72s 53ms/step - loss: 4.1426 - val_loss: 4.1797\n",
            "Epoch 39/100\n",
            "1357/1357 [==============================] - 71s 53ms/step - loss: 4.1258 - val_loss: 4.1767\n",
            "Epoch 40/100\n",
            "1357/1357 [==============================] - 72s 53ms/step - loss: 4.1226 - val_loss: 4.1312\n",
            "Epoch 41/100\n",
            "1357/1357 [==============================] - 72s 53ms/step - loss: 4.1091 - val_loss: 4.1106\n",
            "Epoch 42/100\n",
            "1357/1357 [==============================] - 72s 53ms/step - loss: 4.0876 - val_loss: 4.1312\n",
            "Epoch 43/100\n",
            "1357/1357 [==============================] - 74s 54ms/step - loss: 4.0835 - val_loss: 4.2589\n",
            "Epoch 44/100\n",
            "1357/1357 [==============================] - 73s 54ms/step - loss: 4.0745 - val_loss: 4.1300\n",
            "Epoch 45/100\n",
            "1357/1357 [==============================] - 73s 53ms/step - loss: 4.0589 - val_loss: 4.1566\n",
            "Epoch 46/100\n",
            "1357/1357 [==============================] - 74s 54ms/step - loss: 4.0424 - val_loss: 4.0674\n",
            "Epoch 47/100\n",
            "1357/1357 [==============================] - 74s 55ms/step - loss: 4.0396 - val_loss: 4.1253\n",
            "Epoch 48/100\n",
            "1357/1357 [==============================] - 75s 55ms/step - loss: 4.0139 - val_loss: 4.0835\n",
            "Epoch 49/100\n",
            "1357/1357 [==============================] - 73s 54ms/step - loss: 4.0080 - val_loss: 4.0562\n",
            "Epoch 50/100\n",
            "1357/1357 [==============================] - 74s 55ms/step - loss: 4.0152 - val_loss: 4.0826\n",
            "Epoch 51/100\n",
            "1357/1357 [==============================] - 73s 54ms/step - loss: 3.9932 - val_loss: 4.1248\n",
            "Epoch 52/100\n",
            "1357/1357 [==============================] - 73s 54ms/step - loss: 3.9929 - val_loss: 4.1302\n",
            "Epoch 53/100\n",
            "1357/1357 [==============================] - 73s 54ms/step - loss: 3.9707 - val_loss: 4.1213\n",
            "Epoch 54/100\n",
            "1357/1357 [==============================] - 73s 54ms/step - loss: 3.9713 - val_loss: 4.1698\n",
            "Epoch 55/100\n",
            "1357/1357 [==============================] - 71s 53ms/step - loss: 3.9649 - val_loss: 4.0884\n",
            "Epoch 56/100\n",
            "1357/1357 [==============================] - 72s 53ms/step - loss: 3.9489 - val_loss: 4.0528\n",
            "Epoch 57/100\n",
            "1357/1357 [==============================] - 72s 53ms/step - loss: 3.9386 - val_loss: 4.1103\n",
            "Epoch 58/100\n",
            "1357/1357 [==============================] - 70s 51ms/step - loss: 3.9321 - val_loss: 4.0751\n",
            "Epoch 59/100\n",
            "1357/1357 [==============================] - 70s 51ms/step - loss: 3.9412 - val_loss: 4.0193\n",
            "Epoch 60/100\n",
            "1357/1357 [==============================] - 72s 53ms/step - loss: 3.9240 - val_loss: 4.1487\n",
            "Epoch 61/100\n",
            "1357/1357 [==============================] - 71s 52ms/step - loss: 3.9298 - val_loss: 4.0990\n",
            "Epoch 62/100\n",
            "1357/1357 [==============================] - 69s 51ms/step - loss: 3.9174 - val_loss: 4.0348\n",
            "Epoch 63/100\n",
            "1357/1357 [==============================] - 71s 53ms/step - loss: 3.9081 - val_loss: 4.1639\n",
            "Epoch 64/100\n",
            "1357/1357 [==============================] - 70s 51ms/step - loss: 3.8834 - val_loss: 4.0169\n",
            "Epoch 65/100\n",
            "1357/1357 [==============================] - 71s 53ms/step - loss: 3.8850 - val_loss: 4.0016\n",
            "Epoch 66/100\n",
            "1357/1357 [==============================] - 70s 52ms/step - loss: 3.8791 - val_loss: 4.0699\n",
            "Epoch 67/100\n",
            "1357/1357 [==============================] - 70s 51ms/step - loss: 3.8765 - val_loss: 4.0234\n",
            "Epoch 68/100\n",
            "1357/1357 [==============================] - 69s 51ms/step - loss: 3.8802 - val_loss: 4.1107\n",
            "Epoch 69/100\n",
            "1357/1357 [==============================] - 69s 51ms/step - loss: 3.8612 - val_loss: 4.0255\n",
            "Epoch 70/100\n",
            "1357/1357 [==============================] - 68s 50ms/step - loss: 3.8797 - val_loss: 3.9634\n",
            "Epoch 71/100\n",
            "1357/1357 [==============================] - 70s 52ms/step - loss: 3.8537 - val_loss: 4.0298\n",
            "Epoch 72/100\n",
            "1357/1357 [==============================] - 69s 51ms/step - loss: 3.8543 - val_loss: 4.0598\n",
            "Epoch 73/100\n",
            "1357/1357 [==============================] - 68s 50ms/step - loss: 3.8574 - val_loss: 4.0406\n",
            "Epoch 74/100\n",
            "1357/1357 [==============================] - 71s 53ms/step - loss: 3.8410 - val_loss: 4.0091\n",
            "Epoch 75/100\n",
            "1357/1357 [==============================] - 72s 53ms/step - loss: 3.8364 - val_loss: 4.0175\n",
            "Epoch 76/100\n",
            "1357/1357 [==============================] - 71s 53ms/step - loss: 3.8284 - val_loss: 3.9793\n",
            "Epoch 77/100\n",
            "1357/1357 [==============================] - 72s 53ms/step - loss: 3.8065 - val_loss: 4.0374\n",
            "Epoch 78/100\n",
            "1357/1357 [==============================] - 71s 53ms/step - loss: 3.8164 - val_loss: 3.9793\n",
            "Epoch 79/100\n",
            "1357/1357 [==============================] - 71s 52ms/step - loss: 3.7957 - val_loss: 4.0684\n",
            "Epoch 80/100\n",
            "1357/1357 [==============================] - 71s 52ms/step - loss: 3.7909 - val_loss: 3.9699\n"
          ],
          "name": "stdout"
        }
      ]
    },
    {
      "cell_type": "code",
      "metadata": {
        "id": "aakOMS1c4c1I",
        "colab": {
          "base_uri": "https://localhost:8080/",
          "height": 295
        },
        "outputId": "a99bbccc-6696-4f5b-d99d-624bc1d18623"
      },
      "source": [
        "plt.plot(history.history[\"loss\"], label=\"train_loss\")\n",
        "plt.plot(history.history[\"val_loss\"], label=\"val_loss\")\n",
        "plt.xlabel(\"Epochs\")\n",
        "plt.ylabel(\"CTC Loss\")\n",
        "plt.title(\"Model's Loss over Epochs\")\n",
        "plt.legend()\n",
        "plt.show()"
      ],
      "execution_count": null,
      "outputs": [
        {
          "output_type": "display_data",
          "data": {
            "image/png": "[encoded data removed]",
            "text/plain": [
              "<Figure size 432x288 with 1 Axes>"
            ]
          },
          "metadata": {
            "tags": [],
            "needs_background": "light"
          }
        }
      ]
    },
    {
      "cell_type": "code",
      "metadata": {
        "id": "-yyn2luJQ1OU",
        "colab": {
          "base_uri": "https://localhost:8080/",
          "height": 527
        },
        "outputId": "6dbb3da5-1a42-4af6-b1ed-43d705a4353c"
      },
      "source": [
        "# Get the prediction model by extracting layers till the output layer\n",
        "prediction_model = tf.keras.models.Model(\n",
        "    model.get_layer(name=\"image\").input, model.get_layer(name=\"dense2\").output\n",
        ")\n",
        "prediction_model.summary()"
      ],
      "execution_count": null,
      "outputs": [
        {
          "output_type": "stream",
          "text": [
            "Model: \"functional_1\"\n",
            "_________________________________________________________________\n",
            "Layer (type)                 Output Shape              Param #   \n",
            "=================================================================\n",
            "image (InputLayer)           [(None, 128, 32, 1)]      0         \n",
            "_________________________________________________________________\n",
            "Conv1 (Conv2D)               (None, 128, 32, 32)       320       \n",
            "_________________________________________________________________\n",
            "pool1 (MaxPooling2D)         (None, 64, 16, 32)        0         \n",
            "_________________________________________________________________\n",
            "Conv2 (Conv2D)               (None, 64, 16, 64)        18496     \n",
            "_________________________________________________________________\n",
            "pool2 (MaxPooling2D)         (None, 32, 8, 64)         0         \n",
            "_________________________________________________________________\n",
            "reshape (Reshape)            (None, 32, 512)           0         \n",
            "_________________________________________________________________\n",
            "dense1 (Dense)               (None, 32, 64)            32832     \n",
            "_________________________________________________________________\n",
            "dropout_1 (Dropout)          (None, 32, 64)            0         \n",
            "_________________________________________________________________\n",
            "bidirectional_2 (Bidirection (None, 32, 256)           197632    \n",
            "_________________________________________________________________\n",
            "bidirectional_3 (Bidirection (None, 32, 128)           164352    \n",
            "_________________________________________________________________\n",
            "dense2 (Dense)               (None, 32, 54)            6966      \n",
            "=================================================================\n",
            "Total params: 420,598\n",
            "Trainable params: 420,598\n",
            "Non-trainable params: 0\n",
            "_________________________________________________________________\n"
          ],
          "name": "stdout"
        }
      ]
    },
    {
      "cell_type": "code",
      "metadata": {
        "id": "0n-ZPN5sRLui"
      },
      "source": [
        "# Reference: https://github.com/rajesh-bhat/spark-ai-summit-2020-text-extraction/blob/master/CRNN_CTC_wandb.ipynb\n",
        "def ctc_decoder(predictions):\n",
        "    '''\n",
        "    input: given batch of predictions from text rec model\n",
        "    output: return lists of raw extracted text\n",
        "\n",
        "    '''\n",
        "    text_list = []\n",
        "    \n",
        "    pred_indcies = np.argmax(predictions, axis=2)\n",
        "    \n",
        "    for i in range(pred_indcies.shape[0]):\n",
        "        ans = \"\"\n",
        "        \n",
        "        ## merge repeats\n",
        "        merged_list = [k for k,_ in groupby(pred_indcies[i])]\n",
        "        \n",
        "        ## remove blanks\n",
        "        for p in merged_list:\n",
        "            if p != len(tokenizer.index_word) + 1:\n",
        "                ans += tokenizer.index_word[int(p)]\n",
        "        \n",
        "        text_list.append(ans)\n",
        "        \n",
        "    return text_list"
      ],
      "execution_count": null,
      "outputs": []
    },
    {
      "cell_type": "code",
      "metadata": {
        "id": "JI5nbx2xRm7R",
        "colab": {
          "base_uri": "https://localhost:8080/",
          "height": 594
        },
        "outputId": "a3eaad8d-2703-49be-bb19-2ac749abc54a"
      },
      "source": [
        "#  Let's check results on some validation samples\n",
        "for batch in validation_dataset.take(1):\n",
        "\n",
        "    batch_images = batch[\"image\"]\n",
        "    batch_labels = batch[\"label\"]\n",
        "\n",
        "    preds = prediction_model.predict(batch_images)\n",
        "    pred_texts = ctc_decoder(preds)\n",
        "\n",
        "    fig , ax = plt.subplots(4, 4, figsize=(12, 12))\n",
        "    for i in range(16):\n",
        "\n",
        "        img = (batch_images[i, :, :, 0] * 255).numpy().astype(np.uint8)\n",
        "        title = f\"Prediction: {pred_texts[i]}\"\n",
        "        ax[i // 4, i % 4].imshow(img.T, cmap=\"gray\")\n",
        "        ax[i // 4, i % 4].set_title(title)\n",
        "        ax[i // 4, i % 4].axis(\"off\")\n",
        "        \n",
        "plt.show()"
      ],
      "execution_count": null,
      "outputs": [
        {
          "output_type": "display_data",
          "data": {
            "image/png": "[encoded data removed]",
            "text/plain": [
              "<Figure size 864x864 with 16 Axes>"
            ]
          },
          "metadata": {
            "tags": [],
            "needs_background": "light"
          }
        }
      ]
    }
  ]
}